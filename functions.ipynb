{
 "cells": [
  {
   "cell_type": "markdown",
   "metadata": {},
   "source": [
    "1.이미지 얼굴 검출하기"
   ]
  },
  {
   "cell_type": "code",
   "execution_count": 5,
   "metadata": {},
   "outputs": [],
   "source": [
    "import numpy as np\n",
    "import cv2\n",
    "\n",
    "font = cv2.FONT_HERSHEY_SIMPLEX\n",
    "def faceDetect():\n",
    "    eye_detect = True\n",
    "    face_cascade = cv2.CascadeClassifier('datasets/haarcascade_frontface.xml')\n",
    "    eye_cascade = cv2.CascadeClassifier('datasets/haarcascade_eye.xml')\n",
    "    info = ''\n",
    "    \n",
    "    try:\n",
    "        imgfile = 'image/people3.jpg' #이미지 저장 디렉토리\n",
    "        frame = cv2.imread(imgfile, cv2.IMREAD_COLOR) # 이미지 불러오기\n",
    "    except:\n",
    "        print('이미지 로딩 실패')\n",
    "        return\n",
    "            \n",
    "    if eye_detect:\n",
    "        info = 'Eye Detection On'\n",
    "    else:\n",
    "        info = 'Eye Detection Off'\n",
    "            \n",
    "    gray = cv2.cvtColor(frame, cv2.COLOR_BGR2GRAY)\n",
    "    faces = face_cascade.detectMultiScale(gray, 1.3, 5)\n",
    "    \n",
    "    cv2.putText(frame, info, (5, 15), font, 0.5, (255,0,255), 1)\n",
    "    \n",
    "    face_number, xywh = faces.shape\n",
    "    sub_img = {}\n",
    "\n",
    "    \n",
    "    for i in range(face_number):\n",
    "        x, y, w, h = faces[i]\n",
    "        sub_img[i] = gray[y:y+w,x:x+h] \n",
    "        cv2.imshow('face%s'%i,sub_img[i])      \n",
    "        \n",
    "    cv2.waitKey(0)\n",
    "    \n",
    "    k = cv2.waitKey(0) & 0xFF\n",
    "    if k ==27:  #ESC\n",
    "        cv2.destroyAllWindows()  \n",
    "    elif k == ord('c'):\n",
    "        for i in range(face_number):\n",
    "            savedir = 'facesets/people' + str(i) + '.jpg'\n",
    "            cv2.imwrite(savedir,sub_img[i])\n",
    "        cv2.destroyAllWindows()\n",
    "\n",
    "faceDetect()"
   ]
  },
  {
   "cell_type": "markdown",
   "metadata": {},
   "source": [
    "2.이미지 사이즈 바꾸기"
   ]
  },
  {
   "cell_type": "code",
   "execution_count": 1,
   "metadata": {},
   "outputs": [],
   "source": [
    "def resizing(img,L=244):\n",
    "    \n",
    "    img2 = cv2.resize(img, (L,L), fx=1, fy=1, interpolation=cv2.INTER_AREA)\n",
    "    \n",
    "    return img2"
   ]
  },
  {
   "cell_type": "markdown",
   "metadata": {},
   "source": [
    "3.detect face_landmark"
   ]
  },
  {
   "cell_type": "code",
   "execution_count": 2,
   "metadata": {},
   "outputs": [],
   "source": [
    "#change from coordinate to np \n",
    "def shape_to_np(shape, dtype=\"int\"):\n",
    "    coords = np.zeros((68,2), dtype=dtype)\n",
    "    \n",
    "    #2-tuple of (x,y)-coordinates\n",
    "    for i in range(68):\n",
    "        coords[i] = (shape.part(i).x, shape.part(i).y)\n",
    "        \n",
    "    return coords"
   ]
  },
  {
   "cell_type": "code",
   "execution_count": 3,
   "metadata": {},
   "outputs": [],
   "source": [
    "def landmark_detect(frame):\n",
    "    \n",
    "    #face detector(HOG-based), facial landmark predictor\n",
    "    detector = dlib.get_frontal_face_detector()\n",
    "    predictor = dlib.shape_predictor('shape_predictor_68_face_landmarks.dat')\n",
    "\n",
    "    gray = cv2.cvtColor(frame, cv2.COLOR_BGR2GRAY)\n",
    "    gray = resizing(gray,L=244)\n",
    "    rects = detector(gray, 1)\n",
    "    board = np.zeros((244,244,3), np.uint8)\n",
    "\n",
    "\n",
    "    for (i,rect) in enumerate(rects):\n",
    "    \n",
    "#landmark shape 예측\n",
    "        shape = predictor(gray, rect)\n",
    "        shape = shape_to_np(shape)\n",
    "\n",
    "        for (x, y) in shape:\n",
    "            cv2.circle(board, (x, y), 1, (0, 0, 255), -1)\n",
    "\n",
    "# show the output image with the face detections + facial landmarks\n",
    "    cv2.imshow(\"Output\", board)\n",
    "    cv2.waitKey(0)\n",
    "    \n",
    "    k = cv2.waitKey(0) & 0xFF\n",
    "    if k ==27:  #ESC\n",
    "        cv2.destroyAllWindows()  \n",
    "    elif k == ord('c'):\n",
    "        cv2.imwrite('marksets/save',board)\n",
    "        cv2.destroyAllWindows()\n"
   ]
  },
  {
   "cell_type": "code",
   "execution_count": 8,
   "metadata": {},
   "outputs": [],
   "source": [
    "import cv2\n",
    "import numpy as np\n",
    "import dlib\n",
    "\n",
    "imgfile = 'facesets/people34.jpg' #이미지 저장 디렉토리\n",
    "frame = cv2.imread(imgfile, cv2.IMREAD_COLOR) # 이미지 불러오기\n",
    "\n",
    "landmark_detect(frame)"
   ]
  }
 ],
 "metadata": {
  "kernelspec": {
   "display_name": "Python 3",
   "language": "python",
   "name": "python3"
  },
  "language_info": {
   "codemirror_mode": {
    "name": "ipython",
    "version": 3
   },
   "file_extension": ".py",
   "mimetype": "text/x-python",
   "name": "python",
   "nbconvert_exporter": "python",
   "pygments_lexer": "ipython3",
   "version": "3.6.6"
  }
 },
 "nbformat": 4,
 "nbformat_minor": 2
}
