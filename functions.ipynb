{
 "cells": [
  {
   "cell_type": "markdown",
   "metadata": {},
   "source": [
    "1.이미지 얼굴 검출하기"
   ]
  },
  {
   "cell_type": "code",
   "execution_count": 20,
   "metadata": {},
   "outputs": [],
   "source": [
    "import numpy as np\n",
    "import cv2\n",
    "\n",
    "font = cv2.FONT_HERSHEY_SIMPLEX\n",
    "def faceDetect(frame):\n",
    "    eye_detect = True\n",
    "    face_cascade = cv2.CascadeClassifier('datasets/haarcascade_frontface.xml')\n",
    "    eye_cascade = cv2.CascadeClassifier('datasets/haarcascade_eye.xml')\n",
    "    info = ''\n",
    "    \n",
    "            \n",
    "    if eye_detect:\n",
    "        info = 'Eye Detection On'\n",
    "    else:\n",
    "        info = 'Eye Detection Off'\n",
    "            \n",
    "    gray = cv2.cvtColor(frame, cv2.COLOR_BGR2GRAY)\n",
    "    faces = face_cascade.detectMultiScale(gray, 1.3, 5)\n",
    "    \n",
    "    cv2.putText(frame, info, (5, 15), font, 0.5, (255,0,255), 1)\n",
    "    \n",
    "    face_number, xywh = faces.shape\n",
    "    sub_img = {}\n",
    "\n",
    "    \n",
    "    for i in range(face_number):\n",
    "        x, y, w, h = faces[i]\n",
    "        sub_img[i] = gray[y:y+w,x:x+h] \n",
    "        cv2.imshow('face%s'%i,sub_img[i])      \n",
    "        \n",
    "    cv2.waitKey(0)\n",
    "    \n",
    "    k = cv2.waitKey(0) & 0xFF\n",
    "    if k ==27:  #ESC\n",
    "        cv2.destroyAllWindows()  \n",
    "    elif k == ord('c'):\n",
    "        for i in range(face_number):\n",
    "            savedir = 'facesets/people' + str(i) + '.jpg'\n",
    "            cv2.imwrite(savedir,sub_img[i])\n",
    "        cv2.destroyAllWindows()"
   ]
  },
  {
   "cell_type": "markdown",
   "metadata": {},
   "source": [
    "2.이미지 사이즈 바꾸기"
   ]
  },
  {
   "cell_type": "code",
   "execution_count": 2,
   "metadata": {},
   "outputs": [],
   "source": [
    "def resizing(img,L=244):\n",
    "    \n",
    "    img2 = cv2.resize(img, (L,L), fx=1, fy=1, interpolation=cv2.INTER_AREA)\n",
    "    \n",
    "    return img2"
   ]
  },
  {
   "cell_type": "markdown",
   "metadata": {},
   "source": [
    "3.detect face_landmark"
   ]
  },
  {
   "cell_type": "code",
   "execution_count": 3,
   "metadata": {},
   "outputs": [],
   "source": [
    "#change from coordinate to np \n",
    "def shape_to_np(shape, dtype=\"int\"):\n",
    "    coords = np.zeros((68,2), dtype=dtype)\n",
    "    \n",
    "    #2-tuple of (x,y)-coordinates\n",
    "    for i in range(68):\n",
    "        coords[i] = (shape.part(i).x, shape.part(i).y)\n",
    "        \n",
    "    return coords"
   ]
  },
  {
   "cell_type": "code",
   "execution_count": 4,
   "metadata": {},
   "outputs": [],
   "source": [
    "def landmark_detect(frame):\n",
    "    \n",
    "    #face detector(HOG-based), facial landmark predictor\n",
    "    detector = dlib.get_frontal_face_detector()\n",
    "    predictor = dlib.shape_predictor('shape_predictor_68_face_landmarks.dat')\n",
    "\n",
    "    gray = cv2.cvtColor(frame, cv2.COLOR_BGR2GRAY)\n",
    "    gray = resizing(gray,L=244)\n",
    "    rects = detector(gray, 1)\n",
    "    board = np.zeros((244,244,3), np.uint8)\n",
    "\n",
    "\n",
    "    for (i,rect) in enumerate(rects):\n",
    "    \n",
    "#landmark shape 예측\n",
    "        shape = predictor(gray, rect)\n",
    "        shape = shape_to_np(shape)\n",
    "\n",
    "        for (x, y) in shape:\n",
    "            cv2.circle(board, (x, y), 1, (0, 0, 255), -1)\n",
    "\n",
    "# show the output image with the face detections + facial landmarks\n",
    "    cv2.imshow(\"Output\", board)\n",
    "    cv2.waitKey(0)\n",
    "    \n",
    "    k = cv2.waitKey(0) & 0xFF\n",
    "    if k ==27:  #ESC\n",
    "        cv2.destroyAllWindows()  \n",
    "    elif k == ord('c'):\n",
    "        cv2.imwrite('marksets/save',board)\n",
    "        cv2.destroyAllWindows()"
   ]
  },
  {
   "cell_type": "code",
   "execution_count": 22,
   "metadata": {},
   "outputs": [
    {
     "ename": "AttributeError",
     "evalue": "'tuple' object has no attribute 'shape'",
     "output_type": "error",
     "traceback": [
      "\u001b[1;31m---------------------------------------------------------------------------\u001b[0m",
      "\u001b[1;31mAttributeError\u001b[0m                            Traceback (most recent call last)",
      "\u001b[1;32m<ipython-input-22-fefaf2d6fe02>\u001b[0m in \u001b[0;36m<module>\u001b[1;34m()\u001b[0m\n\u001b[0;32m      6\u001b[0m \u001b[0mframe\u001b[0m \u001b[1;33m=\u001b[0m \u001b[0mcv2\u001b[0m\u001b[1;33m.\u001b[0m\u001b[0mimread\u001b[0m\u001b[1;33m(\u001b[0m\u001b[0mimgfile\u001b[0m\u001b[1;33m,\u001b[0m \u001b[0mcv2\u001b[0m\u001b[1;33m.\u001b[0m\u001b[0mIMREAD_COLOR\u001b[0m\u001b[1;33m)\u001b[0m \u001b[1;31m# 이미지 불러오기\u001b[0m\u001b[1;33m\u001b[0m\u001b[0m\n\u001b[0;32m      7\u001b[0m \u001b[1;33m\u001b[0m\u001b[0m\n\u001b[1;32m----> 8\u001b[1;33m \u001b[0mfaceDetect\u001b[0m\u001b[1;33m(\u001b[0m\u001b[0mframe\u001b[0m\u001b[1;33m)\u001b[0m\u001b[1;33m\u001b[0m\u001b[0m\n\u001b[0m\u001b[0;32m      9\u001b[0m \u001b[0mlandmark_detect\u001b[0m\u001b[1;33m(\u001b[0m\u001b[0mframe\u001b[0m\u001b[1;33m)\u001b[0m\u001b[1;33m\u001b[0m\u001b[0m\n",
      "\u001b[1;32m<ipython-input-20-4a6e482bb43e>\u001b[0m in \u001b[0;36mfaceDetect\u001b[1;34m(frame)\u001b[0m\n\u001b[0;32m     20\u001b[0m     \u001b[0mcv2\u001b[0m\u001b[1;33m.\u001b[0m\u001b[0mputText\u001b[0m\u001b[1;33m(\u001b[0m\u001b[0mframe\u001b[0m\u001b[1;33m,\u001b[0m \u001b[0minfo\u001b[0m\u001b[1;33m,\u001b[0m \u001b[1;33m(\u001b[0m\u001b[1;36m5\u001b[0m\u001b[1;33m,\u001b[0m \u001b[1;36m15\u001b[0m\u001b[1;33m)\u001b[0m\u001b[1;33m,\u001b[0m \u001b[0mfont\u001b[0m\u001b[1;33m,\u001b[0m \u001b[1;36m0.5\u001b[0m\u001b[1;33m,\u001b[0m \u001b[1;33m(\u001b[0m\u001b[1;36m255\u001b[0m\u001b[1;33m,\u001b[0m\u001b[1;36m0\u001b[0m\u001b[1;33m,\u001b[0m\u001b[1;36m255\u001b[0m\u001b[1;33m)\u001b[0m\u001b[1;33m,\u001b[0m \u001b[1;36m1\u001b[0m\u001b[1;33m)\u001b[0m\u001b[1;33m\u001b[0m\u001b[0m\n\u001b[0;32m     21\u001b[0m \u001b[1;33m\u001b[0m\u001b[0m\n\u001b[1;32m---> 22\u001b[1;33m     \u001b[0mface_number\u001b[0m\u001b[1;33m,\u001b[0m \u001b[0mxywh\u001b[0m \u001b[1;33m=\u001b[0m \u001b[0mfaces\u001b[0m\u001b[1;33m.\u001b[0m\u001b[0mshape\u001b[0m\u001b[1;33m\u001b[0m\u001b[0m\n\u001b[0m\u001b[0;32m     23\u001b[0m     \u001b[0msub_img\u001b[0m \u001b[1;33m=\u001b[0m \u001b[1;33m{\u001b[0m\u001b[1;33m}\u001b[0m\u001b[1;33m\u001b[0m\u001b[0m\n\u001b[0;32m     24\u001b[0m \u001b[1;33m\u001b[0m\u001b[0m\n",
      "\u001b[1;31mAttributeError\u001b[0m: 'tuple' object has no attribute 'shape'"
     ]
    }
   ],
   "source": [
    "import cv2\n",
    "import numpy as np\n",
    "import dlib\n",
    "\n",
    "imgfile = 'facesets/people30.jpg' #이미지 저장 디렉토리\n",
    "frame = cv2.imread(imgfile, cv2.IMREAD_COLOR) # 이미지 불러오기\n",
    "\n",
    "faceDetect(frame)\n",
    "landmark_detect(frame)"
   ]
  },
  {
   "cell_type": "markdown",
   "metadata": {},
   "source": [
    "4.face_emotion 분류하기(by microsoft face)"
   ]
  },
  {
   "cell_type": "code",
   "execution_count": 11,
   "metadata": {
    "scrolled": true
   },
   "outputs": [
    {
     "name": "stdout",
     "output_type": "stream",
     "text": [
      "[{'faceRectangle': {'top': 887, 'left': 846, 'width': 612, 'height': 612}, 'faceAttributes': {'emotion': {'anger': 0.0, 'contempt': 0.0, 'disgust': 0.0, 'fear': 0.0, 'happiness': 0.0, 'neutral': 1.0, 'sadness': 0.0, 'surprise': 0.0}}}]\n",
      "{'anger': 0.0, 'contempt': 0.0, 'disgust': 0.0, 'fear': 0.0, 'happiness': 0.0, 'neutral': 1.0, 'sadness': 0.0, 'surprise': 0.0}\n"
     ]
    }
   ],
   "source": [
    "import requests\n",
    "# If you are using a Jupyter notebook, uncomment the following line.\n",
    "#%matplotlib inline\n",
    "import matplotlib.pyplot as plt\n",
    "from io import BytesIO\n",
    "\n",
    "# Replace <Subscription Key> with your valid subscription key.\n",
    "subscription_key = \"173bd422f7a94a07887cd4a29b3c29fb\"\n",
    "assert subscription_key\n",
    "\n",
    "# You must use the same region in your REST call as you used to get your\n",
    "# subscription keys. For example, if you got your subscription keys from\n",
    "# westus, replace \"westcentralus\" in the URI below with \"westus\".\n",
    "#\n",
    "# Free trial subscription keys are generated in the westcentralus region.\n",
    "# If you use a free trial subscription key, you shouldn't need to change\n",
    "# this region.\n",
    "vision_base_url = \"https://westcentralus.api.cognitive.microsoft.com/face/v1.0/detect\"\n",
    "\n",
    "# Set image_path to the local path of an image that you want to analyze.\n",
    "image_path = \"image/lena.jpg\"\n",
    "\n",
    "# Read the image into a byte array\n",
    "image_data = open(image_path, \"rb\").read()\n",
    "headers    = {'Ocp-Apim-Subscription-Key': subscription_key,\n",
    "              'Content-Type': 'application/octet-stream'}\n",
    "params = {\n",
    "    'returnFaceId': 'false',\n",
    "    'returnFaceLandmarks': 'false',\n",
    "    'returnFaceAttributes': 'emotion'\n",
    "}\n",
    "response = requests.post(\n",
    "    vision_base_url, headers=headers, params=params, data=image_data)\n",
    "response.raise_for_status()\n",
    "\n",
    "# The 'analysis' object contains various fields that describe the image. The most\n",
    "# relevant caption for the image is obtained from the 'description' property.\n",
    "analysis = response.json()\n",
    "print(analysis)\n",
    "emotion = analysis[0]['faceAttributes']['emotion']\n",
    "print(emotion)"
   ]
  },
  {
   "cell_type": "code",
   "execution_count": 15,
   "metadata": {},
   "outputs": [],
   "source": [
    "import requests\n",
    "# If you are using a Jupyter notebook, uncomment the following line.\n",
    "#%matplotlib inline\n",
    "import matplotlib.pyplot as plt\n",
    "from io import BytesIO\n",
    "\n",
    "#  ms_faceAPI를 사용하여 emotion dict로 추출\n",
    "def face_classification(img_path):\n",
    "    subscription_key = \"173bd422f7a94a07887cd4a29b3c29fb\"\n",
    "    assert subscription_key\n",
    "\n",
    "# You must use the same region in your REST call as you used to get your\n",
    "# subscription keys. For example, if you got your subscription keys from\n",
    "# westus, replace \"westcentralus\" in the URI below with \"westus\".\n",
    "#\n",
    "# Free trial subscription keys are generated in the westcentralus region.\n",
    "# If you use a free trial subscription key, you shouldn't need to change\n",
    "# this region.\n",
    "    vision_base_url = \"https://westcentralus.api.cognitive.microsoft.com/face/v1.0/detect\"\n",
    "\n",
    "# Set image_path to the local path of an image that you want to analyze.\n",
    "#     image_path = \"image/lena.jpg\"\n",
    "\n",
    "# Read the image into a byte array\n",
    "    image_data = open(image_path, \"rb\").read()\n",
    "    headers    = {'Ocp-Apim-Subscription-Key': subscription_key,\n",
    "              'Content-Type': 'application/octet-stream'}\n",
    "    params = {\n",
    "    'returnFaceId': 'false',\n",
    "    'returnFaceLandmarks': 'false',\n",
    "    'returnFaceAttributes': 'emotion'\n",
    "}\n",
    "    response = requests.post(\n",
    "    vision_base_url, headers=headers, params=params, data=image_data)\n",
    "    response.raise_for_status()\n",
    "\n",
    "# The 'analysis' object contains various fields that describe the image. The most\n",
    "# relevant caption for the image is obtained from the 'description' property.\n",
    "    analysis = response.json()\n",
    "    print(analysis)\n",
    "    emotion = analysis[0]['faceAttributes']['emotion']\n",
    "    return emotion\n",
    "    "
   ]
  },
  {
   "cell_type": "markdown",
   "metadata": {},
   "source": [
    "5.face_emotion저장하기"
   ]
  },
  {
   "cell_type": "code",
   "execution_count": 16,
   "metadata": {},
   "outputs": [],
   "source": [
    "import numpy as np\n",
    "import cv2\n",
    "\n",
    "def save_emotion(image_path,emotion):\n",
    "    frame = cv2.imread(image_path, cv2.IMREAD_COLOR)\n",
    "    \n",
    "    #data 정제(score, class)\n",
    "    emotion_list = [(k,emotion[k]) for k in emotion]\n",
    "    emotion_score = [emotion[k] for k in emotion]\n",
    "    emotion_class = [k for k in emotion]\n",
    "\n",
    "    emotion_score = np.array(emotion_score)\n",
    "    selected_class = emotion_class[np.argmax(emotion_score)]\n",
    "\n",
    "    cv2.imwrite('image/emotion/'+selected_class+'/name.jpg',frame)\n",
    "    "
   ]
  }
 ],
 "metadata": {
  "kernelspec": {
   "display_name": "Python 3",
   "language": "python",
   "name": "python3"
  },
  "language_info": {
   "codemirror_mode": {
    "name": "ipython",
    "version": 3
   },
   "file_extension": ".py",
   "mimetype": "text/x-python",
   "name": "python",
   "nbconvert_exporter": "python",
   "pygments_lexer": "ipython3",
   "version": "3.6.6"
  }
 },
 "nbformat": 4,
 "nbformat_minor": 2
}
