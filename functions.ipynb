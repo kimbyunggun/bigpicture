{
 "cells": [
  {
   "cell_type": "markdown",
   "metadata": {},
   "source": [
    "1.이미지 얼굴 검출하기"
   ]
  },
  {
   "cell_type": "code",
   "execution_count": 1,
   "metadata": {},
   "outputs": [],
   "source": [
    "import numpy as np\n",
    "import cv2\n",
    "\n",
    "font = cv2.FONT_HERSHEY_SIMPLEX\n",
    "def faceDetect(frame):\n",
    "    eye_detect = True\n",
    "    face_cascade = cv2.CascadeClassifier('datasets/haarcascade_frontface.xml')\n",
    "    eye_cascade = cv2.CascadeClassifier('datasets/haarcascade_eye.xml')\n",
    "    info = ''\n",
    "    \n",
    "            \n",
    "    if eye_detect:\n",
    "        info = 'Eye Detection On'\n",
    "    else:\n",
    "        info = 'Eye Detection Off'\n",
    "            \n",
    "    gray = cv2.cvtColor(frame, cv2.COLOR_BGR2GRAY)\n",
    "    faces = face_cascade.detectMultiScale(gray, 1.3, 5)\n",
    "    \n",
    "    cv2.putText(frame, info, (5, 15), font, 0.5, (255,0,255), 1)\n",
    "    \n",
    "    face_number, xywh = faces.shape\n",
    "    sub_img = {}\n",
    "\n",
    "    \n",
    "    for i in range(face_number):\n",
    "        x, y, w, h = faces[i]\n",
    "        sub_img[i] = gray[y:y+w,x:x+h] \n",
    "        cv2.imshow('face%s'%i,sub_img[i])      \n",
    "        \n",
    "    cv2.waitKey(0)\n",
    "    \n",
    "    k = cv2.waitKey(0) & 0xFF\n",
    "    if k ==27:  #ESC\n",
    "        cv2.destroyAllWindows()  \n",
    "    elif k == ord('c'):\n",
    "        for i in range(face_number):\n",
    "            savedir = 'facesets/people' + str(i) + '.jpg'\n",
    "            cv2.imwrite(savedir,sub_img[i])\n",
    "        cv2.destroyAllWindows()"
   ]
  },
  {
   "cell_type": "markdown",
   "metadata": {},
   "source": [
    "2.이미지 사이즈 바꾸기"
   ]
  },
  {
   "cell_type": "code",
   "execution_count": 17,
   "metadata": {},
   "outputs": [],
   "source": [
    "def resizing(img,L=244):\n",
    "    \n",
    "    img2 = cv2.resize(img, (L,L), fx=1, fy=1, interpolation=cv2.INTER_AREA)\n",
    "    \n",
    "    return img2"
   ]
  },
  {
   "cell_type": "markdown",
   "metadata": {},
   "source": [
    "3.detect face_landmark"
   ]
  },
  {
   "cell_type": "code",
   "execution_count": 3,
   "metadata": {},
   "outputs": [],
   "source": [
    "#change from coordinate to np \n",
    "def shape_to_np(shape, dtype=\"int\"):\n",
    "    coords = np.zeros((68,2), dtype=dtype)\n",
    "    \n",
    "    #2-tuple of (x,y)-coordinates\n",
    "    for i in range(68):\n",
    "        coords[i] = (shape.part(i).x, shape.part(i).y)\n",
    "        \n",
    "    return coords"
   ]
  },
  {
   "cell_type": "code",
   "execution_count": 4,
   "metadata": {},
   "outputs": [],
   "source": [
    "def landmark_detect(frame):\n",
    "    \n",
    "    #face detector(HOG-based), facial landmark predictor\n",
    "    detector = dlib.get_frontal_face_detector()\n",
    "    predictor = dlib.shape_predictor('shape_predictor_68_face_landmarks.dat')\n",
    "\n",
    "    gray = cv2.cvtColor(frame, cv2.COLOR_BGR2GRAY)\n",
    "    gray = resizing(gray,L=244)\n",
    "    rects = detector(gray, 1)\n",
    "    board = np.zeros((244,244,3), np.uint8)\n",
    "\n",
    "\n",
    "    for (i,rect) in enumerate(rects):\n",
    "    \n",
    "#landmark shape 예측\n",
    "        shape = predictor(gray, rect)\n",
    "        shape = shape_to_np(shape)\n",
    "\n",
    "        for (x, y) in shape:\n",
    "            cv2.circle(board, (x, y), 1, (0, 0, 255), -1)\n",
    "\n",
    "# show the output image with the face detections + facial landmarks\n",
    "    cv2.imshow(\"Output\", board)\n",
    "    cv2.waitKey(0)\n",
    "    \n",
    "    k = cv2.waitKey(0) & 0xFF\n",
    "    if k ==27:  #ESC\n",
    "        cv2.destroyAllWindows()  \n",
    "    elif k == ord('c'):\n",
    "        cv2.imwrite('marksets/save.jpg',board)\n",
    "        cv2.destroyAllWindows()"
   ]
  },
  {
   "cell_type": "code",
   "execution_count": 5,
   "metadata": {},
   "outputs": [],
   "source": [
    "import cv2\n",
    "import numpy as np\n",
    "import dlib\n",
    "\n",
    "imgfile = 'facesets/people2.jpg' #이미지 저장 디렉토리\n",
    "frame = cv2.imread(imgfile, cv2.IMREAD_COLOR) # 이미지 불러오기\n",
    "\n",
    "landmark_detect(frame)"
   ]
  },
  {
   "cell_type": "markdown",
   "metadata": {},
   "source": [
    "4.face_emotion 분류하기(by microsoft face)"
   ]
  },
  {
   "cell_type": "code",
   "execution_count": 11,
   "metadata": {
    "scrolled": true
   },
   "outputs": [
    {
     "name": "stdout",
     "output_type": "stream",
     "text": [
      "[{'faceRectangle': {'top': 887, 'left': 846, 'width': 612, 'height': 612}, 'faceAttributes': {'emotion': {'anger': 0.0, 'contempt': 0.0, 'disgust': 0.0, 'fear': 0.0, 'happiness': 0.0, 'neutral': 1.0, 'sadness': 0.0, 'surprise': 0.0}}}]\n",
      "{'anger': 0.0, 'contempt': 0.0, 'disgust': 0.0, 'fear': 0.0, 'happiness': 0.0, 'neutral': 1.0, 'sadness': 0.0, 'surprise': 0.0}\n"
     ]
    }
   ],
   "source": [
    "import requests\n",
    "# If you are using a Jupyter notebook, uncomment the following line.\n",
    "#%matplotlib inline\n",
    "import matplotlib.pyplot as plt\n",
    "from io import BytesIO\n",
    "\n",
    "# Replace <Subscription Key> with your valid subscription key.\n",
    "subscription_key = \"173bd422f7a94a07887cd4a29b3c29fb\"\n",
    "assert subscription_key\n",
    "\n",
    "# You must use the same region in your REST call as you used to get your\n",
    "# subscription keys. For example, if you got your subscription keys from\n",
    "# westus, replace \"westcentralus\" in the URI below with \"westus\".\n",
    "#\n",
    "# Free trial subscription keys are generated in the westcentralus region.\n",
    "# If you use a free trial subscription key, you shouldn't need to change\n",
    "# this region.\n",
    "vision_base_url = \"https://westcentralus.api.cognitive.microsoft.com/face/v1.0/detect\"\n",
    "\n",
    "# Set image_path to the local path of an image that you want to analyze.\n",
    "image_path = \"image/lena.jpg\"\n",
    "\n",
    "# Read the image into a byte array\n",
    "image_data = open(image_path, \"rb\").read()\n",
    "headers    = {'Ocp-Apim-Subscription-Key': subscription_key,\n",
    "              'Content-Type': 'application/octet-stream'}\n",
    "params = {\n",
    "    'returnFaceId': 'false',\n",
    "    'returnFaceLandmarks': 'false',\n",
    "    'returnFaceAttributes': 'emotion'\n",
    "}\n",
    "response = requests.post(\n",
    "    vision_base_url, headers=headers, params=params, data=image_data)\n",
    "response.raise_for_status()\n",
    "\n",
    "# The 'analysis' object contains various fields that describe the image. The most\n",
    "# relevant caption for the image is obtained from the 'description' property.\n",
    "analysis = response.json()\n",
    "print(analysis)\n",
    "emotion = analysis[0]['faceAttributes']['emotion']\n",
    "print(emotion)"
   ]
  },
  {
   "cell_type": "code",
   "execution_count": 15,
   "metadata": {},
   "outputs": [],
   "source": [
    "import requests\n",
    "# If you are using a Jupyter notebook, uncomment the following line.\n",
    "#%matplotlib inline\n",
    "import matplotlib.pyplot as plt\n",
    "from io import BytesIO\n",
    "\n",
    "#  ms_faceAPI를 사용하여 emotion dict로 추출\n",
    "def face_classification(img_path):\n",
    "    subscription_key = \"173bd422f7a94a07887cd4a29b3c29fb\"\n",
    "    assert subscription_key\n",
    "\n",
    "# You must use the same region in your REST call as you used to get your\n",
    "# subscription keys. For example, if you got your subscription keys from\n",
    "# westus, replace \"westcentralus\" in the URI below with \"westus\".\n",
    "#\n",
    "# Free trial subscription keys are generated in the westcentralus region.\n",
    "# If you use a free trial subscription key, you shouldn't need to change\n",
    "# this region.\n",
    "    vision_base_url = \"https://westcentralus.api.cognitive.microsoft.com/face/v1.0/detect\"\n",
    "\n",
    "# Set image_path to the local path of an image that you want to analyze.\n",
    "#     image_path = \"image/lena.jpg\"\n",
    "\n",
    "# Read the image into a byte array\n",
    "    image_data = open(image_path, \"rb\").read()\n",
    "    headers    = {'Ocp-Apim-Subscription-Key': subscription_key,\n",
    "              'Content-Type': 'application/octet-stream'}\n",
    "    params = {\n",
    "    'returnFaceId': 'false',\n",
    "    'returnFaceLandmarks': 'false',\n",
    "    'returnFaceAttributes': 'emotion'\n",
    "}\n",
    "    response = requests.post(\n",
    "    vision_base_url, headers=headers, params=params, data=image_data)\n",
    "    response.raise_for_status()\n",
    "\n",
    "# The 'analysis' object contains various fields that describe the image. The most\n",
    "# relevant caption for the image is obtained from the 'description' property.\n",
    "    analysis = response.json()\n",
    "    print(analysis)\n",
    "    emotion = analysis[0]['faceAttributes']['emotion']\n",
    "    return emotion\n",
    "    "
   ]
  },
  {
   "cell_type": "markdown",
   "metadata": {},
   "source": [
    "5.face_emotion저장하기"
   ]
  },
  {
   "cell_type": "code",
   "execution_count": 16,
   "metadata": {},
   "outputs": [],
   "source": [
    "import numpy as np\n",
    "import cv2\n",
    "\n",
    "def save_emotion(image_path,emotion):\n",
    "    frame = cv2.imread(image_path, cv2.IMREAD_COLOR)\n",
    "    \n",
    "    #data 정제(score, class)\n",
    "    emotion_list = [(k,emotion[k]) for k in emotion]\n",
    "    emotion_score = [emotion[k] for k in emotion]\n",
    "    emotion_class = [k for k in emotion]\n",
    "\n",
    "    emotion_score = np.array(emotion_score)\n",
    "    selected_class = emotion_class[np.argmax(emotion_score)]\n",
    "\n",
    "    cv2.imwrite('image/emotion/'+selected_class+'/name.jpg',frame)\n",
    "    "
   ]
  },
  {
   "cell_type": "markdown",
   "metadata": {},
   "source": [
    "6.landmark 를 np data로 "
   ]
  },
  {
   "cell_type": "code",
   "execution_count": 15,
   "metadata": {},
   "outputs": [],
   "source": [
    "import numpy as np\n",
    "import cv2\n",
    "import pickle\n",
    "\n",
    "# numpy 한개당 (2,64) shape 으로 데이터 변환\n",
    "def landmark_to_np(landmark_data):\n",
    "    \n",
    "    coords = np.zeros((68,2), dtype='float32')\n",
    "    \n",
    "    landmark = landmark_data.split(';')\n",
    "    coords = np.array(landmark).reshape(68,2)\n",
    "    return coords"
   ]
  },
  {
   "cell_type": "markdown",
   "metadata": {},
   "source": [
    "6.landmark image으로 만들기"
   ]
  },
  {
   "cell_type": "code",
   "execution_count": 5,
   "metadata": {},
   "outputs": [],
   "source": [
    "import numpy as np\n",
    "import cv2\n",
    "import pickle\n",
    "\n",
    "def landmark_to_image():\n",
    "    with open('faceset.pickle','rb') as f:\n",
    "        faceset = pickle.load(f)\n",
    "    \n",
    "    #limit 414799\n",
    "    for i in range(100):\n",
    "        board = np.zeros((int(faceset['width'][i]),int(faceset['width'][i]),3), np.uint8)\n",
    "        shape = landmark_to_np(faceset['facelandmark'][i])\n",
    "        \n",
    "        for (x, y) in shape:\n",
    "            cv2.circle(board, (round(float(x)), round(float(y))), round(int(faceset['width'][i])*0.02), (0, 0, 255), -1)\n",
    "        \n",
    "        #그림크기 일정하게 통일하기\n",
    "        resize_board = resizing(board,L=100)\n",
    "        \n",
    "        cv2.imwrite('marksets/'+str(i)+'.jpg',resize_board)\n",
    "        \n",
    "\n",
    "landmark_to_image()"
   ]
  },
  {
   "cell_type": "code",
   "execution_count": 5,
   "metadata": {},
   "outputs": [
    {
     "name": "stdout",
     "output_type": "stream",
     "text": [
      "74872\n",
      "134409\n",
      "25454\n",
      "14089\n",
      "6378\n",
      "3803\n",
      "24882\n",
      "3750\n",
      "33087\n",
      "11644\n"
     ]
    }
   ],
   "source": [
    "#각 클래스별 데이터 갯수\n",
    "\n",
    "import numpy as np\n",
    "import cv2\n",
    "import pickle\n",
    "\n",
    "with open('faceset.pickle','rb') as f:\n",
    "    faceset = pickle.load(f)\n",
    "    \n",
    "faceset['expression'][1]\n",
    "for i in range(10):\n",
    "    print(faceset['expression'].count(i))"
   ]
  },
  {
   "cell_type": "markdown",
   "metadata": {},
   "source": [
    "0: Neutral, 1:Happiness, 2:Sadness, 3:Surprise, 4:Fear, 5:Disgust, 6:Anger, 7:Contempt, 8:None, 9:Uncertain, 10:No-Face"
   ]
  },
  {
   "cell_type": "code",
   "execution_count": 6,
   "metadata": {},
   "outputs": [],
   "source": [
    "#np를 이용하여 각 클래스별 같은 양의 데이터 만들기\n",
    "faceset_expression_np = np.array(faceset['expression'])"
   ]
  },
  {
   "cell_type": "code",
   "execution_count": 56,
   "metadata": {},
   "outputs": [
    {
     "name": "stdout",
     "output_type": "stream",
     "text": [
      "(1, 74872)\n"
     ]
    }
   ],
   "source": [
    "#trainset 만들기\n",
    "index_0 = np.where(faceset_expression_np == 0)\n",
    "index_1 = np.where(faceset_expression_np == 1)\n",
    "index_2 = np.where(faceset_expression_np == 2)\n",
    "index_3 = np.where(faceset_expression_np == 3)\n",
    "index_4 = np.where(faceset_expression_np == 4)\n",
    "index_5 = np.where(faceset_expression_np == 5)\n",
    "index_6 = np.where(faceset_expression_np == 6)\n",
    "index_7 = np.where(faceset_expression_np == 7)\n",
    "print(np.shape(index_0))\n",
    "\n",
    "train_index_0 = index_0[0][0:3000:1].tolist()\n",
    "train_index_1 = index_1[0][0:3000:1].tolist()\n",
    "train_index_2 = index_2[0][0:3000:1].tolist()\n",
    "train_index_3 = index_3[0][0:3000:1].tolist()\n",
    "train_index_4 = index_4[0][0:3000:1].tolist()\n",
    "train_index_5 = index_5[0][0:3000:1].tolist()\n",
    "train_index_6 = index_6[0][0:3000:1].tolist()\n",
    "train_index_7 = index_7[0][0:3000:1].tolist()\n",
    "\n",
    "train_index = []\n",
    "\n",
    "train_index.append(train_index_0)\n",
    "train_index.append(train_index_1)\n",
    "train_index.append(train_index_2)\n",
    "train_index.append(train_index_3)\n",
    "train_index.append(train_index_4)\n",
    "train_index.append(train_index_5)\n",
    "train_index.append(train_index_6)\n",
    "train_index.append(train_index_7)\n",
    "\n",
    "train_index = np.array(train_index)\n",
    "train_index = np.reshape(train_index, (-1))\n",
    "np.shape(train_index)\n",
    "train_index = train_index.tolist()\n",
    "\n",
    "import random\n",
    "random.shuffle(train_index)\n",
    "\n",
    "#trainset 만들기\n",
    "import csv\n",
    "\n",
    "trainset = {}\n",
    "trainset['width'] = []\n",
    "trainset['facelandmark'] = []\n",
    "trainset['expression'] = []\n",
    "\n",
    "f = open('D:\\workspace/training_AffectNet.csv','r')\n",
    "frd = csv.reader(f)\n",
    "facedata = []\n",
    "\n",
    "for i,line in enumerate(frd):\n",
    "    facedata.append(line)\n",
    "\n",
    "for k in train_index:\n",
    "    trainset['width'].append(facedata[k+1][4])\n",
    "    trainset['facelandmark'].append(facedata[k+1][5])\n",
    "    trainset['expression'].append(int(facedata[k+1][6]))\n",
    "\n",
    "f.close()\n",
    "\n",
    "import pickle\n",
    "with open('face_train_set.pickle','wb') as f:\n",
    "    pickle.dump(trainset, f)\n"
   ]
  },
  {
   "cell_type": "code",
   "execution_count": 9,
   "metadata": {},
   "outputs": [
    {
     "name": "stdout",
     "output_type": "stream",
     "text": [
      "(1, 74872)\n"
     ]
    }
   ],
   "source": [
    "#testSet 만들기\n",
    "index_0 = np.where(faceset_expression_np == 0)\n",
    "index_1 = np.where(faceset_expression_np == 1)\n",
    "index_2 = np.where(faceset_expression_np == 2)\n",
    "index_3 = np.where(faceset_expression_np == 3)\n",
    "index_4 = np.where(faceset_expression_np == 4)\n",
    "index_5 = np.where(faceset_expression_np == 5)\n",
    "index_6 = np.where(faceset_expression_np == 6)\n",
    "index_7 = np.where(faceset_expression_np == 7)\n",
    "print(np.shape(index_0))\n",
    "\n",
    "test_index_0 = index_0[0][3000:3500:1].tolist()\n",
    "test_index_1 = index_1[0][3000:3500:1].tolist()\n",
    "test_index_2 = index_2[0][3000:3500:1].tolist()\n",
    "test_index_3 = index_3[0][3000:3500:1].tolist()\n",
    "test_index_4 = index_4[0][3000:3500:1].tolist()\n",
    "test_index_5 = index_5[0][3000:3500:1].tolist()\n",
    "test_index_6 = index_6[0][3000:3500:1].tolist()\n",
    "test_index_7 = index_7[0][3000:3500:1].tolist()\n",
    "\n",
    "test_index = []\n",
    "\n",
    "test_index.append(test_index_0)\n",
    "test_index.append(test_index_1)\n",
    "test_index.append(test_index_2)\n",
    "test_index.append(test_index_3)\n",
    "test_index.append(test_index_4)\n",
    "test_index.append(test_index_5)\n",
    "test_index.append(test_index_6)\n",
    "test_index.append(test_index_7)\n",
    "\n",
    "test_index = np.array(test_index)\n",
    "test_index = np.reshape(test_index, (-1))\n",
    "np.shape(test_index)\n",
    "test_index = test_index.tolist()\n",
    "\n",
    "import random\n",
    "random.shuffle(test_index)\n",
    "\n",
    "#trainset 만들기\n",
    "import csv\n",
    "\n",
    "testset = {}\n",
    "testset['width'] = []\n",
    "testset['facelandmark'] = []\n",
    "testset['expression'] = []\n",
    "\n",
    "f = open('D:\\workspace/training_AffectNet.csv','r')\n",
    "frd = csv.reader(f)\n",
    "facedata = []\n",
    "\n",
    "for i,line in enumerate(frd):\n",
    "    facedata.append(line)\n",
    "\n",
    "for k in test_index:\n",
    "    testset['width'].append(facedata[k+1][4])\n",
    "    testset['facelandmark'].append(facedata[k+1][5])\n",
    "    testset['expression'].append(int(facedata[k+1][6]))\n",
    "\n",
    "f.close()\n",
    "\n",
    "import pickle\n",
    "with open('face_test_set.pickle','wb') as f:\n",
    "    pickle.dump(testset, f)\n"
   ]
  },
  {
   "cell_type": "markdown",
   "metadata": {},
   "source": [
    "### x_train, y_train"
   ]
  },
  {
   "cell_type": "code",
   "execution_count": 32,
   "metadata": {},
   "outputs": [
    {
     "name": "stdout",
     "output_type": "stream",
     "text": [
      "[3, 1, 4, 2, 6, 1, 2, 4, 7, 1, 2, 5, 5, 1, 1, 0, 0, 3, 3, 5, 2, 1, 5, 2, 3, 1, 5, 2, 3, 0, 1, 0, 7, 2, 3, 7, 3, 3, 4, 1, 7, 5, 1, 7, 7, 2, 3, 6, 0, 0, 1, 3, 7, 3, 6, 7, 7, 4, 4, 1, 4, 1, 6, 3, 2, 3, 1, 5, 2, 3, 4, 0, 7, 2, 4, 1, 5, 0, 7, 4, 5, 2, 2, 7, 1, 1, 4, 6, 1, 1, 2, 6, 3, 6, 4, 6, 3, 3, 6, 1, 7, 5, 1, 1, 6, 0, 5, 6, 3, 3, 4, 5, 1, 5, 4, 4, 4, 4, 4, 4, 0, 0, 6, 6, 1, 3, 4, 7, 2, 1, 4, 3, 4, 4, 2, 1, 4, 7, 4, 4, 7, 2, 1, 6, 3, 2, 1, 0, 6, 0, 7, 3, 5, 5, 6, 1, 3, 1, 3, 4, 2, 6, 6, 1, 0, 5, 3, 6, 7, 4, 2, 3, 1, 2, 2, 1, 2, 5, 7, 5, 0, 6, 3, 5, 7, 3, 4, 7, 0, 5, 1, 4, 6, 4, 5, 5, 0, 4, 2, 7, 3, 3, 1, 6, 2, 0, 7, 1, 7, 5, 5, 2, 1, 2, 7, 1, 1, 4, 5, 5, 5, 1, 1, 3, 2, 7, 2, 4, 7, 4, 7, 0, 2, 6, 7, 1, 0, 5, 5, 7, 0, 6, 7, 1, 5, 2, 7, 6, 5, 3, 0, 6, 3, 2, 5, 5, 2, 3, 4, 5, 4, 6, 2, 0, 5, 1, 3, 7, 6, 0, 2, 5, 2, 1, 6, 7, 1, 6, 6, 2, 3, 2, 7, 3, 5, 3, 0, 4, 2, 4, 1, 6, 1, 7, 3, 6, 7, 0, 6, 6, 7, 1, 6, 0, 7, 2, 2, 3, 4, 5, 5, 0, 3, 3, 1, 2, 2, 7, 6, 5, 7, 5, 2, 5, 0, 2, 1, 3, 0, 7, 3, 2, 4, 2, 1, 3, 5, 1, 6, 6, 7, 1, 5, 1, 7, 1, 6, 2, 0, 1, 0, 1, 6, 5, 2, 6, 2, 2, 1, 5, 6, 0, 0, 2, 0, 2, 4, 6, 4, 3, 6, 4, 7, 4, 0, 4, 2, 4, 3, 2, 6, 2, 4, 2, 4, 5, 6, 7, 1, 3, 7, 4, 1, 3, 3, 3, 3, 0, 2, 1, 1, 0, 6, 5, 1, 7, 7, 7, 4, 3, 3, 3, 6, 6, 1, 4, 3, 4, 3, 0, 1, 4, 3, 5, 7, 4, 5, 0, 2, 2, 2, 2, 6, 7, 1, 7, 3, 5, 3, 5, 4, 4, 5, 4, 5, 0, 7, 7, 0, 2, 2, 1, 1, 7, 4, 3, 1, 0, 0, 7, 0, 1, 5, 2, 2, 6, 7, 6, 3, 0, 5, 3, 6, 7, 1, 2, 1, 5, 3, 7, 1, 2, 5, 0, 1, 4, 3, 6, 7, 3, 0, 1, 2, 5, 0, 3, 7, 7, 3, 3, 3, 3, 1, 4, 1, 3, 3, 7, 1, 1, 5, 2, 1, 6, 1, 7, 6, 1, 4, 7, 5, 4, 4, 0, 2, 4, 2, 5, 0, 3, 0, 4, 6, 7, 6, 4, 7, 5, 5, 1, 7, 5, 4, 2, 4, 3, 2, 5, 6, 7, 6, 2, 3, 6, 4, 3, 6, 1, 5, 0, 5, 4, 6, 5, 7, 4, 1, 7, 1, 2, 3, 5, 3, 6, 2, 5, 0, 1, 6, 4, 6, 4, 3, 2, 5, 2, 4, 0, 1, 5, 7, 1, 0, 7, 1, 0, 7, 6, 3, 6, 5, 0, 4, 6, 7, 1, 1, 7, 0, 0, 5, 2, 4, 2, 4, 3, 4, 6, 2, 0, 1, 5, 0, 2, 2, 2, 5, 4, 2, 6, 3, 1, 1, 5, 3, 2, 4, 5, 7, 7, 0, 3, 7, 5, 1, 0, 1, 2, 0, 1, 2, 3, 2, 7, 3, 6, 6, 6, 4, 5, 6, 0, 7, 0, 7, 5, 6, 7, 0, 2, 3, 4, 5, 0, 3, 0, 2, 2, 3, 5, 1, 5, 2, 1, 2, 1, 7, 3, 5, 5, 0, 5, 7, 0, 2, 5, 6, 7, 1, 2, 2, 4, 6, 4, 2, 7, 4, 4, 0, 4, 1, 4, 6, 2, 5, 1, 0, 6, 3, 3, 4, 2, 6, 6, 2, 6, 3, 6, 0, 6, 4, 0, 1, 3, 6, 2, 4, 6, 3, 7, 1, 0, 7, 4, 5, 4, 0, 7, 1, 7, 1, 3, 3, 0, 3, 0, 7, 7, 2, 3, 7, 7, 5, 6, 2, 2, 5, 6, 7, 2, 5, 7, 4, 1, 6, 6, 3, 2, 6, 4, 2, 5, 4, 5, 5, 7, 1, 4, 6, 2, 0, 6, 0, 0, 5, 4, 1, 7, 5, 0, 3, 1, 2, 7, 5, 6, 7, 6, 4, 0, 3, 2, 4, 0, 1, 7, 0, 7, 2, 4, 6, 7, 1, 6, 0, 5, 7, 0, 1, 7, 6, 6, 7, 4, 7, 7, 5, 4, 5, 7, 1, 6, 1, 7, 3, 6, 5, 1, 2, 1, 7, 1, 1, 1, 1, 3, 2, 0, 1, 0, 2, 6, 5, 7, 6, 0, 3, 1, 5, 5, 4, 3, 6, 7, 2, 4, 7, 3, 1, 5, 7, 3, 0, 2, 3, 2, 0, 0, 0, 5, 0, 5, 5, 2, 5, 5, 6, 4, 0, 4, 3, 5, 6, 7, 0, 2, 4, 7, 7, 2, 3, 4, 3, 7, 3, 6, 7, 5, 1, 7, 5, 3, 1, 0, 7, 2, 6, 5, 2, 2, 0, 7, 2, 7, 0, 2, 7, 5, 6, 1, 7, 6, 4, 0, 2, 5, 5, 5, 2, 0, 4, 5, 4, 4, 7, 5, 1, 1, 7, 3, 7, 3, 6, 4, 4, 2, 3, 3, 1, 4, 3, 0, 6, 4, 0, 1, 4, 0, 0, 0, 5, 2, 4, 6, 6, 1, 7, 2, 1, 5, 2, 2, 7, 7, 4, 0, 1, 5, 2, 2, 2, 2, 1, 0, 3, 0, 1, 5, 4, 6, 3, 4, 3, 2, 0, 6, 1, 3, 0, 4, 1, 6, 4, 1, 0, 4, 1, 4, 2, 2, 7, 1, 2, 6, 1, 2, 4, 7, 5, 4, 7, 4, 7, 4, 4, 4, 3, 5, 4, 4, 4, 6, 5, 7, 7, 7, 6, 3, 0, 1, 4, 7, 1, 5, 2, 7, 2, 0, 4, 1, 1, 7, 0, 7, 5, 0, 7, 1, 6, 6, 7, 2, 5, 0, 6, 7, 2, 5, 2, 4, 5, 1, 7, 4, 6, 7, 1, 6, 3, 1, 2, 7, 1, 5, 1, 7, 2, 7, 6, 4, 2, 4, 7, 7, 3, 7, 7, 1, 5, 1, 3, 3, 3, 5, 0, 4, 2, 1, 4, 7, 3, 3, 4, 0, 7, 3, 0, 0, 2, 7, 3, 6, 4, 5, 5, 1, 1, 3, 5, 6, 0, 1, 0, 7, 0, 2, 7, 3, 3, 3, 4, 1, 1, 2, 1, 4, 7, 7, 5, 5, 2, 0, 5, 7, 1, 1, 6, 6, 2, 3, 4, 5, 6, 2, 7, 7, 6, 1, 6, 7, 4, 0, 3, 5, 0, 1, 1, 5, 3, 6, 0, 0, 0, 0, 4, 3, 6, 4, 0, 6, 5, 7, 6, 2, 4, 3, 3, 3, 5, 0, 5, 3, 2, 3, 3, 4, 5, 7, 3, 3, 6, 1, 3, 3, 3, 7, 5, 5, 2, 7, 5, 6, 1, 7, 6, 5, 3, 2, 3, 2, 3, 4, 1, 0, 0, 3, 6, 3, 6, 0, 6, 2, 7, 5, 0, 3, 7, 4, 1, 5, 2, 6, 1, 4, 1, 5, 1, 1, 3, 7, 7, 7, 4, 6, 5, 1, 0, 6, 7, 1, 5, 1, 0, 2, 4, 5, 6, 0, 4, 7, 7, 3, 5, 1, 0, 7, 3, 3, 5, 2, 3, 5, 0, 3, 1, 5, 4, 5, 1, 0, 5, 6, 6, 0, 2, 0, 0, 2, 2, 0, 2, 7, 1, 6, 4, 6, 1, 2, 1, 5, 4, 3, 4, 0, 7, 1, 2, 1, 3, 3, 3, 5, 2, 4, 0, 6, 2, 2, 6, 1, 1, 4, 4, 3, 2, 6, 5, 2, 3, 7, 7, 2, 7, 0, 5, 7, 4, 6, 1, 2, 1, 2, 3, 0, 0, 1, 7, 1, 0, 3, 4, 2, 6, 3, 3, 7, 3, 2, 2, 0, 1, 5, 7, 3, 0, 1, 2, 3, 2, 3, 2, 3, 2, 5, 4, 6, 5, 3, 0, 7, 4, 3, 1, 1, 1, 0, 3, 6, 6, 6, 6, 4, 0, 3, 7, 1, 1, 6, 5, 7, 0, 4, 7, 0, 1, 4, 7, 5, 4, 1, 0, 1, 2, 4, 7, 2, 6, 2, 3, 4, 2, 1, 4, 1, 0, 1, 3, 6, 4, 6, 6, 1, 2, 2, 2, 0, 7, 0, 7, 5, 2, 1, 4, 0, 3, 0, 6, 4, 3, 3, 1, 7, 2, 6, 2, 4, 1, 7, 0, 0, 4, 2, 7, 6, 0, 0, 3, 2, 4, 2, 1, 2, 6, 0, 6, 7, 4, 4, 2, 2, 3, 7, 2, 1, 3, 5, 3, 3, 7, 1, 6, 3, 2, 6, 7, 6, 4, 6, 1, 1, 3, 0, 5, 4, 4, 4, 3, 4, 0, 2, 2, 4, 4, 2, 6, 4, 1, 1, 7, 7, 6, 5, 5, 0, 7, 1, 4, 5, 6, 5, 2, 3, 3, 2, 2, 2, 4, 0, 2, 2, 0, 1, 4, 0, 0, 5, 3, 1, 3, 4, 7, 0, 5, 0, 1, 2, 3, 3, 4, 1, 1, 7, 2, 3, 3, 4, 6, 5, 2, 0, 4, 0, 0, 3, 7, 2, 3, 1, 3, 2, 6, 5, 5, 5, 0, 7, 0, 0, 5, 3, 4, 3, 0, 7, 7, 4, 0, 3, 4, 3, 5, 1, 0, 7, 7, 0, 7, 1, 4, 0, 0, 7, 6, 7, 5, 3, 0, 5, 2, 6, 4, 3, 3, 0, 6, 2, 5, 7, 0, 4, 6, 1, 2, 5, 7, 0, 7, 3, 5, 4, 2, 5, 4, 6, 5, 5, 0, 7, 6, 2, 7, 7, 4, 3, 5, 6, 4, 0, 5, 5, 0, 1, 5, 3, 3, 4, 2, 6, 0, 2, 7, 4, 5, 2, 1, 4, 0, 2, 3, 4, 4, 2, 3, 5, 2, 2, 2, 7, 7, 1, 0, 6, 2, 0, 3, 4, 0, 0, 4, 2, 7, 2, 7, 5, 5, 4, 4, 6, 5, 1, 2, 6, 0, 7, 1, 1, 2, 4, 2, 0, 4, 2, 3, 4, 5, 3, 5, 3, 4, 5, 4, 1, 3, 4, 3, 2, 3, 0, 5, 2, 7, 0, 2, 0, 3, 7, 7, 3, 1, 2, 1, 6, 2, 0, 7, 4, 1, 3, 3, 0, 3, 4, 1, 4, 4, 1, 6, 4, 0, 0, 4, 3, 6, 1, 6, 7, 0, 4, 1, 4, 4, 7, 6, 6, 3, 3, 6, 0, 0, 3, 2, 0, 0, 6, 2, 5, 4, 3, 6, 5, 4, 2, 1, 5, 6, 0, 3, 7, 5, 2, 2, 3, 2, 3, 5, 7, 1, 5, 6, 0, 1, 3, 5, 5, 7, 6, 2, 2, 3, 7, 0, 4, 7, 7, 2, 5, 1, 1, 6, 7, 7, 0, 4, 2, 1, 1, 5, 4, 0, 2, 1, 6, 7, 4, 5, 4, 5, 1, 0, 5, 7, 6, 7, 1, 5, 0, 0, 0, 6, 1, 1, 7, 2, 7, 2, 5, 1, 0, 1, 7, 4, 3, 2, 5, 1, 0, 5, 4, 3, 7, 2, 5, 6, 0, 2, 7, 5, 3, 2, 1, 2, 6, 4, 7, 3, 3, 1, 3, 6, 4, 6, 1, 4, 2, 7, 7, 7, 3, 6, 7, 3, 6, 0, 6, 5, 6, 0, 7, 1, 4, 1, 7, 6, 4, 6, 2, 7, 4, 3, 7, 0, 0, 4, 3, 5, 5, 5, 5, 5, 3, 4, 4, 0, 4, 5, 2, 1, 4, 5, 5, 6, 1, 7, 2, 5, 5, 0, 5, 2, 2, 4, 5, 5, 3, 2, 0, 1, 5, 1, 4, 5, 1, 1, 7, 7, 7, 5, 0, 7, 0, 6, 1, 5, 0, 3, 4, 7, 6, 3, 7, 1, 0, 2, 1, 3, 0, 1, 3, 5, 2, 2, 6, 5, 2, 4, 6, 4, 7, 5, 7, 4, 4, 1, 2, 0, 0, 2, 4, 2, 2, 7, 1, 4, 5, 3, 3, 5, 1, 2, 7, 4, 7, 6, 6, 4, 3, 2, 1, 4, 1, 0, 2, 0, 3, 7, 7, 5, 0, 5, 3, 4, 1, 0, 0, 2, 7, 0, 0, 5, 3, 7, 1, 0, 2, 6, 4, 7, 2, 4, 4, 7, 2, 7, 3, 0, 6, 0, 2, 1, 4, 5, 5, 4, 6, 1, 4, 4, 5, 7, 3, 4, 3, 5, 3, 3, 6, 0, 1, 5, 7, 7, 5, 4, 6, 2, 3, 7, 3, 7, 5, 4, 4, 3, 5, 3, 0, 7, 7, 4, 3, 7, 2, 0, 7, 6, 6, 7, 4, 2, 1, 2, 1, 1, 6, 4, 2, 0, 0, 2, 1, 6, 5, 3, 6, 6, 3, 0, 4, 6, 6, 4, 1, 1, 1, 7, 5, 4, 0, 0, 3, 7, 3, 2, 1, 2, 4, 6, 0, 7, 5, 3, 4, 2, 7, 3, 5, 2, 2, 7, 1, 5, 1, 5, 0, 0, 0, 5, 3, 0, 1, 5, 5, 6, 7, 2, 6, 5, 7, 7, 7, 0, 5, 6, 5, 4, 0, 6, 6, 1, 1, 5, 4, 4, 6, 2, 3, 7, 7, 5, 3, 2, 7, 2, 3, 6, 4, 6, 0, 2, 1, 3, 7, 2, 1, 1, 0, 7, 2, 2, 0, 2, 2, 3, 1, 5, 4, 3, 6, 3, 6, 7, 3, 5, 0, 3, 4, 1, 4, 6, 6, 1, 6, 3, 4, 4, 5, 0, 7, 3, 0, 4, 1, 3, 6, 6, 4, 3, 1, 1, 5, 2, 5, 0, 3, 5, 1, 4, 2, 5, 5, 5, 1, 6, 6, 3, 5, 5, 0, 1, 0, 5, 7, 0, 5, 6, 6, 2, 2, 2, 6, 5, 4, 3, 4, 6, 4, 5, 0, 7, 3, 2, 4, 1, 3, 2, 1, 3, 5, 2, 6, 0, 0, 4, 5, 7, 0, 6, 5, 0, 1, 6, 3, 1, 7, 1, 2, 2, 0, 6, 6, 7, 0, 4, 4, 5, 1, 7, 4, 0, 5, 0, 7, 1, 3, 0, 6, 0, 7, 3, 5, 3, 3, 1, 6, 7, 4, 0, 6, 7, 6, 1, 6, 1, 3, 6, 1, 0, 1, 5, 5, 4, 6, 7, 4, 3, 2, 0, 1, 4, 2, 1, 2, 2, 7, 5, 6, 7, 6, 1, 6, 5, 7, 2, 3, 3, 6, 6, 0, 3, 1, 5, 3, 2, 6, 2, 1, 5, 0, 3, 4, 7, 4, 7, 5, 0, 2, 5, 2, 7, 1, 2, 2, 7, 5, 5, 6, 3, 5, 4, 4, 0, 6, 7, 1, 6, 6, 2, 6, 1, 0, 0, 7, 4, 3, 2, 4, 6, 6, 3, 0, 3, 6, 2, 4, 7, 0, 0, 2, 1, 1, 2, 3, 6, 4, 3, 6, 5, 7, 6, 6, 2, 0, 1, 0, 3, 5, 0, 7, 2, 5, 0, 2, 2, 1, 1, 4, 7, 4, 1, 6, 6, 1, 2, 3, 6, 7, 4, 1, 5, 0, 1, 5, 6, 0, 6, 2, 1, 4, 4, 2, 2, 2, 0, 3, 2, 1, 6, 7, 5, 3, 4, 1, 6, 4, 7, 0, 2, 6, 5, 5, 7, 6, 5, 4, 7, 2, 4, 7, 2, 2, 4, 2, 0, 3, 4, 4, 3, 1, 6, 7, 3, 6, 2, 0, 4, 5, 6, 2, 4, 6, 6, 1, 4, 5, 1, 5, 6, 4, 7, 3, 0, 3, 5, 3, 4, 7, 3, 2, 2, 4, 5, 0, 2, 5, 4, 6, 7, 1, 0, 3, 2, 4, 6, 4, 4, 4, 0, 6, 1, 2, 2, 2, 1, 0, 2, 1, 7, 5, 4, 6, 3, 4, 3, 7, 2, 1, 1, 2, 2, 1, 4, 0, 0, 2, 7, 5, 6, 4, 3, 1, 0, 7, 7, 7, 0, 0, 4, 2, 0, 7, 4, 3, 2, 1, 3, 0, 1, 5, 0, 0, 0, 0, 3, 5, 3, 5, 2, 7, 5, 6, 1, 6, 6, 6, 7, 6, 5, 3, 2, 5, 3, 5, 1, 1, 7, 1, 6, 3, 0, 1, 7, 2, 5, 5, 2, 6, 2, 4, 0, 2, 0, 3, 6, 6, 2, 1, 0, 3, 0, 7, 4, 5, 0, 6, 7, 6, 1, 6, 2, 6, 6, 1, 5, 4, 7, 1, 0, 5, 7, 5, 6, 0, 2, 6, 4, 4, 3, 5, 3, 0, 4, 0, 3, 2, 2, 5, 4, 5, 0, 6, 2, 5, 0, 6, 5, 0, 4, 1, 3, 6, 1, 7, 5, 7, 4, 7, 4, 4, 7, 6, 7, 6, 6, 3, 5, 6, 1, 7, 0, 1, 0, 7, 3, 7, 2, 1, 4, 4, 3, 3, 0, 5, 7, 4, 0, 5, 5, 3, 0, 4, 1, 4, 3, 5, 1, 4, 5, 4, 0, 6, 2, 7, 7, 1, 5, 7, 7, 3, 2, 3, 0, 1, 0, 5, 4, 4, 2, 5, 7, 3, 7, 7, 5, 2, 5, 2, 5, 0, 4, 6, 3, 6, 1, 5, 0, 7, 7, 7, 5, 6, 7, 2, 1, 0, 3, 6, 0, 3, 7, 3, 2, 4, 1, 1, 1, 2, 2, 1, 0, 4, 5, 4, 2, 2, 7, 3, 3, 4, 0, 4, 0, 5, 2, 1, 2, 4, 1, 6, 1, 5, 4, 3, 0, 7, 5, 3, 5, 3, 3, 3, 0, 4, 2, 5, 6, 2, 3, 2, 7, 2, 1, 3, 0, 5, 1, 0, 4, 3, 6, 4, 7, 7, 1, 0, 3, 7, 6, 4, 2, 6, 6, 2, 7, 3, 6, 6, 0, 3, 2, 7, 3, 2, 5, 3, 3, 0, 2, 5, 6, 2, 6, 5, 5, 1, 2, 7, 7, 4, 2, 1, 7, 1, 4, 7, 3, 1, 4, 1, 7, 3, 4, 3, 0, 5, 2, 7, 1, 6, 7, 4, 7, 2, 1, 2, 4, 6, 1, 1, 1, 3, 0, 7, 0, 0, 6, 0, 4, 2, 1, 2, 3, 6, 5, 2, 6, 5, 4, 0, 7, 0, 1, 7, 3, 6, 7, 3, 3, 3, 3, 6, 7, 3, 3, 4, 3, 5, 5, 5, 0, 0, 1, 1, 1, 1, 4, 3, 2, 7, 1, 0, 0, 6, 4, 5, 3, 2, 3, 3, 5, 4, 0, 6, 4, 7, 4, 3, 4, 6, 0, 1, 7, 2, 2, 4, 0, 2, 2, 7, 3, 2, 3, 1, 3, 3, 6, 0, 1, 5, 3, 1, 7, 6, 4, 4, 4, 7, 1, 0, 0, 3, 4, 6, 1, 3, 4, 6, 7, 0, 5, 6, 0, 5, 2, 2, 6, 5, 7, 1, 2, 6, 6, 7, 1, 6, 2, 0, 5, 3, 0, 2, 5, 1, 4, 6, 2, 2, 2, 5, 7, 0, 4, 1, 2, 1, 4, 1, 1, 5, 3, 6, 2, 6, 1, 5, 2, 7, 0, 4, 3, 3, 1, 4, 2, 2, 1, 2, 4, 2, 0, 2, 3, 7, 5, 2, 5, 3, 5, 3, 5, 7, 2, 0, 4, 4, 6, 1, 5, 5, 1, 7, 4, 3, 3, 7, 7, 4, 1, 0, 7, 1, 5, 0, 3, 2, 7, 7, 0, 1, 4, 2, 0, 3, 2, 2, 6, 4, 4, 4, 4, 3, 0, 0, 5, 2, 5, 5, 5, 6, 5, 6, 3, 1, 7, 3, 2, 6, 1, 0, 5, 0, 1, 6, 6, 1, 5, 1, 7, 4, 4, 5, 3, 7, 5, 3, 2, 6, 5, 6, 1, 6, 5, 2, 1, 2, 0, 0, 6, 4, 3, 6, 2, 7, 7, 5, 7, 6, 4, 1, 2, 7, 7, 3, 1, 1, 4, 1, 0, 2, 0, 1, 7, 7, 6, 0, 1, 2, 1, 3, 2, 6, 6, 6, 6, 0, 1, 5, 3, 6, 0, 3, 5, 1, 2, 7, 1, 6, 6, 2, 2, 0, 6, 4, 1, 1, 0, 5, 5, 4, 6, 7, 4, 7, 1, 2, 3, 3, 0, 7, 5, 4, 1, 5, 7, 2, 4, 2, 4, 1, 5, 4, 6, 0, 3, 0, 6, 2, 5, 6, 7, 5, 0, 2, 5, 3, 6, 1, 3, 7, 3, 0, 5, 4, 0, 6, 2, 6, 3, 1, 4, 3, 2, 6, 4, 1, 2, 2, 1, 6, 4, 6, 1, 1, 6, 7, 5, 6, 2, 3, 2, 4, 5, 0, 6, 3, 7, 0, 3, 0, 2, 1, 4, 6, 0, 1, 0, 7, 3, 5, 3, 6, 6, 5, 1, 4, 3, 0, 7, 0, 1, 6, 7, 7, 6, 4, 3, 2, 2, 5, 1, 1, 1, 3, 6, 0, 7, 1, 6, 4, 3, 2, 3, 4, 6, 3, 2, 5, 7, 3, 4, 0, 0, 6, 1, 0, 3, 4, 0, 3, 0, 3, 6, 0, 3, 7, 1, 3, 2, 1, 1, 1, 1, 3, 7, 0, 3, 0, 0, 0, 1, 7, 4, 1, 6, 5, 0, 6, 7, 5, 0, 0, 6, 5, 4, 4, 6, 3, 7, 7, 1, 1, 7, 7, 2, 5, 3, 3, 7, 2, 1, 4, 1, 0, 2, 7, 1, 4, 4, 7, 5, 6, 2, 5, 4, 7, 7, 3, 2, 1, 0, 1, 3, 6, 5, 2, 1, 7, 3, 6, 6, 2, 2, 5, 1, 1, 6, 3, 2, 0, 3, 7, 0, 3, 1, 0, 0, 5, 5, 3, 3, 4, 3, 3, 3, 4, 6, 3, 4, 6, 3, 4, 2, 6, 5, 1, 6, 5, 5, 5, 6, 2, 4, 3, 2, 7, 2, 6, 6, 6, 1, 6, 1, 1, 7, 0, 6, 5, 7, 5, 0, 5, 4, 4, 3, 1, 2, 4, 3, 3, 7, 6, 2, 2, 6, 5, 7, 7, 5, 1, 5, 1, 3, 7, 5, 2, 1, 0, 0, 2, 2, 6, 6, 3, 4, 4, 2, 4, 6, 0, 3, 3, 7, 3, 2, 4, 7, 6, 5, 4, 7, 6, 0, 3, 2, 3, 3, 1, 5, 0, 4, 1, 7, 7, 4, 4, 6, 3, 0, 7, 5, 7, 7, 0, 7, 3, 6, 6, 4, 2, 5, 3, 4, 4, 0, 7, 6, 6, 3, 0, 7, 0, 3, 7, 6, 6, 3, 1, 5, 5, 1, 2, 0, 4, 3, 0, 5, 2, 5, 0, 4, 1, 7, 7, 6, 5, 2, 1, 6, 1, 3, 6, 7, 5, 0, 7, 6, 3, 4, 0, 3, 2, 4, 2, 3, 1, 6, 7, 6, 5, 1, 1, 7, 4, 6, 1, 2, 1, 4, 2, 3, 7, 6, 4, 5, 4, 0, 2, 7, 0, 1, 6, 3, 7, 5, 7, 2, 5, 0, 7, 4, 7, 5, 3, 6, 4, 5, 2, 4, 3, 5, 2, 1, 6, 1, 0, 0, 0, 7, 1, 2, 6, 3, 4, 7, 6, 3, 5, 4, 3, 4, 6, 7, 5, 1, 6, 5, 0, 7, 1, 0, 2, 5, 1, 6, 5, 5, 3, 1, 1, 5, 5, 3, 5, 4, 3, 0, 3, 6, 2, 7, 0, 7, 7, 7, 2, 2, 2, 1, 4, 5, 5, 7, 4, 0, 6, 4, 0, 2, 1, 7, 2, 4, 5, 1, 5, 3, 4, 7, 0, 2, 0, 3, 0, 3, 5, 0, 3, 3, 3, 2, 2, 0, 6, 2, 0, 5, 7, 0, 7, 2, 5, 6, 0, 6, 3, 7, 0, 2, 4, 2, 7, 2, 3, 5, 1, 3, 4, 2, 5, 3, 4, 2, 6, 1, 2, 7, 7, 3, 7, 7, 1, 2, 1, 6, 2, 6, 5, 7, 1, 4, 3, 2, 6, 0, 6, 3, 5, 6, 0, 6, 4, 4, 5, 4, 3, 5, 1, 4, 5, 0, 2, 0, 7, 7, 4, 0, 1, 6, 4, 0, 6, 2, 2, 0, 3, 3, 3, 7, 4, 3, 3, 7, 6, 2, 1, 3, 0, 5, 5, 6, 3, 0, 6, 0, 6, 2, 0, 3, 1, 3, 1, 0, 3, 6, 7, 0, 5, 6, 3, 0, 4, 7, 0, 6, 7, 1, 0, 2, 4, 6, 5, 7, 4, 2, 6, 6, 3, 6, 6, 7, 2, 4, 7, 3, 7, 6, 5, 7, 7, 1, 0, 2, 2, 4, 4, 4, 2, 2, 7, 3, 0, 1, 4, 6, 4, 7, 1, 1, 6, 6, 5, 2, 4, 6, 5, 2, 4, 2, 7, 1, 4, 5, 6, 0, 5, 7, 3, 0, 4, 7, 6, 0, 2, 5, 3, 0, 0, 1, 2, 4, 3, 1, 7, 3, 0, 2, 4, 0, 0, 2, 4, 7, 7, 6, 5, 0, 6, 5, 7, 3, 0, 4, 5, 5, 7, 4, 3, 0, 7, 4, 5, 5, 4, 1, 3, 2, 0, 1, 6, 2, 1, 7, 2, 0, 2, 5, 3, 3, 3, 4, 0, 0, 1, 0, 1, 4, 1, 1, 7, 1, 2, 7, 5, 6, 2, 3, 7, 3, 6, 1, 2, 5, 7, 0, 7, 5, 4, 4, 0, 5, 5, 0, 6, 3, 3, 4, 5, 6, 5, 7, 6, 1, 6, 0, 0, 6, 2, 4, 0, 6, 4, 7, 7, 3, 4, 4, 0, 0, 7, 6, 0, 7, 7, 2, 4, 3, 4, 2, 3, 3, 0, 5, 0, 4, 4, 3, 7, 1, 3, 7, 4, 4, 0, 0, 1, 2, 0, 3, 1, 7, 0, 6, 4, 4, 3, 6, 4, 2, 7, 0, 3, 1, 5, 6, 6, 6, 0, 3, 7, 1, 3, 6, 7, 0, 5, 2, 1, 6, 6, 7, 2, 5, 0, 3, 6, 7, 7, 1, 3, 7, 1, 3, 4, 1, 1, 3, 6, 3, 3, 1, 5, 4, 4, 4, 2, 2, 5, 1, 1, 2, 1, 6, 5, 0, 6, 2, 5, 1, 0, 2, 0, 5, 0, 5, 3, 0, 1, 3, 4, 1, 5, 3, 2, 4, 3, 6, 7, 0, 1, 3, 0, 5, 0, 7, 4, 7, 5, 0, 1, 3, 5, 6, 2, 0, 5, 3, 6, 0, 7, 1, 7, 1, 2, 4, 6, 1, 2, 0, 3, 0, 6, 5, 4, 4, 5, 7, 4, 7, 5, 0, 4, 0, 3, 6, 7, 5, 6, 2, 2, 2, 6, 7, 7, 6, 0, 7, 4, 1, 6, 2, 3, 1, 4, 4, 0, 3, 6, 3, 4, 0, 7, 6, 6, 1, 3, 0, 7, 2, 5, 0, 0, 1, 5, 2, 4, 1, 5, 4, 3, 6, 5, 3, 7, 0, 2, 3, 2, 4, 7, 5, 2, 5, 6, 2, 4, 5, 3, 0, 0, 7, 3, 1, 5, 6, 6, 5, 1, 6, 2, 6, 4, 4, 2, 2, 4, 4, 0, 2, 7, 0, 4, 7, 0, 4, 2, 2, 5, 5, 1, 0, 2, 4, 3, 5, 7, 2, 7, 2, 2, 2, 5, 5, 6, 5, 5, 5, 2, 7, 2, 1, 1, 6, 3, 0, 3, 2, 3, 6, 0, 3, 6, 6, 5, 1, 7, 4, 0, 2, 1, 6, 2, 3, 3, 0, 5, 0, 6, 4, 3, 4, 4, 1, 3, 5, 6, 3, 4, 2, 5, 4, 0, 0, 1, 5, 7, 2, 5, 5, 2, 0, 6, 0, 7, 7, 2, 2, 7, 6, 2, 6, 1, 5, 3, 5, 7, 4, 4, 1, 6, 3, 1, 4, 5, 1, 0, 4, 2, 3, 7, 3, 1, 5, 5, 1, 6, 6, 4, 2, 5, 3, 4, 5, 6, 0, 5, 1, 5, 5, 3, 4, 6, 6, 0, 4, 5, 6, 7, 5, 6, 4, 6, 0, 7, 3, 2, 1, 4, 4, 6, 2, 5, 4, 3, 5, 7, 7, 6, 4, 5, 1, 3, 2, 0, 0, 1, 5, 4, 7, 5, 4, 6, 0, 7, 1, 1, 1, 0, 3, 5, 4, 1, 4, 1, 5, 1, 7, 7, 6, 7, 1, 4, 7, 5, 0, 2, 5, 2, 7, 4, 3, 0, 4, 3, 5, 4, 6, 2, 6, 5, 0, 2, 1, 6, 5, 5, 3, 7, 1, 2, 4, 5, 4, 0, 2, 7, 3, 1, 0, 4, 6, 5, 6, 7, 5, 2, 3, 5, 6, 0, 2, 3, 4, 7, 2, 5, 1, 1, 6, 4, 0, 2, 3, 0, 4, 4, 3, 3, 0, 6, 2, 4, 2, 2, 3, 7, 2, 6, 7, 6, 4, 0, 1, 2, 1, 3, 4, 1, 4, 5, 7, 2, 5, 1, 4, 5, 5, 3, 0, 0, 7, 1, 3, 0, 7, 6, 1, 7, 7, 3, 0, 0, 0, 4, 7, 2, 5, 4, 3, 6, 7, 7, 6, 7, 7, 6, 0, 2, 1, 1, 0, 1, 3, 1, 3, 5, 0, 3, 0, 5, 3, 7, 0, 0, 6, 7, 6, 4, 2, 6, 1, 6, 0, 3, 1, 1, 5, 4, 4, 1, 1, 4, 0, 0, 4, 3, 2, 7, 7, 5, 6, 7, 3, 1, 3, 6, 0, 1, 5, 1, 4, 6, 3, 6, 6, 4, 6, 4, 5, 5, 3, 6, 0, 5, 5, 6, 2, 3, 7, 7, 5, 1, 6, 2, 4, 3, 1, 0, 7, 1, 3, 1, 0, 5, 6, 2, 1, 2, 2, 2, 2, 2, 1, 3, 0, 3, 2, 2, 6, 6, 5, 1, 1, 6, 3, 5, 6, 4, 1, 1, 1, 2, 0, 6, 3, 2, 2, 3, 1, 1, 1, 4, 7, 1, 3, 5, 7, 6, 3, 3, 5, 2, 2, 1, 7, 0, 5, 4, 1, 5, 5, 4, 0, 1, 7, 7, 6, 0, 0, 0, 2, 4, 1, 6, 0, 0, 7, 2, 6, 3, 3, 1, 2, 5, 2, 7, 5, 3, 4, 5, 6, 4, 0, 6, 0, 7, 1, 2, 3, 4, 5, 2, 1, 6, 3, 1, 3, 4, 3, 0, 0, 1, 2, 1, 4, 7, 2, 7, 4, 2, 1, 5, 0, 7, 4, 7, 3, 6, 3, 1, 5, 3, 1, 7, 5, 3, 3, 0, 6, 0, 6, 0, 6, 0, 2, 6, 0, 1, 6, 3, 2, 7, 5, 0, 5, 5, 2, 4, 2, 3, 2, 2, 6, 1, 5, 7, 0, 7, 2, 7, 3, 4, 1, 4, 6, 4, 3, 0, 7, 4, 5, 0, 6, 0, 7, 0, 2, 0, 0, 4, 0, 1, 4, 1, 5, 3, 6, 6, 1, 6, 0, 1, 0, 5, 1, 2, 6, 2, 5, 2, 0, 6, 3, 1, 2, 6, 7, 3, 0, 2, 5, 1, 5, 0, 0, 4, 0, 2, 6, 0, 7, 2, 1, 6, 6, 4, 0, 7, 0, 1, 5, 2, 5, 3, 2, 7, 5, 6, 3, 3, 1, 0, 0, 5, 6, 6, 7, 6, 4, 2, 2, 0, 0, 1, 3, 7, 5, 4, 6, 6, 7, 0, 0, 6, 3, 3, 6, 7, 7, 0, 5, 2, 5, 2, 3, 2, 6, 1, 0, 4, 2, 2, 0, 4, 2, 7, 3, 3, 2, 0, 1, 0, 3, 4, 2, 0, 0, 3, 3, 6, 6, 4, 0, 5, 0, 5, 3, 5, 2, 6, 5, 3, 0, 4, 1, 4, 3, 3, 5, 5, 7, 6, 0, 7, 5, 0, 4, 7, 2, 1, 7, 1, 0, 5, 6, 0, 7, 2, 4, 0, 6, 7, 4, 7, 1, 2, 7, 7, 1, 7, 5, 2, 7, 3, 1, 5, 1, 5, 2, 6, 3, 1, 3, 5, 0, 4, 4, 2, 3, 5, 1, 4, 5, 6, 7, 5, 7, 4, 3, 3, 4, 6, 2, 5, 6, 1, 1, 2, 6, 0, 3, 0, 1, 4, 1, 0, 7, 5, 1, 3, 5, 5, 1, 2, 1, 2, 6, 2, 2, 4, 4, 2, 2, 7, 4, 5, 4, 2, 5, 1, 7, 0, 1, 7, 6, 0, 5, 2, 1, 3, 5, 0, 5, 2, 0, 2, 3, 0, 5, 0, 1, 2, 1, 1, 5, 2, 3, 7, 0, 1, 1, 3, 3, 1, 6, 5, 3, 6, 2, 7, 5, 0, 2, 3, 7, 4, 1, 1, 2, 2, 6, 6, 1, 1, 5, 4, 5, 6, 5, 2, 2, 1, 3, 5, 5, 4, 4, 4, 6, 6, 7, 0, 2, 4, 7, 3, 4, 7, 1, 6, 2, 7, 0, 6, 2, 4, 5, 0, 2, 2, 4, 0, 4, 3, 0, 4, 0, 1, 4, 0, 7, 4, 6, 0, 0, 5, 3, 3, 2, 1, 1, 0, 1, 0, 3, 5, 3, 7, 6, 2, 7, 2, 3, 6, 5, 1, 4, 7, 7, 7, 0, 7, 5, 7, 2, 6, 5, 7, 1, 5, 1, 5, 5, 0, 7, 7, 0, 2, 0, 6, 1, 1, 7, 1, 0, 1, 2, 3, 5, 3, 4, 6, 2, 4, 3, 5, 5, 6, 7, 3, 4, 7, 1, 5, 6, 1, 1, 2, 1, 1, 7, 1, 4, 4, 3, 0, 4, 6, 2, 7, 1, 5, 5, 5, 3, 3, 1, 6, 6, 6, 0, 6, 0, 1, 6, 3, 2, 2, 5, 3, 6, 1, 7, 2, 7, 2, 7, 2, 0, 6, 7, 5, 6, 1, 0, 3, 7, 3, 2, 6, 4, 1, 5, 0, 5, 3, 5, 5, 1, 0, 6, 3, 7, 6, 2, 1, 4, 1, 5, 2, 5, 0, 4, 2, 2, 2, 0, 3, 3, 0, 0, 1, 1, 7, 4, 4, 1, 0, 4, 2, 6, 0, 3, 7, 0, 6, 0, 0, 1, 1, 6, 7, 4, 1, 2, 7, 6, 4, 6, 7, 4, 1, 5, 1, 4, 3, 2, 2, 5, 2, 0, 2, 0, 1, 5, 0, 2, 3, 0, 1, 2, 2, 2, 1, 4, 3, 5, 3, 6, 1, 2, 0, 3, 1, 3, 3, 0, 0, 4, 4, 6, 1, 4, 7, 4, 5, 2, 1, 7, 6, 7, 7, 0, 4, 2, 0, 4, 3, 5, 6, 2, 6, 0, 2, 6, 5, 7, 5, 1, 0, 7, 5, 3, 4, 4, 0, 2, 3, 2, 7, 7, 3, 4, 0, 6, 5, 4, 2, 6, 7, 5, 6, 6, 4, 5, 0, 4, 2, 0, 6, 5, 1, 3, 5, 3, 5, 1, 3, 5, 5, 1, 7, 3, 6, 0, 7, 3, 2, 5, 2, 4, 0, 1, 3, 7, 5, 7, 1, 0, 6, 5, 2, 0, 1, 7, 0, 0, 2, 1, 3, 6, 0, 2, 5, 5, 0, 7, 6, 0, 1, 7, 3, 2, 7, 4, 6, 1, 3, 6, 6, 2, 4, 5, 1, 4, 5, 0, 7, 2, 7, 7, 6, 3, 6, 6, 7, 7, 4, 6, 7, 5, 7, 6, 6, 1, 2, 7, 4, 1, 7, 4, 1, 0, 7, 4, 3, 6, 0, 2, 0, 3, 2, 1, 4, 4, 5, 6, 7, 0, 3, 3, 0, 7, 4, 5, 5, 6, 2, 3, 4, 7, 7, 1, 3, 4, 4, 0, 6, 5, 2, 2, 0, 5, 2, 6, 3, 4, 4, 5, 7, 0, 4, 0, 5, 5, 4, 1, 5, 2, 1, 4, 2, 7, 4, 0, 0, 4, 2, 3, 3, 6, 1, 2, 7, 3, 5, 2, 7, 1, 4, 4, 1, 6, 1, 5, 4, 1, 0, 3, 5, 6, 2, 3, 5, 6, 5, 5, 2, 3, 4, 4, 7, 4, 7, 5, 2, 6, 2, 3, 6, 0, 1, 6, 6, 2, 6, 6, 4, 1, 2, 5, 0, 0, 3, 6, 0, 0, 2, 5, 2, 7, 0, 6, 6, 5, 1, 0, 4, 6, 4, 4, 6, 3, 2, 7, 0, 1, 2, 2, 3, 6, 3, 1, 0, 3, 5, 3, 4, 3, 1, 5, 0, 5, 5, 4, 7, 2, 6, 6, 4, 4, 4, 1, 0, 7, 6, 5, 4, 0, 1, 5, 1, 6, 6, 0, 6, 1, 7, 5, 7, 1, 7, 6, 3, 7, 5, 2, 6, 4, 6, 1, 7, 4, 0, 0, 7, 3, 2, 5, 0, 4, 5, 6, 0, 0, 2, 5, 1, 4, 3, 6, 4, 1, 4, 2, 1, 6, 3, 4, 1, 1, 6, 5, 7, 0, 1, 6, 4, 2, 2, 0, 6, 2, 4, 5, 3, 2, 7, 1, 3, 0, 3, 2, 2, 1, 6, 7, 0, 3, 2, 5, 5, 0, 5, 4, 4, 3, 4, 4, 3, 6, 0, 6, 7, 2, 3, 7, 1, 4, 1, 3, 0, 6, 3, 7, 3, 1, 2, 7, 4, 4, 5, 7, 2, 4, 1, 6, 5, 4, 7, 1, 3, 1, 5, 6, 0, 5, 4, 4, 1, 7, 4, 2, 5, 5, 0, 2, 3, 4, 7, 7, 2, 2, 5, 3, 0, 3, 6, 4, 0, 6, 6, 2, 5, 6, 1, 1, 5, 6, 6, 1, 3, 5, 0, 4, 1, 2, 5, 0, 1, 4, 0, 5, 5, 7, 6, 3, 0, 2, 6, 7, 3, 5, 7, 0, 1, 5, 6, 2, 1, 0, 3, 2, 4, 4, 4, 0, 5, 3, 7, 6, 0, 3, 5, 6, 6, 4, 2, 4, 2, 1, 1, 3, 7, 6, 7, 2, 2, 4, 6, 0, 1, 5, 3, 4, 3, 2, 6, 0, 3, 3, 0, 2, 2, 4, 6, 4, 6, 2, 1, 2, 2, 1, 4, 7, 7, 5, 5, 7, 7, 7, 3, 4, 4, 3, 0, 6, 1, 0, 0, 7, 0, 1, 3, 6, 4, 7, 3, 1, 3, 1, 0, 2, 3, 4, 5, 1, 5, 4, 0, 0, 2, 1, 3, 5, 6, 1, 1, 1, 3, 1, 6, 6, 6, 1, 2, 4, 7, 1, 3, 2, 0, 6, 4, 4, 7, 2, 2, 1, 2, 7, 4, 3, 4, 5, 2, 1, 4, 3, 2, 7, 5, 2, 7, 5, 5, 5, 6, 4, 3, 6, 1, 4, 1, 1, 5, 7, 7, 7, 3, 7, 6, 3, 4, 3, 4, 2, 5, 5, 2, 7, 2, 5, 0, 4, 7, 0, 7, 1, 3, 6, 5, 2, 7, 2, 2, 1, 4, 3, 3, 2, 0, 0, 1, 1, 3, 6, 3, 2, 6, 6, 3, 6, 4, 5, 3, 1, 7, 3, 5, 2, 4, 5, 5, 3, 5, 5, 1, 3, 4, 1, 5, 0, 2, 5, 3, 6, 2, 7, 2, 2, 7, 7, 0, 4, 6, 4, 0, 5, 3, 6, 6, 7, 0, 2, 6, 3, 0, 0, 5, 5, 1, 2, 4, 5, 3, 5, 3, 6, 2, 5, 4, 0, 7, 7, 0, 3, 2, 2, 4, 2, 5, 4, 5, 4, 3, 5, 5, 5, 6, 3, 2, 7, 4, 4, 0, 5, 4, 5, 7, 0, 2, 2, 7, 4, 5, 5, 4, 6, 4, 7, 1, 1, 2, 6, 0, 6, 2, 7, 6, 1, 5, 7, 4, 7, 1, 2, 3, 1, 5, 7, 3, 2, 3, 4, 1, 7, 0, 0, 7, 0, 2, 2, 7, 4, 0, 2, 7, 5, 3, 5, 5, 5, 4, 1, 1, 1, 5, 0, 4, 6, 4, 1, 3, 2, 3, 7, 1, 7, 5, 5, 6, 2, 5, 1, 2, 3, 0, 3, 2, 4, 1, 0, 7, 5, 0, 6, 5, 7, 4, 3, 5, 1, 2, 3, 6, 2, 7, 6, 0, 4, 6, 3, 4, 3, 5, 0, 6, 0, 0, 6, 4, 3, 5, 0, 6, 7, 3, 6, 5, 4, 6, 2, 4, 4, 7, 5, 6, 6, 4, 7, 5, 6, 2, 1, 1, 0, 1, 5, 3, 6, 1, 0, 2, 7, 6, 5, 5, 6, 0, 6, 5, 5, 3, 3, 2, 4, 0, 0, 6, 5, 5, 5, 2, 7, 2, 2, 4, 2, 5, 5, 3, 1, 6, 7, 5, 1, 1, 6, 5, 6, 1, 1, 3, 2, 7, 3, 2, 6, 3, 4, 1, 7, 5, 6, 2, 5, 3, 1, 1, 4, 4, 0, 5, 3, 7, 7, 5, 3, 6, 1, 2, 6, 2, 2, 6, 0, 2, 7, 2, 5, 2, 7, 7, 1, 5, 7, 3, 3, 7, 5, 7, 3, 5, 0, 1, 5, 1, 0, 0, 6, 0, 4, 3, 0, 2, 3, 6, 3, 5, 7, 2, 6, 4, 4, 1, 3, 7, 3, 0, 2, 1, 3, 0, 7, 6, 6, 3, 6, 1, 2, 6, 5, 0, 2, 6, 6, 7, 3, 4, 5, 7, 7, 0, 0, 2, 7, 6, 4, 3, 3, 6, 7, 5, 0, 1, 0, 7, 0, 2, 0, 6, 7, 4, 0, 6, 2, 6, 2, 3, 1, 6, 1, 6, 3, 0, 1, 7, 0, 1, 5, 0, 6, 7, 3, 3, 4, 4, 2, 3, 0, 2, 5, 4, 3, 1, 5, 1, 6, 4, 2, 6, 1, 1, 5, 6, 0, 2, 4, 1, 4, 6, 6, 5, 3, 3, 7, 5, 4, 6, 2, 0, 3, 3, 6, 7, 3, 7, 3, 7, 0, 2, 3, 1, 7, 1, 6, 0, 4, 6, 5, 2, 3, 0, 3, 5, 5, 5, 6, 1, 1, 0, 0, 3, 7, 3, 0, 5, 7, 4, 2, 1, 0, 3, 3, 7, 1, 5, 0, 7, 4, 3, 4, 7, 4, 7, 5, 0, 2, 0, 7, 7, 5, 1, 7, 4, 6, 0, 5, 7, 4, 3, 1, 4, 6, 5, 0, 5, 7, 6, 3, 5, 4, 7, 7, 4, 1, 4, 4, 6, 2, 6, 7, 0, 2, 0, 2, 2, 7, 3, 4, 0, 4, 1, 7, 2, 1, 3, 2, 5, 7, 4, 2, 4, 5, 3, 3, 6, 1, 1, 3, 3, 7, 6, 6, 0, 2, 6, 7, 4, 1, 2, 3, 2, 0, 3, 0, 5, 3, 0, 6, 6, 4, 4, 6, 1, 7, 5, 5, 1, 6, 4, 0, 0, 7, 0, 5, 2, 0, 0, 2, 4, 6, 3, 7, 2, 3, 0, 1, 5, 0, 7, 7, 4, 7, 6, 6, 4, 2, 5, 4, 4, 4, 0, 6, 6, 1, 3, 3, 4, 3, 1, 1, 3, 4, 3, 0, 7, 3, 4, 3, 2, 3, 5, 4, 4, 2, 1, 6, 7, 0, 0, 4, 0, 7, 4, 6, 6, 3, 3, 5, 1, 0, 6, 5, 2, 6, 3, 3, 0, 6, 4, 0, 0, 7, 2, 5, 1, 4, 2, 5, 1, 5, 2, 6, 1, 1, 6, 1, 6, 1, 4, 0, 1, 4, 2, 6, 2, 0, 4, 1, 0, 7, 0, 7, 7, 5, 2, 7, 5, 2, 2, 6, 0, 1, 6, 4, 6, 1, 2, 0, 7, 7, 6, 3, 1, 1, 1, 7, 3, 2, 3, 4, 3, 0, 1, 0, 7, 6, 6, 6, 4, 7, 0, 5, 7, 1, 2, 1, 3, 2, 6, 6, 1, 1, 7, 3, 2, 4, 6, 3, 2, 6, 6, 7, 5, 6, 3, 3, 6, 0, 5, 6, 4, 7, 7, 3, 5, 6, 4, 4, 1, 3, 0, 0, 4, 7, 7, 1, 4, 5, 5, 1, 3, 6, 1, 5, 2, 4, 5, 1, 6, 5, 3, 1, 0, 4, 2, 4, 0, 2, 2, 0, 1, 2, 2, 7, 4, 7, 4, 0, 4, 2, 1, 3, 7, 4, 1, 4, 4, 1, 2, 5, 6, 0, 2, 7, 4, 1, 6, 2, 4, 1, 7, 4, 6, 6, 1, 0, 2, 2, 3, 0, 0, 1, 6, 3, 0, 1, 5, 4, 0, 5, 7, 7, 6, 2, 2, 1, 7, 6, 5, 7, 0, 4, 2, 3, 0, 2, 7, 6, 1, 0, 2, 5, 7, 2, 6, 2, 0, 0, 6, 1, 5, 2, 5, 7, 2, 3, 7, 6, 3, 0, 6, 2, 1, 6, 4, 2, 4, 1, 4, 6, 6, 6, 0, 5, 7, 2, 4, 7, 6, 3, 1, 7, 6, 7, 1, 2, 1, 3, 1, 4, 7, 6, 6, 0, 4, 2, 7, 5, 1, 2, 1, 1, 5, 4, 1, 1, 5, 3, 2, 6, 7, 1, 3, 1, 5, 0, 5, 0, 1, 7, 7, 7, 2, 2, 3, 7, 5, 1, 4, 4, 2, 0, 5, 3, 1, 2, 7, 3, 2, 0, 6, 0, 1, 3, 2, 3, 0, 2, 4, 6, 5, 7, 6, 4, 2, 6, 6, 5, 2, 6, 6, 2, 4, 4, 1, 7, 5, 6, 1, 2, 0, 1, 2, 7, 4, 6, 5, 1, 2, 6, 2, 7, 7, 1, 1, 7, 6, 1, 5, 4, 0, 7, 0, 0, 2, 7, 1, 0, 7, 0, 1, 3, 4, 3, 1, 6, 3, 5, 2, 2, 3, 5, 6, 2, 1, 7, 6, 5, 3, 6, 1, 4, 2, 2, 5, 0, 7, 7, 0, 7, 4, 3, 5, 5, 5, 6, 4, 0, 3, 0, 2, 7, 3, 2, 1, 5, 4, 7, 6, 2, 6, 2, 7, 2, 0, 3, 2, 2, 5, 5, 4, 1, 0, 0, 0, 6, 0, 0, 1, 5, 0, 2, 4, 7, 3, 7, 2, 1, 0, 5, 3, 4, 5, 2, 6, 2, 4, 7, 3, 6, 3, 6, 4, 7, 3, 7, 4, 6, 4, 1, 0, 7, 1, 3, 5, 4, 7, 4, 6, 0, 7, 0, 6, 1, 5, 4, 6, 6, 7, 6, 1, 6, 2, 1, 0, 3, 0, 7, 6, 6, 7, 7, 1, 7, 0, 6, 7, 3, 3, 7, 7, 4, 5, 1, 2, 6, 0, 7, 1, 0, 5, 2, 0, 2, 1, 0, 5, 2, 3, 1, 1, 1, 4, 4, 3, 5, 2, 2, 4, 6, 5, 6, 2, 7, 6, 3, 3, 3, 1, 1, 7, 3, 2, 1, 4, 5, 7, 7, 4, 2, 6, 1, 5, 6, 5, 5, 4, 4, 1, 4, 0, 7, 2, 2, 2, 3, 7, 1, 3, 2, 4, 2, 3, 5, 7, 7, 4, 2, 2, 1, 4, 6, 4, 0, 5, 5, 2, 3, 4, 3, 0, 6, 3, 1, 3, 7, 1, 6, 3, 1, 4, 7, 5, 4, 3, 4, 6, 7, 6, 5, 0, 1, 3, 1, 2, 0, 7, 7, 5, 2, 0, 3, 3, 3, 3, 5, 0, 2, 2, 3, 7, 7, 1, 1, 0, 5, 5, 5, 2, 5, 5, 7, 1, 3, 2, 5, 5, 5, 0, 4, 0, 3, 6, 3, 1, 5, 3, 5, 7, 1, 2, 3, 2, 1, 6, 2, 7, 7, 6, 6, 7, 7, 0, 1, 1, 3, 3, 2, 1, 5, 5, 2, 0, 1, 5, 6, 5, 7, 5, 0, 7, 1, 5, 0, 4, 2, 2, 0, 6, 3, 6, 7, 4, 7, 3, 5, 3, 5, 5, 5, 5, 2, 3, 3, 3, 0, 0, 0, 5, 7, 2, 7, 3, 4, 4, 4, 2, 7, 3, 1, 5, 3, 6, 6, 3, 1, 3, 0, 3, 3, 4, 1, 4, 3, 3, 6, 2, 5, 2, 2, 0, 3, 6, 7, 6, 5, 0, 0, 1, 7, 4, 2, 6, 7, 4, 3, 3, 6, 6, 6, 2, 5, 3, 5, 6, 7, 3, 0, 1, 3, 4, 4, 6, 4, 7, 4, 6, 2, 4, 0, 0, 1, 6, 4, 0, 1, 2, 7, 5, 6, 3, 4, 7, 6, 5, 1, 0, 2, 2, 2, 4, 5, 3, 2, 0, 7, 6, 7, 5, 1, 6, 4, 7, 0, 2, 1, 7, 6, 6, 1, 0, 6, 2, 6, 3, 7, 4, 7, 2, 5, 2, 1, 1, 2, 2, 2, 5, 5, 6, 7, 5, 2, 6, 5, 6, 3, 4, 5, 4, 1, 6, 4, 6, 2, 6, 2, 0, 4, 1, 0, 7, 5, 4, 0, 2, 5, 2, 2, 7, 6, 4, 2, 4, 4, 5, 0, 7, 3, 4, 5, 2, 7, 6, 2, 2, 7, 5, 6, 3, 5, 5, 6, 6, 2, 5, 6, 5, 5, 4, 4, 1, 4, 6, 3, 4, 2, 0, 5, 6, 7, 5, 6, 5, 1, 1, 3, 2, 5, 2, 3, 7, 5, 2, 4, 0, 7, 2, 0, 6, 2, 0, 7, 7, 4, 5, 4, 6, 0, 6, 5, 4, 3, 4, 2, 0, 4, 6, 7, 2, 2, 7, 2, 3, 2, 4, 1, 1, 2, 4, 7, 3, 1, 7, 4, 6, 6, 1, 5, 6, 3, 5, 1, 4, 1, 0, 2, 3, 5, 6, 1, 7, 7, 1, 3, 1, 6, 7, 3, 3, 0, 0, 7, 0, 1, 3, 6, 5, 2, 5, 7, 3, 3, 2, 6, 4, 2, 1, 1, 0, 0, 0, 6, 4, 6, 5, 3, 3, 3, 1, 2, 5, 3, 5, 0, 7, 3, 6, 0, 7, 6, 2, 2, 4, 5, 1, 1, 0, 2, 5, 1, 6, 0, 3, 4, 3, 5, 2, 6, 3, 6, 0, 0, 3, 5, 2, 2, 2, 3, 2, 3, 6, 0, 4, 1, 6, 3, 0, 5, 0, 7, 1, 6, 6, 1, 4, 7, 2, 2, 1, 4, 7, 5, 2, 7, 4, 4, 7, 4, 7, 4, 0, 1, 0, 7, 0, 6, 1, 7, 7, 3, 7, 2, 5, 6, 4, 6, 4, 1, 4, 7, 1, 3, 7, 7, 6, 0, 5, 5, 2, 2, 4, 1, 2, 5, 1, 3, 3, 3, 1, 7, 1, 0, 7, 4, 3, 3, 6, 1, 2, 7, 1, 0, 3, 4, 2, 6, 1, 3, 2, 5, 7, 0, 3, 2, 6, 3, 1, 5, 7, 2, 4, 3, 2, 4, 5, 2, 0, 1, 1, 0, 2, 7, 0, 7, 3, 4, 0, 3, 1, 5, 1, 0, 1, 0, 1, 4, 2, 4, 5, 4, 1, 4, 7, 5, 0, 4, 2, 5, 3, 5, 2, 7, 6, 2, 7, 7, 1, 4, 3, 1, 2, 7, 5, 0, 7, 3, 5, 0, 4, 5, 6, 7, 2, 1, 7, 4, 6, 4, 3, 7, 3, 1, 3, 0, 2, 2, 2, 1, 7, 6, 7, 6, 0, 6, 1, 2, 3, 3, 7, 7, 7, 6, 2, 7, 4, 4, 1, 4, 2, 3, 1, 7, 6, 5, 6, 0, 3, 0, 0, 5, 4, 4, 1, 7, 1, 2, 5, 2, 5, 0, 6, 4, 2, 6, 5, 7, 4, 0, 4, 1, 4, 0, 3, 4, 1, 2, 1, 4, 7, 0, 0, 2, 7, 0, 0, 6, 5, 5, 4, 7, 2, 6, 4, 4, 1, 0, 0, 6, 0, 1, 5, 3, 5, 5, 7, 2, 1, 4, 4, 6, 2, 6, 5, 6, 0, 3, 1, 1, 6, 6, 1, 6, 0, 4, 1, 5, 3, 3, 1, 0, 4, 0, 1, 2, 4, 7, 5, 5, 4, 0, 6, 2, 7, 3, 4, 2, 3, 2, 0, 7, 0, 3, 0, 2, 5, 5, 4, 0, 6, 5, 4, 7, 2, 7, 3, 0, 4, 5, 0, 7, 7, 3, 5, 6, 3, 0, 2, 4, 4, 2, 6, 2, 7, 4, 4, 1, 1, 1, 3, 3, 2, 4, 7, 7, 1, 7, 5, 5, 6, 2, 3, 6, 0, 0, 0, 6, 7, 1, 1, 7, 5, 4, 2, 2, 2, 0, 0, 3, 0, 5, 3, 6, 2, 4, 1, 1, 4, 3, 1, 7, 7, 7, 7, 3, 4, 6, 1, 2, 1, 2, 5, 0, 2, 4, 0, 0, 4, 4, 0, 1, 2, 5, 4, 2, 5, 0, 4, 4, 0, 3, 5, 3, 2, 3, 6, 2, 7, 4, 5, 5, 0, 7, 4, 2, 5, 2, 2, 4, 5, 5, 3, 3, 2, 5, 4, 0, 7, 4, 4, 5, 6, 0, 5, 3, 0, 4, 5, 1, 5, 3, 1, 7, 6, 1, 0, 7, 5, 3, 2, 1, 6, 1, 1, 4, 2, 0, 1, 5, 3, 7, 2, 4, 0, 4, 6, 3, 1, 6, 4, 1, 0, 6, 5, 7, 1, 2, 5, 5, 5, 3, 1, 2, 2, 1, 2, 6, 6, 4, 0, 2, 4, 2, 7, 1, 6, 5, 5, 4, 5, 6, 2, 6, 6, 5, 7, 2, 1, 2, 7, 2, 7, 1, 1, 0, 5, 0, 6, 1, 6, 5, 5, 6, 7, 7, 3, 6, 6, 6, 4, 4, 2, 4, 0, 6, 4, 2, 6, 3, 3, 4, 5, 2, 0, 5, 0, 0, 1, 6, 3, 2, 1, 1, 1, 3, 0, 4, 5, 6, 6, 6, 5, 2, 0, 5, 2, 6, 6, 2, 2, 6, 7, 7, 4, 3, 2, 1, 4, 5, 1, 3, 1, 3, 6, 1, 3, 4, 5, 3, 0, 5, 7, 5, 5, 0, 3, 7, 6, 3, 2, 3, 1, 0, 1, 7, 5, 7, 2, 1, 5, 5, 1, 7, 3, 4, 6, 1, 4, 4, 7, 3, 2, 4, 7, 0, 5, 1, 7, 0, 4, 5, 6, 2, 1, 7, 1, 0, 6, 2, 1, 4, 2, 3, 0, 7, 6, 0, 0, 2, 0, 5, 3, 4, 1, 3, 4, 4, 2, 6, 7, 4, 5, 1, 5, 3, 0, 5, 2, 0, 0, 0, 0, 2, 2, 4, 4, 6, 0, 4, 2, 4, 4, 5, 4, 5, 7, 4, 0, 6, 3, 1, 3, 5, 4, 0, 4, 1, 5, 2, 4, 6, 5, 1, 1, 6, 4, 5, 1, 5, 6, 0, 3, 1, 2, 4, 4, 1, 4, 2, 1, 5, 1, 3, 2, 7, 0, 0, 3, 7, 3, 5, 3, 7, 3, 2, 5, 3, 3, 5, 3, 0, 3, 4, 2, 7, 4, 7, 0, 4, 6, 2, 3, 5, 7, 0, 0, 0, 3, 5, 7, 0, 1, 3, 0, 3, 6, 5, 2, 7, 1, 6, 5, 3, 6, 1, 3, 2, 0, 2, 1, 1, 3, 3, 7, 2, 5, 7, 0, 6, 2, 5, 2, 5, 5, 4, 4, 6, 1, 4, 4, 7, 5, 3, 0, 7, 5, 5, 4, 5, 1, 0, 3, 5, 4, 1, 7, 4, 2, 4, 6, 6, 6, 3, 3, 2, 2, 0, 0, 2, 6, 6, 7, 6, 0, 6, 4, 3, 4, 0, 2, 3, 1, 2, 2, 7, 2, 3, 7, 2, 6, 0, 0, 1, 3, 2, 4, 1, 0, 2, 5, 0, 5, 5, 1, 0, 2, 0, 3, 7, 3, 2, 5, 6, 4, 6, 1, 2, 3, 7, 5, 2, 3, 2, 0, 5, 4, 0, 4, 2, 5, 0, 0, 4, 1, 0, 4, 1, 0, 1, 6, 3, 7, 7, 7, 6, 5, 4, 5, 0, 5, 7, 5, 7, 7, 7, 5, 7, 1, 2, 7, 1, 7, 3, 6, 3, 4, 2, 1, 1, 7, 4, 4, 5, 3, 7, 6, 1, 3, 6, 6, 5, 6, 1, 1, 1, 1, 3, 3, 1, 1, 5, 3, 5, 6, 1, 2, 3, 7, 4, 4, 4, 5, 1, 3, 1, 0, 1, 7, 4, 6, 5, 1, 6, 5, 6, 7, 7, 6, 3, 3, 2, 7, 0, 1, 0, 1, 0, 0, 7, 6, 1, 3, 2, 5, 7, 1, 4, 1, 4, 5, 2, 2, 1, 3, 1, 0, 3, 5, 2, 4, 2, 0, 0, 1, 2, 0, 1, 2, 2, 7, 4, 4, 5, 2, 7, 1, 0, 7, 7, 1, 4, 6, 6, 7, 4, 4, 7, 0, 3, 5, 5, 0, 2, 0, 7, 4, 4, 2, 3, 0, 4, 0, 5, 4, 1, 0, 2, 6, 3, 4, 5, 4, 0, 6, 1, 1, 4, 7, 7, 7, 4, 0, 6, 1, 1, 3, 7, 3, 6, 4, 1, 7, 2, 0, 1, 3, 0, 5, 1, 4, 3, 5, 5, 4, 5, 7, 6, 7, 6, 3, 5, 0, 2, 2, 6, 6, 2, 4, 7, 0, 4, 2, 4, 1, 5, 1, 0, 3, 4, 1, 4, 3, 1, 0, 3, 7, 6, 0, 7, 0, 7, 2, 3, 2, 0, 2, 5, 7, 6, 3, 2, 6, 0, 3, 4, 7, 0, 0, 0, 2, 7, 7, 0, 7, 3, 6, 0, 4, 4, 3, 1, 2, 1, 4, 2, 4, 2, 2, 3, 2, 4, 1, 2, 3, 6, 0, 3, 0, 6, 1, 5, 1, 2, 2, 5, 6, 3, 4, 4, 3, 0, 7, 3, 1, 3, 3, 2, 7, 1, 4, 6, 1, 1, 3, 5, 5, 1, 6, 1, 4, 3, 6, 0, 1, 6, 6, 3, 1, 1, 0, 0, 2, 2, 5, 1, 3, 5, 2, 1, 0, 3, 3, 2, 5, 0, 3, 7, 6, 1, 3, 6, 5, 1, 1, 4, 6, 0, 4, 7, 6, 0, 1, 4, 2, 1, 4, 5, 0, 1, 2, 6, 3, 6, 7, 1, 4, 1, 3, 3, 1, 5, 4, 1, 4, 7, 4, 4, 5, 6, 6, 2, 6, 1, 6, 0, 4, 4, 4, 1, 2, 0, 2, 7, 1, 3, 7, 6, 6, 0, 2, 3, 2, 3, 3, 5, 5, 7, 5, 5, 4, 3, 0, 0, 1, 1, 4, 0, 3, 4, 3, 7, 6, 2, 5, 5, 1, 0, 7, 0, 0, 0, 0, 3, 3, 1, 2, 6, 5, 6, 4, 0, 7, 2, 2, 5, 0, 0, 6, 4, 2, 2, 6, 7, 0, 1, 5, 0, 7, 7, 6, 3, 2, 7, 5, 7, 3, 1, 4, 0, 6, 2, 1, 1, 1, 5, 3, 5, 1, 3, 5, 3, 4, 1, 1, 2, 2, 4, 4, 1, 4, 1, 3, 7, 1, 1, 5, 5, 4, 6, 7, 2, 3, 5, 7, 0, 3, 5, 0, 4, 1, 3, 1, 5, 4, 0, 3, 3, 5, 2, 5, 5, 5, 1, 1, 1, 7, 3, 6, 7, 0, 2, 5, 7, 6, 7, 1, 1, 7, 7, 6, 7, 1, 7, 2, 7, 2, 1, 2, 4, 7, 3, 5, 6, 0, 1, 5, 2, 0, 5, 6, 2, 7, 1, 1, 4, 3, 7, 0, 3, 1, 1, 0, 0, 1, 6, 7, 3, 5, 0, 0, 0, 6, 1, 3, 4, 7, 7, 3, 4, 3, 1, 7, 3, 7, 0, 2, 5, 1, 5, 2, 7, 4, 2, 2, 1, 1, 7, 5, 3, 7, 0, 4, 1, 0, 6, 6, 2, 5, 2, 6, 4, 6, 0, 3, 1, 5, 4, 7, 0, 1, 6, 2, 5, 7, 1, 6, 1, 6, 0, 4, 2, 0, 2, 1, 4, 4, 4, 3, 7, 5, 2, 0, 5, 6, 1, 1, 0, 6, 4, 2, 4, 5, 0, 6, 5, 3, 1, 7, 0, 5, 2, 3, 0, 3, 0, 6, 2, 2, 7, 7, 6, 3, 1, 2, 2, 3, 7, 7, 2, 2, 4, 0, 2, 6, 6, 7, 4, 7, 0, 1, 1, 4, 0, 7, 7, 6, 3, 6, 7, 7, 0, 2, 1, 0, 5, 1, 1, 3, 6, 1, 2, 7, 3, 5, 4, 1, 0, 3, 7, 6, 2, 0, 5, 1, 4, 0, 4, 3, 1, 1, 1, 4, 2, 7, 2, 1, 6, 7, 4, 7, 6, 1, 0, 0, 1, 3, 6, 5, 1, 6, 1, 4, 7, 2, 2, 5, 6, 3, 6, 4, 0, 0, 1, 2, 6, 7, 6, 4, 1, 5, 0, 4, 3, 1, 2, 4, 2, 2, 4, 4, 3, 1, 1, 3, 5, 4, 3, 0, 6, 0, 6, 3, 0, 6, 4, 7, 2, 5, 3, 6, 3, 7, 6, 2, 7, 3, 3, 4, 2, 5, 3, 7, 1, 4, 5, 6, 7, 7, 3, 4, 3, 4, 0, 6, 4, 4, 4, 3, 6, 0, 5, 0, 4, 7, 4, 7, 5, 3, 5, 5, 0, 1, 0, 6, 0, 3, 0, 1, 3, 6, 0, 4, 6, 2, 4, 5, 5, 2, 2, 0, 4, 2, 7, 7, 2, 6, 4, 6, 3, 6, 5, 6, 7, 7, 3, 2, 5, 0, 3, 2, 2, 4, 0, 6, 7, 2, 2, 4, 5, 2, 3, 6, 7, 3, 3, 7, 5, 4, 7, 3, 4, 0, 7, 3, 4, 4, 3, 3, 5, 1, 2, 7, 7, 0, 4, 7, 7, 6, 7, 1, 3, 7, 5, 1, 7, 7, 2, 1, 1, 7, 3, 7, 5, 4, 7, 6, 3, 0, 1, 5, 1, 3, 7, 4, 1, 0, 5, 5, 5, 5, 6, 3, 2, 6, 2, 4, 7, 7, 5, 1, 1, 7, 6, 6, 1, 4, 5, 7, 1, 7, 3, 1, 1, 1, 5, 4, 2, 0, 2, 5, 2, 6, 7, 2, 3, 6, 1, 6, 1, 7, 7, 6, 7, 6, 2, 0, 4, 1, 2, 6, 5, 2, 4, 5, 0, 2, 1, 5, 3, 0, 6, 2, 5, 4, 7, 4, 7, 7, 7, 0, 2, 5, 4, 2, 1, 0, 4, 4, 3, 7, 0, 2, 4, 0, 6, 0, 1, 0, 1, 5, 4, 7, 6, 7, 5, 4, 7, 3, 1, 3, 3, 1, 7, 4, 2, 6, 7, 7, 3, 6, 6, 4, 6, 7, 2, 0, 0, 4, 7, 2, 6, 0, 0, 2, 6, 5, 6, 3, 2, 5, 3, 7, 1, 0, 4, 3, 7, 5, 0, 0, 4, 4, 3, 3, 4, 1, 7, 4, 3, 6, 0, 3, 2, 7, 3, 2, 0, 1, 6, 0, 2, 0, 3, 1, 5, 5, 5, 6, 1, 6, 7, 0, 5, 2, 5, 2, 2, 1, 1, 3, 4, 6, 3, 0, 2, 6, 7, 0, 2, 6, 2, 6, 7, 3, 0, 1, 7, 5, 1, 6, 6, 7, 6, 6, 7, 3, 3, 7, 7, 4, 2, 7, 5, 2, 6, 0, 4, 6, 6, 7, 1, 6, 6, 6, 2, 3, 2, 3, 1, 0, 2, 2, 4, 2, 5, 3, 3, 3, 3, 3, 5, 6, 2, 7, 1, 0, 1, 0, 5, 5, 7, 3, 2, 5, 4, 3, 5, 4, 1, 6, 7, 1, 4, 5, 6, 4, 7, 4, 6, 2, 1, 4, 4, 0, 6, 0, 7, 6, 2, 6, 0, 7, 6, 7, 3, 0, 5, 2, 6, 7, 4, 3, 4, 7, 7, 3, 2, 3, 5, 2, 1, 3, 4, 0, 2, 1, 7, 1, 6, 5, 1, 6, 4, 1, 4, 2, 5, 7, 0, 6, 4, 7, 1, 1, 7, 4, 4, 0, 3, 3, 0, 6, 3, 6, 5, 6, 5, 3, 7, 2, 7, 7, 6, 7, 4, 5, 2, 0, 6, 3, 6, 3, 7, 5, 4, 1, 1, 5, 0, 7, 3, 5, 0, 3, 1, 5, 7, 0, 7, 7, 3, 3, 6, 2, 1, 3, 6, 3, 5, 4, 7, 2, 1, 1, 0, 1, 3, 2, 6, 3, 0, 1, 5, 6, 7, 7, 7, 2, 0, 2, 1, 7, 6, 5, 4, 0, 0, 5, 4, 7, 4, 5, 6, 6, 3, 3, 7, 5, 4, 0, 1, 1, 1, 7, 3, 6, 0, 1, 0, 5, 2, 6, 1, 1, 5, 1, 0, 2, 4, 5, 5, 3, 1, 7, 7, 6, 4, 3, 1, 4, 3, 3, 5, 4, 0, 1, 1, 6, 3, 7, 5, 3, 0, 4, 5, 4, 5, 2, 3, 7, 3, 2, 4, 4, 3, 7, 3, 4, 3, 1, 5, 6, 0, 2, 1, 0, 0, 7, 5, 0, 0, 4, 1, 7, 3, 6, 7, 5, 1, 7, 2, 3, 1, 3, 2, 0, 0, 4, 3, 0, 5, 2, 0, 5, 7, 7, 1, 1, 6, 7, 1, 7, 3, 5, 1, 6, 6, 1, 0, 1, 5, 0, 5, 6, 7, 3, 0, 2, 0, 2, 6, 4, 4, 2, 2, 0, 0, 2, 0, 1, 0, 7, 2, 3, 4, 0, 5, 7, 2, 6, 0, 2, 6, 4, 2, 3, 6, 2, 3, 2, 3, 5, 7, 0, 4, 5, 1, 7, 4, 4, 3, 3, 6, 3, 0, 2, 7, 7, 3, 0, 0, 0, 7, 5, 5, 2, 6, 4, 0, 4, 5, 6, 5, 4, 7, 0, 4, 4, 1, 4, 4, 7, 1, 3, 3, 0, 5, 6, 7, 2, 2, 3, 5, 1, 4, 7, 1, 1, 5, 0, 7, 7, 6, 2, 4, 1, 2, 6, 4, 5, 3, 5, 4, 4, 2, 3, 1, 4, 6, 7, 3, 7, 2, 5, 1, 6, 0, 1, 3, 1, 0, 6, 0, 7, 2, 0, 6, 1, 0, 6, 5, 5, 2, 1, 2, 7, 3, 7, 2, 3, 3, 0, 3, 5, 7, 3, 4, 4, 0, 6, 4, 2, 4, 3, 0, 4, 6, 5, 4, 6, 0, 6, 5, 0, 5, 7, 7, 0, 1, 7, 1, 0, 5, 5, 2, 2, 5, 5, 5, 5, 6, 1, 2, 7, 4, 5, 4, 2, 3, 0, 3, 1, 2, 5, 6, 2, 5, 0, 1, 0, 6, 6, 6, 3, 5, 5, 6, 1, 7, 6, 4, 3, 5, 4, 2, 0, 7, 3, 3, 1, 5, 4, 6, 3, 6, 7, 3, 6, 0, 3, 3, 6, 3, 4, 1, 6, 5, 3, 0, 5, 6, 1, 7, 2, 2, 4, 7, 7, 5, 2, 5, 1, 0, 0, 2, 4, 2, 6, 3, 2, 4, 5, 4, 4, 3, 7, 0, 5, 1, 2, 3, 0, 7, 1, 0, 2, 1, 1, 5, 1, 7, 7, 7, 4, 6, 4, 7, 7, 3, 6, 1, 6, 1, 0, 0, 3, 3, 3, 7, 3, 6, 1, 5, 4, 4, 5, 0, 1, 4, 7, 6, 3, 1, 5, 7, 5, 3, 4, 3, 1, 5, 0, 0, 5, 5, 1, 1, 2, 5, 6, 0, 0, 2, 3, 2, 1, 3, 3, 7, 0, 3, 1, 7, 2, 3, 6, 4, 6, 4, 7, 7, 1, 0, 5, 5, 4, 7, 5, 5, 6, 5, 0, 5, 3, 2, 4, 4, 5, 6, 1, 5, 5, 0, 6, 7, 7, 6, 3, 1, 4, 0, 2, 2, 6, 6, 4, 7, 0, 2, 2, 1, 5, 7, 6, 6, 1, 2, 7, 3, 2, 7, 2, 0, 7, 3, 4, 6, 4, 2, 1, 2, 3, 3, 6, 4, 7, 6, 6, 0, 4, 0, 5, 4, 7, 4, 0, 6, 5, 6, 1, 3, 3, 0, 7, 2, 1, 3, 1, 7, 2, 0, 6, 1, 2, 7, 6, 0, 2, 1, 4, 5, 3, 1, 5, 6, 0, 4, 6, 0, 2, 4, 1, 7, 7, 3, 1, 7, 5, 3, 1, 6, 2, 4, 1, 2, 1, 2, 4, 4, 3, 2, 0, 7, 2, 7, 0, 4, 7, 3, 3, 2, 1, 1, 4, 1, 0, 5, 3, 4, 2, 0, 4, 3, 6, 5, 5, 6, 6, 7, 0, 6, 7, 3, 3, 7, 3, 3, 2, 7, 0, 4, 4, 6, 7, 1, 5, 0, 7, 6, 6, 2, 3, 4, 3, 6, 0, 2, 5, 5, 3, 5, 2, 2, 0, 1, 0, 6, 5, 5, 0, 0, 4, 5, 5, 7, 2, 3, 2, 7, 1, 5, 5, 4, 5, 7, 0, 5, 7, 7, 5, 5, 2, 6, 7, 6, 5, 7, 4, 6, 0, 5, 2, 6, 0, 6, 2, 2, 1, 6, 1, 1, 3, 2, 4, 6, 3, 2, 4, 6, 7, 4, 7, 3, 2, 2, 5, 5, 1, 0, 4, 3, 1, 2, 3, 7, 4, 6, 6, 5, 0, 2, 2, 4, 2, 4, 4, 1, 4, 2, 0, 4, 5, 3, 2, 5, 2, 0, 7, 2, 3, 6, 0, 3, 4, 1, 6, 6, 7, 2, 7, 0, 7, 6, 0, 4, 6, 7, 5, 7, 5, 1, 6, 7, 6, 3, 5, 2, 2, 4, 2, 6, 5, 0, 3, 4, 7, 4, 0, 5, 5, 1, 5, 1, 1, 0, 6, 7, 1, 1, 0, 7, 3, 0, 3, 2, 3, 6, 7, 5, 4, 3, 6, 3, 5, 1, 1, 3, 5, 4, 1, 7, 1, 0, 0, 5, 1, 2, 2, 1, 5, 7, 0, 3, 6, 5, 4, 3, 1, 2, 7, 2, 0, 5, 0, 6, 1, 2, 4, 7, 0, 1, 1, 6, 3, 5, 6, 3, 6, 2, 6, 7, 5, 7, 5, 4, 5, 1, 3, 6, 4, 1, 6, 6, 2, 5, 2, 5, 4, 3, 3, 1, 0, 7, 0, 7, 7, 3, 3, 7, 3, 2, 3, 0, 0, 7, 2, 1, 2, 4, 6, 4, 7, 2, 1, 0, 1, 7, 6, 6, 2, 7, 3, 6, 7, 4, 5, 4, 5, 1, 1, 6, 4, 2, 0, 5, 3, 7, 0, 6, 1, 4, 2, 4, 6, 7, 7, 0, 2, 4, 5, 2, 0, 3, 0, 3, 2, 3, 4, 2, 3, 7, 3, 1, 5, 6, 2, 3, 3, 0, 5, 1, 3, 3, 3, 1, 7, 4, 1, 2, 4, 2, 3, 4, 7, 7, 5, 1, 1, 7, 1, 6, 6, 5, 7, 2, 7, 2, 6, 6, 1, 5, 5, 5, 0, 7, 0, 5, 5, 5, 4, 6, 3, 5, 0, 3, 7, 5, 4, 3, 7, 3, 2, 3, 1, 5, 4, 3, 7, 0, 0, 5, 7, 1, 3, 3, 2, 4, 0, 7, 2, 7, 2, 7, 4, 2, 1, 0, 2, 0, 5, 3, 5, 2, 2, 4, 3, 1, 7, 5, 5, 1, 1, 0, 6, 2, 1, 4, 7, 0, 7, 7, 4, 0, 0, 4, 5, 0, 2, 6, 7, 1, 7, 7, 5, 4, 1, 5, 4, 5, 4, 6, 7, 6, 7, 4, 6, 5, 2, 3, 4, 4, 5, 6, 0, 6, 6, 0, 4, 6, 0, 7, 5, 5, 1, 0, 6, 7, 5, 6, 3, 3, 1, 6, 0, 1, 7, 3, 3, 5, 0, 6, 4, 2, 7, 7, 7, 4, 6, 6, 7, 2, 7, 4, 1, 1, 7, 0, 1, 6, 1, 5, 5, 1, 6, 6, 7, 3, 6, 5, 3, 3, 4, 4, 7, 5, 7, 4, 7, 5, 6, 4, 0, 4, 0, 7, 2, 4, 2, 7, 7, 5, 0, 3, 3, 3, 6, 2, 0, 3, 4, 7, 7, 3, 6, 2, 2, 7, 5, 0, 3, 6, 3, 0, 5, 5, 7, 6, 6, 7, 0, 0, 7, 6, 6, 2, 1, 6, 5, 5, 1, 5, 3, 5, 5, 0, 7, 3, 6, 0, 3, 0, 3, 4, 3, 5, 0, 7, 4, 6, 7, 4, 4, 4, 7, 1, 1, 0, 0, 2, 1, 7, 0, 0, 3, 5, 6, 4, 7, 1, 4, 7, 3, 3, 6, 0, 3, 2, 7, 0, 7, 7, 5, 2, 4, 5, 7, 5, 0, 0, 1, 1, 5, 1, 6, 5, 2, 0, 1, 1, 7, 0, 6, 3, 5, 5, 4, 2, 1, 6, 3, 5, 5, 1, 5, 1, 7, 4, 3, 2, 2, 2, 2, 1, 5, 3, 5, 7, 3, 2, 5, 1, 7, 6, 0, 5, 5, 2, 1, 6, 6, 0, 3, 3, 7, 5, 3, 0, 0, 1, 4, 4, 6, 0, 5, 0, 2, 4, 6, 3, 3, 5, 7, 3, 6, 4, 2, 5, 6, 4, 6, 3, 1, 1, 3, 0, 6, 1, 6, 4, 6, 1, 3, 1, 6, 2, 7, 0, 2, 3, 6, 7, 6, 2, 3, 7, 2, 3, 2, 4, 3, 7, 5, 1, 4, 1, 0, 3, 0, 3, 1, 7, 0, 4, 7, 0, 3, 6, 7, 6, 0, 2, 5, 4, 3, 1, 2, 1, 2, 3, 0, 7, 4, 0, 5, 0, 5, 7, 1, 6, 0, 7, 6, 6, 2, 3, 3, 3, 1, 4, 2, 5, 4, 4, 1, 1, 1, 0, 7, 1, 3, 4, 4, 6, 3, 3, 2, 1, 6, 5, 4, 1, 3, 7, 7, 4, 7, 2, 2, 0, 1, 1, 1, 4, 3, 7, 2, 6, 1, 6, 2, 2, 5, 2, 7, 0, 6, 0, 0, 1, 6, 7, 6, 0, 4, 6, 1, 5, 2, 0, 3, 2, 3, 5, 7, 6, 1, 3, 5, 4, 5, 0, 3, 2, 3, 5, 1, 1, 1, 1, 4, 1, 3, 4, 4, 5, 3, 1, 1, 5, 0, 5, 6, 2, 6, 7, 4, 1, 7, 2, 7, 2, 7, 5, 2, 7, 1, 4, 2, 6, 1, 7, 3, 6, 7, 3, 4, 6, 2, 2, 7, 0, 5, 3, 5, 5, 1, 6, 5, 0, 0, 5, 3, 7, 5, 1, 1, 5, 0, 6, 4, 6, 1, 6, 3, 2, 5, 4, 1, 0, 3, 7, 5, 4, 1, 1, 4, 1, 3, 2, 6, 7, 0, 2, 0, 5, 2, 4, 7, 0, 3, 1, 0, 1, 6, 0, 7, 7, 0, 1, 3, 6, 0, 6, 6, 1, 6, 4, 0, 1, 0, 4, 3, 3, 3, 0, 1, 6, 4, 3, 6, 6, 2, 6, 4, 7, 1, 7, 2, 2, 4, 2, 2, 0, 6, 5, 4, 6, 2, 1, 4, 5, 1, 5, 4, 6, 1, 3, 3, 1, 6, 3, 3, 0, 2, 6, 2, 4, 4, 5, 5, 0, 5, 7, 4, 1, 3, 3, 6, 0, 6, 4, 3, 4, 4, 2, 3, 6, 2, 5, 7, 4, 1, 0, 2, 2, 6, 5, 5, 6, 7, 7, 6, 3, 0, 2, 5, 2, 6, 3, 6, 6, 7, 5, 5, 5, 1, 5, 0, 0, 2, 5, 6, 3, 6, 3, 3, 2, 3, 0, 1, 4, 4, 4, 0, 6, 0, 0, 4, 3, 6, 2, 0, 6, 7, 3, 0, 5, 2, 5, 5, 0, 2, 0, 0, 4, 5, 7, 4, 3, 4, 3, 6, 4, 0, 7, 3, 5, 3, 2, 3, 5, 1, 5, 5, 4, 7, 2, 3, 6, 1, 4, 6, 4, 0, 3, 4, 2, 4, 6, 0, 4, 2, 0, 3, 6, 7, 7, 1, 6, 6, 6, 4, 3, 0, 4, 5, 5, 3, 6, 0, 5, 1, 1, 1, 4, 1, 5, 0, 5, 3, 6, 3, 1, 3, 2, 1, 4, 1, 5, 3, 5, 3, 6, 5, 3, 6, 6, 7, 4, 5, 3, 4, 2, 2, 5, 2, 1, 1, 1, 5, 3, 5, 1, 6, 3, 3, 2, 6, 3, 7, 5, 5, 3, 6, 7, 6, 2, 4, 5, 1, 3, 5, 4, 6, 5, 6, 4, 5, 4, 1, 2, 0, 6, 5, 1, 5, 2, 5, 7, 1, 0, 6, 2, 5, 6, 7, 0, 0, 0, 6, 3, 0, 7, 7, 5, 6, 0, 1, 5, 5, 3, 2, 7, 0, 5, 5, 1, 0, 1, 3, 2, 3, 3, 6, 1, 1, 5, 6, 3, 3, 4, 6, 1, 5, 3, 2, 3, 5, 2, 5, 1, 4, 1, 6, 6, 7, 2, 7, 0, 1, 6, 1, 3, 1, 0, 1, 4, 5, 4, 0, 2, 7, 3, 5, 5, 4, 2, 5, 1, 6, 5, 5, 6, 4, 5, 4, 2, 4, 0, 1, 4, 0, 2, 4, 5, 1, 7, 4, 6, 0, 6, 5, 0, 0, 3, 2, 6, 7, 5, 5, 6, 3, 4, 4, 6, 6, 0, 0, 0, 5, 0, 5, 0, 2, 5, 7, 7, 5, 4, 5, 7, 7, 5, 2, 4, 1, 5, 7, 1, 6, 6, 0, 6, 7, 7, 5, 2, 4, 1, 7, 6, 0, 1, 6, 5, 5, 0, 4, 3, 7, 6, 7, 5, 0, 1, 2, 5, 2, 7, 0, 2, 2, 3, 5, 7, 6, 3, 0, 0, 6, 4, 4, 6, 4, 0, 5, 2, 6, 3, 2, 2, 3, 7, 0, 7, 1, 3, 3, 3, 3, 6, 1, 1, 5, 6, 1, 7, 5, 6, 6, 7, 2, 7, 5, 6, 4, 4, 1, 3, 2, 4, 1, 7, 5, 2, 1, 0, 2, 4, 3, 7, 2, 0, 0, 5, 6, 5, 6, 7, 5, 4, 2, 4, 6, 7, 3, 3, 7, 4, 3, 3, 2, 7, 2, 4, 3, 6, 5, 1, 6, 4, 6, 4, 1, 1, 7, 1, 5, 3, 4, 5, 7, 5, 2, 6, 2, 1, 2, 4, 7, 4, 2, 2, 0, 5, 6, 7, 6, 6, 2, 6, 0, 6, 5, 3, 0, 5, 5, 7, 0, 1, 5, 3, 6, 7, 2, 5, 4, 2, 6, 2, 0, 7, 4, 2, 2, 0, 0, 5, 6, 5, 2, 4, 0, 7, 2, 6, 3, 1, 5, 3, 1, 7, 4, 0, 2, 4, 4, 4, 7, 7, 2, 0, 2, 7, 0, 0, 1, 6, 0, 3, 0, 0, 1, 7, 3, 2, 5, 3, 5, 0, 0, 4, 4, 3, 7, 4, 3, 1, 0, 7, 7, 2, 4, 5, 0, 0, 4, 1, 4, 2, 6, 4, 5, 5, 7, 0, 0, 1, 7, 4, 1, 4, 5, 3, 3, 6, 5, 0, 1, 3, 2, 5, 2, 6, 6, 6, 3, 5, 3, 4, 4, 4, 3, 7, 2, 2, 0, 5, 0, 3, 0, 6, 4, 1, 2, 5, 7, 5, 5, 4, 1, 3, 1, 7, 2, 4, 6, 6, 0, 7, 6, 7, 4, 6, 4, 6, 5, 2, 5, 1, 4, 3, 1, 2, 7, 2, 3, 5, 5, 3, 7, 6, 0, 5, 3, 4, 4, 0, 7, 2, 4, 1, 3, 6, 7, 7, 5, 6, 1, 1, 2, 2, 1, 6, 3, 1, 2, 2, 4, 4, 4, 3, 3, 3, 7, 7, 3, 7, 1, 1, 7, 5, 4, 5, 3, 6, 1, 0, 0, 5, 3, 7, 7, 7, 3, 1, 6, 4, 2, 7, 5, 4, 0, 6, 6, 2, 1, 2, 5, 1, 6, 7, 1, 6, 1, 3, 0, 6, 6, 4, 0, 3, 7, 6, 7, 7, 6, 5, 4, 3, 1, 3, 7, 1, 2, 2, 5, 2, 3, 4, 1, 6, 1, 1, 5, 4, 4, 6, 6, 5, 6, 7, 5, 4, 5, 1, 7, 0, 6, 0, 0, 2, 2, 6, 1, 1, 3, 5, 7, 7, 0, 6, 7, 7, 4, 0, 3, 4, 3, 5, 4, 7, 7, 0, 2, 6, 1, 3, 6, 2, 6, 1, 2, 0, 6, 7, 0, 7, 2, 3, 2, 3, 3, 5, 0, 6, 2, 2, 2, 2, 2, 0, 7, 2, 7, 3, 6, 2, 6, 6, 6, 1, 4, 0, 5, 2, 4, 1, 0, 2, 5, 4, 0, 3, 7, 5, 0, 0, 1, 5, 6, 7, 0, 4, 4, 2, 6, 3, 7, 1, 4, 0, 5, 5, 4, 7, 1, 4, 1, 3, 1, 5, 2, 4, 4, 4, 0, 7, 2, 3, 4, 6, 1, 3, 0, 1, 5, 0, 6, 1, 7, 4, 3, 7, 6, 5, 7, 0, 7, 7, 7, 0, 0, 5, 0, 0, 1, 6, 1, 3, 0, 2, 5, 1, 0, 2, 0, 0, 3, 3, 4, 5, 1, 0, 5, 0, 5, 1, 6, 0, 4, 1, 5, 5, 1, 1, 7, 1, 2, 3, 3, 7, 3, 6, 4, 3, 5, 3, 4, 1, 0, 5, 1, 7, 2, 4, 2, 5, 0, 2, 5, 3, 4, 0, 2, 0, 0, 2, 0, 0, 0, 4, 5, 2, 7, 4, 1, 6, 5, 7, 1, 4, 4, 2, 4, 0, 7, 1, 1, 5, 4, 4, 0, 5, 5, 1, 7, 0, 4, 1, 1, 2, 2, 4, 4, 0, 2, 4, 0, 6, 1, 1, 5, 7, 3, 0, 0, 4, 3, 3, 0, 3, 2, 6, 5, 0, 6, 1, 5, 2, 6, 2, 7, 3, 2, 6, 5, 7, 0, 4, 3, 4, 4, 3, 0, 3, 7, 5, 5, 3, 1, 3, 2, 2, 5, 6, 1, 2, 0, 4, 7, 4, 6, 0, 3, 1, 0, 1, 3, 0, 3, 0, 5, 6, 6, 5, 5, 0, 1, 0, 0, 1, 1, 2, 2, 4, 3, 4, 7, 5, 0, 6, 7, 3, 2, 6, 3, 4, 6, 7, 2, 2, 5, 5, 5, 4, 4, 3, 1, 0, 2, 1, 0, 0, 6, 5, 2, 5, 1, 0, 0, 5, 4, 6, 3, 1, 0, 6, 1, 5, 1, 3, 0, 0, 2, 1, 1, 3, 1, 2, 6, 6, 3, 5, 3, 7, 5, 4, 4, 7, 1, 4, 1, 4, 7, 2, 1, 3, 4, 3, 0, 4, 2, 3, 5, 7, 1, 3, 0, 3, 4, 3, 1, 4, 7, 5, 3, 3, 4, 5, 5, 3, 6, 2, 4, 1, 5, 1, 7, 1, 6, 0, 5, 2, 5, 1, 7, 6, 3, 5, 6, 2, 3, 0, 3, 2, 1, 5, 7, 5, 2, 5, 4, 2, 4, 2, 1, 7, 7, 4, 0, 1, 7, 7, 4, 4, 4, 6, 4, 4, 7, 0, 6, 7, 7, 6, 2, 5, 0, 0, 3, 3, 3, 7, 6, 6, 7, 7, 4, 5, 6, 2, 1, 4, 7, 0, 1, 1, 2, 7, 7, 3, 3, 3, 6, 6, 7, 3, 1, 4, 0, 0, 5, 1, 3, 0, 7, 2, 6, 1, 6, 5, 4, 1, 7, 7, 4, 2, 5, 0, 2, 0, 5, 3, 0, 0, 6, 1, 5, 6, 7, 5, 1, 5, 0, 7, 2, 0, 7, 3, 7, 2, 0, 2, 7, 5, 6, 4, 5, 6, 1, 1, 6, 0, 1, 5, 3, 7, 3, 0, 4, 3, 4, 5, 5, 2, 2, 4, 0, 1, 3, 3, 1, 6, 6, 4, 5, 3, 6, 1, 3, 2, 4, 2, 0, 1, 3, 2, 1, 6, 0, 1, 1, 3, 4, 7, 1, 5, 1, 6, 1, 7, 5, 1, 3, 7, 3, 3, 2, 6, 6, 7, 0, 5, 1, 2, 3, 4, 1, 2, 3, 6, 6, 0, 5, 1, 7, 4, 0, 0, 2, 2, 6, 2, 4, 0, 3, 4, 2, 2, 7, 1, 5, 2, 7, 3, 3, 5, 5, 6, 4, 0, 5, 4, 4, 4, 0, 7, 1, 3, 3, 6, 3, 6, 0, 0, 7, 3, 7, 5, 5, 7, 4, 4, 3, 5, 7, 7, 0, 4, 7, 4, 3, 3, 3, 4, 3, 2, 4, 6, 3, 7, 5, 7, 3, 4, 1, 5, 4, 5, 0, 1, 3, 4, 3, 5, 5, 6, 3, 4, 4, 0, 4, 2, 2, 4, 6, 1, 2, 3, 2, 2, 7, 1, 6, 1, 7, 3, 0, 6, 3, 6, 2, 3, 5, 7, 1, 0, 0, 7, 2, 2, 1, 2, 5, 6, 3, 2, 5, 1, 7, 0, 5, 6, 2, 4, 1, 1, 6, 3, 2, 4, 2, 0, 0, 4, 7, 4, 1, 1, 3, 6, 7, 0, 7, 5, 5, 7, 1, 3, 4, 3, 2, 1, 0, 5, 1, 3, 7, 5, 0, 6, 7, 5, 1, 5, 7, 1, 2, 7, 7, 3, 1, 0, 7, 0, 0, 7, 0, 1, 2, 3, 5, 4, 5, 3, 7, 5, 3, 3, 0, 1, 3, 1, 5, 7, 7, 3, 7, 4, 7, 0, 6, 2, 0, 0, 6, 2, 3, 6, 2, 3, 1, 0, 5, 7, 7, 7, 2, 3, 3, 5, 4, 7, 1, 6, 0, 2, 0, 6, 3, 2, 4, 7, 4, 4, 2, 1, 7, 6, 7, 6, 5, 2, 6, 3, 3, 3, 3, 1, 6, 4, 3, 0, 3, 6, 0, 7, 5, 7, 4, 5, 6, 3, 6, 3, 5, 1, 5, 6, 6, 3, 2, 7, 1, 0, 0, 7, 4, 1, 7, 6, 7, 6, 4, 1, 6, 3, 0, 4, 5, 1, 5, 2, 5, 6, 3, 0, 7, 2, 2, 1, 7, 5, 5, 0, 4, 1, 7, 5, 1, 0, 7, 5, 2, 4, 2, 1, 5, 3, 6, 0, 5, 2, 1, 1, 3, 7, 1, 5, 7, 6, 1, 4, 6, 1, 2, 4, 1, 7, 4, 0, 1, 4, 3, 0, 4, 1, 6, 0, 0, 0, 6, 0, 4, 6, 0, 4, 7, 1, 3, 2, 6, 7, 7, 3, 4, 4, 6, 6, 7, 2, 2, 4, 7, 5, 2, 1, 3, 2, 1, 7, 5, 5, 3, 7, 2, 3, 3, 3, 0, 4, 4, 2, 0, 5, 4, 0, 4, 4, 7, 5, 5, 5, 5, 1, 5, 4, 0, 4, 4, 6, 5, 0, 0, 3, 0, 3, 3, 1, 6, 5, 3, 6, 0, 6, 6, 5, 4, 7, 4, 3, 5, 5, 1, 7, 1, 0, 2, 7, 5, 6, 2, 7, 5, 7, 3, 0, 7, 7, 3, 3, 6, 0, 2, 6, 7, 5, 4, 2, 1, 4, 7, 4, 0, 7, 3, 4, 0, 0, 1, 4, 4, 6, 0, 1, 1, 2, 7, 6, 7, 6, 3, 0, 0, 5, 0, 6, 6, 7, 0, 0, 2, 1, 4, 1, 0, 3, 5, 4, 7, 2, 7, 1, 3, 4, 2, 1, 4, 2, 0, 7, 4, 5, 6, 3, 1, 2, 2, 0, 2, 6, 4, 1, 5, 3, 4, 4, 7, 2, 5, 1, 4, 2, 3, 6, 3, 4, 2, 2, 6, 4, 3, 4, 0, 4, 7, 7, 2, 1, 5, 7, 1, 0, 6, 7, 2, 5, 1, 3, 1, 0, 4, 4, 7, 6, 1, 4, 7, 0, 0, 6, 3, 5, 7, 1, 3, 3, 3, 6, 7, 1, 7, 1, 3, 1, 0, 2, 1, 1, 4, 2, 0, 6, 7, 3, 1, 2, 2, 2, 1, 3, 2, 2, 7, 7, 0, 2, 1, 2, 7, 2, 7, 3, 3, 6, 0, 5, 0, 1, 7, 2, 6, 0, 1, 5, 4, 5, 2, 1, 5, 0, 0, 4, 6, 2, 7, 5, 6, 6, 5, 5, 5, 1, 1, 0, 1, 7, 5, 1, 4, 7, 1, 6, 4, 5, 0, 3, 4, 4, 7, 0, 1, 6, 3, 5, 2, 7, 0, 5, 2, 1, 7, 7, 7, 2, 6, 5, 1, 5, 3, 5, 5, 2, 7, 1, 5, 3, 6, 1, 0, 1, 2, 2, 1, 3, 7, 2, 3, 7, 5, 2, 7, 6, 0, 0, 2, 7, 4, 7, 0, 6, 4, 2, 4, 2, 4, 0, 7, 1, 7, 2, 3, 7, 5, 3, 5, 7, 3, 2, 6, 5, 2, 5, 4, 2, 1, 4, 2, 5, 6, 2, 7, 1, 3, 7, 3, 2, 5, 4, 5, 0, 3, 7, 7, 4, 4, 4, 3, 5, 3, 2, 3, 5, 3, 5, 0, 5, 3, 5, 0, 0, 6, 0, 7, 2, 5, 1, 3, 6, 7, 1, 7, 5, 6, 6, 6, 6, 1, 2, 1, 4, 0, 7, 3, 0, 5, 3, 0, 7, 0, 7, 7, 3, 6, 4, 0, 5, 7, 0, 5, 3, 0, 0, 4, 5, 5, 4, 4, 2, 3, 0, 6, 3, 5, 1, 3, 0, 3, 4, 5, 5, 1, 4, 3, 6, 3, 5, 4, 1, 4, 1, 0, 0, 5, 6, 7, 3, 5, 7, 7, 6, 4, 5, 0, 4, 1, 5, 5, 5, 3, 4, 7, 2, 5, 1, 6, 0, 2, 2, 0, 7, 4, 4, 4, 6, 5, 7, 4, 5, 2, 5, 6, 7, 3, 0, 5, 4, 5, 7, 0, 4, 1, 5, 2, 4, 1, 6, 0, 5, 4, 1, 6, 4, 2, 6, 7, 2, 5, 5, 2, 3, 3, 0, 5, 7, 3, 4, 1, 0, 7, 6, 0, 3, 1, 3, 6, 5, 2, 7, 4, 1, 2, 3, 2, 1, 6, 5, 3, 7, 5, 4, 6, 2, 6, 2, 1, 5, 1, 0, 3, 1, 4, 1, 4, 2, 4, 4, 1, 6, 6, 4, 7, 3, 0, 3, 4, 5, 3, 7, 0, 0, 3, 0, 2, 0, 5, 2, 6, 4, 1, 4, 0, 2, 0, 3, 6, 4, 2, 3, 4, 0, 7, 6, 2, 7, 4, 2, 6, 4, 0, 1, 7, 5, 6, 7, 5, 6, 0, 3, 1, 3, 3, 1, 1, 1, 7, 6, 0, 0, 6, 1, 5, 6, 5, 7, 0, 1, 7, 0, 7, 0, 7, 7, 4, 3, 7, 4, 0, 2, 6, 5, 2, 2, 1, 4, 7, 4, 1, 0, 1, 7, 7, 4, 3, 1, 6, 6, 7, 4, 3, 4, 1, 7, 4, 1, 2, 5, 2, 3, 6, 3, 3, 2, 7, 3, 3, 5, 3, 0, 6, 6, 0, 6, 6, 7, 4, 3, 0, 4, 0, 5, 0, 4, 2, 6, 3, 0, 5, 4, 6, 4, 3, 0, 1, 3, 6, 0, 1, 3, 5, 5, 2, 5, 0, 3, 5, 5, 2, 6, 2, 2, 0, 6, 4, 7, 1, 1, 0, 1, 5, 1, 0, 6, 2, 0, 4, 1, 3, 7, 3, 1, 4, 2, 5, 1, 3, 7, 2, 2, 0, 1, 0, 0, 6, 7, 3, 5, 4, 5, 5, 2, 1, 0, 6, 2, 3, 0, 2, 7, 6, 1, 2, 7, 4, 4, 3, 7, 5, 4, 7, 2, 3, 3, 7, 0, 7, 2, 5, 2, 5, 7, 5, 7, 7, 5, 7, 4, 4, 1, 4, 0, 0, 7, 2, 6, 5, 5, 7, 5, 4, 7, 0, 2, 3, 1, 2, 2, 3, 7, 2, 5, 0, 5, 3, 4, 0, 4, 0, 6, 0, 5, 2, 3, 0, 7, 6, 4, 1, 5, 1, 0, 4, 4, 1, 5, 1, 6, 3, 7, 1, 0, 2, 5, 7, 7, 0, 0, 5, 5, 5, 4, 0, 4, 5, 5, 6, 7, 1, 4, 1, 3, 6, 3, 1, 6, 7, 5, 0, 5, 4, 4, 6, 6, 0, 3, 5, 6, 5, 1, 2, 5, 4, 7, 4, 6, 3, 6, 6, 0, 4, 3, 1, 2, 0, 1, 5, 7, 4, 2, 3, 7, 0, 7, 4, 2, 7, 5, 7, 4, 1, 2, 2, 7, 1, 4, 4, 0, 1, 5, 3, 0, 3, 3, 0, 7, 5, 7, 3, 6, 1, 7, 7, 3, 7, 5, 7, 2, 0, 7, 1, 3, 5, 5, 3, 7, 1, 5, 7, 0, 4, 1, 7, 4, 1, 3, 0, 6, 5, 5, 0, 4, 1, 1, 3, 3, 7, 3, 1, 4, 0, 3, 7, 5, 5, 3, 3, 5, 4, 0, 6, 1, 4, 4, 1, 5, 2, 3, 6, 3, 7, 1, 4, 4, 7, 0, 4, 4, 3, 6, 0, 4, 6, 0, 3, 5, 0, 2, 1, 5, 1, 7, 0, 2, 6, 1, 4, 3, 6, 3, 3, 2, 4, 5, 0, 7, 5, 5, 1, 2, 0, 6, 1, 1, 4, 4, 7, 4, 3, 4, 2, 6, 5, 7, 6, 3, 0, 0, 6, 4, 6, 6, 4, 0, 6, 2, 5, 3, 6, 1, 0, 0, 3, 3, 7, 1, 2, 1, 1, 0, 3, 4, 6, 6, 7, 4, 7, 7, 0, 2, 7, 0, 1, 5, 6, 4, 0, 1, 3, 7, 1, 2, 3, 6, 6, 5, 4, 7, 2, 1, 3, 6, 5, 7, 2, 3, 5, 6, 4, 0, 1, 2, 5, 3, 2, 6, 6, 2, 1, 7, 0, 1, 3, 1, 4, 2, 2, 1, 6, 7, 7, 4, 5, 5, 0, 4, 5, 7, 5, 2, 7, 0, 3, 0, 2, 1, 6, 3, 0, 5, 5, 3, 4, 1, 3, 5, 4, 4, 1, 5, 3, 6, 3, 4, 3, 0, 4, 2, 0, 3, 4, 7, 3, 4, 5, 0, 0, 5, 4, 7, 0, 6, 1, 2, 7, 1, 1, 5, 7, 1, 4, 1, 7, 3, 7, 6, 7, 5, 6, 6, 6, 0, 4, 4, 0, 3, 5, 1, 3, 1, 1, 4, 3, 6, 2, 1, 3, 7, 0, 3, 7, 3, 6, 2, 0, 3, 4, 3, 2, 7, 3, 0, 2, 6, 5, 2, 5, 7, 6, 0, 7, 4, 1, 5, 4, 6, 1, 3, 0, 0, 0, 0, 5, 0, 3, 5, 6, 2, 0, 0, 0, 5, 4, 1, 2, 0, 6, 0, 3, 5, 4, 2, 3, 6, 7, 3, 3, 4, 5, 1, 6, 3, 6, 7, 5, 1, 4, 7, 7, 5, 4, 4, 1, 6, 5, 3, 0, 5, 1, 1, 0, 4, 7, 3, 4, 3, 1, 6, 4, 0, 7, 0, 7, 5, 4, 6, 3, 0, 2, 3, 0, 7, 5, 3, 7, 7, 4, 6, 6, 4, 5, 5, 4, 2, 2, 1, 3, 2, 1, 5, 1, 2, 6, 5, 4, 7, 6, 6, 5, 0, 1, 2, 7, 6, 4, 4, 0, 1, 6, 2, 6, 6, 7, 1, 6, 5, 0, 5, 4, 0, 1, 2, 4, 3, 0, 0, 0, 0, 7, 7, 0, 3, 6, 2, 2, 7, 5, 1, 5, 2, 6, 4, 6, 3, 6, 2, 6, 6, 7, 3, 2, 4, 5, 7, 7, 3, 7, 6, 1, 4, 1, 1, 0, 7, 4, 7, 1, 3, 1, 2, 6, 6, 3, 0, 6, 7, 3, 7, 5, 5, 3, 2, 4, 7, 1, 2, 6, 2, 0, 4, 0, 1, 7, 3, 6, 2, 3, 7, 1, 2, 2, 3, 2, 4, 1, 2, 4, 4, 3, 2, 7, 6, 5, 7, 2, 4, 1, 5, 7, 5, 6, 5, 5, 4, 2, 3, 2, 2, 1, 7, 4, 5, 0, 2, 0, 2, 0, 2, 4, 0, 2, 7, 6, 7, 4, 2, 0, 5, 0, 5, 3, 2, 4, 5, 2, 0, 5, 7, 5, 7, 2, 1, 0, 4, 0, 4, 6, 3, 0, 2, 5, 0, 7, 0, 4, 3, 6, 5, 6, 6, 5, 3, 3, 2, 5, 4, 7, 6, 0, 7, 7, 4, 1, 0, 4, 5, 0, 5, 0, 4, 5, 1, 1, 6, 3, 7, 1, 5, 3, 7, 1, 5, 4, 2, 1, 6, 6, 0, 7, 6, 3, 3, 2, 2, 0, 0, 4, 5, 1, 1, 0, 2, 7, 7, 7, 3, 7, 5, 0, 0, 0, 6, 1, 6, 2, 4, 4, 0, 3, 2, 3, 1, 4, 5, 7, 7, 0, 7, 7, 1, 4, 0, 0, 3, 4, 2, 3, 6, 5, 7, 5, 2, 0, 0, 3, 6, 6, 6, 6, 2, 0, 6, 2, 6, 7, 6, 5, 0, 6, 6, 1, 5, 1, 2, 2, 0, 1, 7, 1, 3, 6, 4, 5, 7, 6, 6, 0, 2, 0, 6, 3, 7, 1, 1, 5, 6, 2, 7, 3, 7, 6, 1, 6, 0, 6, 0, 5, 2, 3, 1, 4, 3, 7, 2, 6, 7, 6, 5, 6, 6, 7, 1, 0, 5, 1, 2, 1, 4, 7, 3, 6, 1, 7, 1, 6, 2, 0, 2, 4, 1, 7, 7, 6, 5, 7, 1, 5, 1, 3, 4, 5, 4, 5, 4, 2, 7, 4, 4, 1, 0, 4, 1, 2, 6, 5, 3, 5, 2, 1, 7, 3, 4, 4, 2, 2, 0, 5, 3, 3, 4, 0, 0, 4, 3, 0, 4, 6, 4, 3, 6, 4, 5, 4, 3, 4, 1, 6, 1, 7, 7, 1, 7, 4, 6, 1, 3, 3, 3, 5, 1, 7, 2, 6, 4, 5, 2, 5, 2, 3, 7, 5, 3, 0, 7, 6, 7, 1, 5, 3, 2, 0, 7, 5, 2, 3, 7, 5, 1, 6, 1, 2, 5, 5, 5, 7, 0, 1, 6, 6, 5, 1, 0, 7, 1, 7, 2, 4, 5, 1, 5, 4, 3, 1, 0, 4, 6, 7, 6, 4, 7, 3, 6, 2, 5, 0, 7, 3, 0, 5, 1, 0, 5, 4, 6, 7, 6, 5, 0, 5, 4, 4, 0, 5, 3, 5, 2, 4, 6, 5, 0, 4, 2, 2, 0, 3, 6, 4, 3, 1, 1, 0, 6, 7, 5, 3, 0, 3, 0, 0, 5, 0, 5, 4, 6, 4, 1, 1, 1, 7, 6, 6, 0, 3, 1, 1, 1, 1, 6, 4, 2, 6, 2, 5, 4, 7, 5, 7, 3, 6, 2, 0, 6, 1, 1, 1, 4, 0, 4, 4, 5, 3, 1, 5, 2, 4, 3, 6, 7, 3, 4, 4, 7, 5, 6, 6, 7, 7, 7, 3, 7, 5, 1, 0, 3, 2, 6, 5, 7, 4, 4, 7, 5, 4, 1, 1, 3, 7, 6, 1, 2, 5, 6, 5, 2, 4, 7, 6, 3, 5, 2, 2, 2, 4, 0, 1, 0, 6, 5, 0, 4, 0, 3, 6, 5, 6, 2, 2, 1, 4, 4, 1, 3, 6, 4, 4, 2, 6, 3, 3, 0, 2, 0, 2, 2, 1, 2, 0, 3, 7, 3, 2, 7, 3, 1, 2, 1, 3, 2, 4, 0, 2, 2, 0, 5, 7, 0, 7, 1, 5, 6, 7, 2, 5, 4, 6, 5, 2, 1, 3, 2, 6, 0, 2, 7, 2, 2, 2, 1, 4, 4, 3, 7, 6, 3, 1, 6, 3, 4, 7, 7, 0, 1, 1, 3, 2, 4, 6, 4, 0, 2, 7, 2, 2, 3, 7, 3, 2, 6, 1, 3, 6, 3, 1, 2, 6, 5, 5, 1, 3, 0, 2, 6, 5, 7, 4, 7, 6, 3, 7, 2, 3, 7, 6, 6, 3, 6, 2, 1, 4, 5, 2, 4, 5, 4, 5, 4, 6, 1, 5, 2, 0, 0, 3, 1, 6, 0, 2, 0, 5, 4, 2, 3, 2, 2, 1, 4, 4, 6, 3, 5, 1, 4, 4, 6, 2, 0, 7, 5, 2, 7, 3, 5, 3, 2, 5, 0, 6, 7, 6, 6, 6, 5, 4, 7, 2, 7, 1, 5, 3, 6, 6, 5, 5, 6, 7, 4, 6, 7, 3, 5, 1, 5, 3, 1, 4, 0, 3, 3, 2, 3, 4, 3, 7, 7, 1, 2, 1, 1, 0, 5, 0, 7, 3, 5, 7, 0, 1, 2, 5, 3, 2, 0, 0, 1, 3, 4, 2, 5, 0, 6, 6, 6, 5, 3, 1, 7, 6, 0, 7, 2, 2, 0, 2, 3, 0, 2, 0, 7, 3, 1, 4, 7, 1, 2, 5, 2, 1, 3, 7, 6, 2, 4, 1, 3, 6, 2, 2, 7, 6, 7, 0, 5, 3, 4, 7, 1, 5, 0, 1, 7, 4, 5, 1, 7, 3, 5, 5, 4, 7, 2, 6, 5, 0, 4, 6, 6, 3, 0, 4, 3, 0, 5, 0, 0, 2, 2, 4, 5, 2, 0, 5, 4, 1, 0, 4, 2, 4, 7, 7, 5, 6, 3, 7, 3, 4, 0, 4, 6, 0, 2, 3, 3, 1, 5, 1, 1, 6, 5, 4, 0, 3, 4, 0, 4, 2, 6, 7, 6, 7, 3, 2, 2, 6, 0, 6, 2, 4, 5, 1, 4, 1, 3, 5, 6, 5, 4, 1, 0, 2, 1, 2, 5, 2, 6, 0, 6, 7, 2, 6, 6, 5, 5, 0, 5, 2, 6, 5, 2, 4, 0, 2, 5, 6, 3, 6, 7, 4, 0, 7, 7, 0, 2, 1, 2, 1, 6, 3, 6, 6, 5, 5, 2, 1, 6, 1, 7, 6, 1, 5, 6, 6, 7, 0, 3, 1, 3, 4, 4, 1, 3, 4, 0, 0, 3, 3, 4, 5, 3, 2, 6, 0, 6, 1, 2, 1, 3, 6, 3, 6, 4, 2, 6, 7, 5, 0, 4, 0, 0, 6, 5, 5, 6, 5, 3, 6, 0, 7, 0, 1, 5, 6, 7, 0, 5, 7, 7, 2, 7, 1, 6, 3, 2, 3, 0, 6, 0, 1, 4, 1, 1, 2, 4, 1, 2, 4, 2, 4, 5, 4, 7, 0, 0, 2, 2, 2, 6, 5, 7, 3, 4, 0, 7, 3, 7, 7, 2, 5, 5, 0, 3, 6, 3, 6, 0, 3, 2, 1, 0, 2, 3, 4, 3, 3, 2, 3, 1, 6, 4, 1, 0, 0, 4, 2, 6, 0, 3, 0, 3, 7, 1, 7, 3, 5, 0, 7, 3, 7, 6, 4, 3, 0, 7, 0, 6, 0, 5, 5, 1, 3, 0, 1, 0, 4, 2, 0, 2, 7, 7, 1, 1, 2, 1, 2, 6, 6, 2, 4, 2, 6, 2, 2, 2, 0, 0, 4, 6, 0, 6, 2, 3, 2, 4, 5, 0, 0, 2, 6, 2, 0, 1, 2, 3, 2, 5, 3, 2, 6, 2, 6, 0, 1, 6, 6, 2, 3, 4, 1, 5, 3, 2, 2, 7, 0, 7, 5, 4, 1, 2, 4, 5, 4, 7, 3, 7, 7, 2, 5, 5, 2, 3, 7, 5, 2, 7, 7, 4, 2, 3, 0, 4, 1, 1, 3, 6, 4, 4, 2, 3, 4, 5, 0, 6, 5, 0, 5, 7, 2, 0, 3, 1, 6, 3, 1, 3, 7, 5, 3, 0, 6, 4, 3, 1, 4, 1, 3, 3, 6, 5, 0, 3, 6, 1, 4, 7, 4, 4, 2, 0, 7, 1, 6, 6, 5, 0, 3, 4, 0, 6, 0, 1, 7, 4, 7, 3, 6, 5, 0, 7, 5, 0, 2, 7, 1, 6, 3, 6, 7, 4, 4, 4, 0, 5, 2, 6, 6, 2, 3, 2, 2, 3, 2, 0, 5, 0, 6, 7, 5, 6, 3, 3, 4, 5, 0, 3, 0, 2, 7, 7, 2, 5, 0, 7, 0, 2, 0, 1, 4, 4, 3, 7, 3, 1, 5, 5, 6, 3, 5, 7, 1, 2, 5, 0, 5, 2, 7, 1, 3, 3, 4, 6, 0, 5, 5, 2, 5, 2, 7, 7, 2, 6, 6, 7, 7, 1, 2, 4, 7, 7, 0, 7, 6, 0, 7, 2, 1, 7, 4, 5, 2, 1, 7, 6, 6, 5, 6, 4, 3, 6, 7, 6, 7, 5, 6, 1, 3, 7, 0, 7, 3, 4, 6, 4, 1, 3, 2, 6, 7, 7, 1, 1, 6, 2, 5, 7, 6, 5, 7, 4, 4, 7, 3, 4, 3, 1, 0, 5, 5, 1, 5, 3, 1, 4, 4, 2, 5, 3, 6, 3, 3, 1, 3, 1, 5, 4, 1, 6, 5, 1, 7, 6, 4, 5, 4, 7, 4, 1, 6, 1, 0, 1, 4, 5, 6, 1, 5, 5, 2, 3, 7, 2, 6, 2, 5, 3, 4, 6, 5, 5, 0, 0, 5, 7, 4, 0, 3, 0, 2, 6, 5, 7, 7, 3, 3, 2, 3, 0, 0, 6, 2, 7, 4, 7, 3, 7, 1, 6, 4, 5, 7, 2, 6, 0, 6, 3, 1, 0, 5, 0, 5, 7, 2, 2, 2, 3, 0, 6, 4, 6, 1, 6, 3, 0, 6, 5, 3, 6, 7, 4, 0, 5, 1, 3, 0, 1, 6, 2, 3, 7, 6, 6, 4, 3, 1, 7, 7, 6, 1, 1, 0, 0, 7, 7, 6, 1, 7, 5, 0, 3, 3, 6, 7, 3, 0, 1, 6, 5, 4, 6, 3, 0, 7, 0, 5, 4, 5, 1, 3, 1, 5, 0, 4, 4, 4, 1, 1, 1, 7, 7, 6, 5, 6, 4, 1, 6, 4, 5, 2, 4, 2, 3, 5, 7, 0, 4, 2, 4, 1, 6, 1, 4, 5, 4, 1, 3, 1, 1, 4, 2, 7, 6, 5, 4, 2, 2, 5, 5, 7, 4, 7, 0, 0, 4, 1, 3, 4, 4, 6, 3, 3, 2, 6, 6, 2, 4, 7, 4, 5, 4, 4, 3, 1, 5, 7, 4, 6, 5, 3, 4, 1, 3, 1, 3, 1, 7, 7, 2, 2, 0, 2, 6, 3, 1, 4, 0, 0, 1, 0, 6, 5, 3, 5, 5, 4, 4, 4, 5, 2, 1, 1, 4, 7, 3, 2, 6, 5, 0, 7, 6, 2, 0, 3, 4, 5, 5, 2, 5, 4, 2, 1, 2, 0, 5, 3, 2, 0, 0, 1, 2, 7, 1, 5, 5, 3, 6, 6, 7, 5, 4, 6, 5, 4, 4, 6, 3, 5, 0, 4, 4, 2, 2, 2, 2, 3, 3, 1, 3, 3, 0, 3, 6, 5, 3, 2, 3, 4, 2, 0, 6, 1, 6, 2, 1, 2, 6, 4, 6, 5, 7, 4, 7, 0, 3, 0, 5, 0, 4, 5, 1, 7, 1, 2, 4, 2, 4, 6, 5, 4, 3, 4, 0, 0, 6, 0, 2, 6, 5, 0, 0, 1, 2, 4, 5, 6, 4, 1, 2, 4, 5, 6, 2, 4, 4, 4, 3, 3, 5, 6, 5, 1, 0, 6, 5, 7, 5, 1, 3, 6, 1, 6, 5, 4, 5, 5, 1, 1, 1, 2, 1, 0, 1, 0, 3, 0, 4, 4, 4, 4, 6, 1, 5, 1, 7, 4, 6, 2, 1, 3, 7, 1, 5, 1, 1, 0, 6, 1, 4, 7, 7, 0, 6, 3, 7, 5, 2, 3, 3, 2, 5, 1, 2, 2, 2, 4, 0, 0, 7, 2, 7, 0, 4, 6, 7, 5, 0, 2, 5, 7, 1, 0, 3, 5, 2, 5, 4, 4, 4, 2, 1, 4, 3, 1, 0, 0, 2, 1, 5, 4, 5, 0, 3, 1, 6, 3, 5, 1, 4, 5, 2, 0, 3, 7, 6, 7, 4, 0, 7, 3, 7, 1, 3, 4, 7, 2, 0, 4, 1, 6, 4, 4, 4, 7, 4, 7, 1, 2, 2, 3, 3, 6, 3, 0, 5, 2, 0, 6, 2, 0, 4, 1, 7, 4, 2, 0, 6, 2, 7, 7, 2, 4, 1, 3, 1, 0, 3, 7, 6, 0, 6, 0, 2, 5, 3, 5, 1, 7, 7, 2, 4, 5, 2, 7, 6, 4, 7, 5, 5, 2, 2, 4, 2, 7, 2, 4, 0, 6, 7, 0, 5, 6, 1, 1, 7, 6, 0, 0, 6, 2, 1, 7, 2, 3, 5, 5, 0, 4, 4, 6, 6, 6, 6, 3, 5, 0, 7, 1, 4, 7, 0, 2, 4, 4, 3, 5, 2, 7, 6, 0, 6, 7, 3, 5, 1, 0, 3, 0, 6, 7, 0, 6, 2, 7, 2, 3, 4, 4, 6, 3, 4, 0, 6, 2, 5, 5, 7, 2, 2, 3, 5, 4, 6, 1, 1, 5, 5, 6, 5, 6, 6, 2, 4, 6, 1, 2, 7, 0, 3, 7, 4, 3, 6, 0, 2, 6, 4, 1, 3, 4, 7, 6, 7, 7, 6, 5, 5, 5, 4, 3, 4, 1, 0, 6, 0, 4, 2, 2, 4, 1, 0, 1, 4, 2, 2, 4, 1, 3, 4, 7, 4, 3, 2, 5, 6, 6, 0, 3, 1, 0, 1, 1, 1, 4, 1, 1, 0, 2, 6, 0, 5, 4, 0, 5, 0, 0, 5, 1, 2, 0, 3, 0, 4, 0, 6, 3, 1, 1, 3, 2, 5, 0, 0, 6, 7, 2, 4, 7, 3, 7, 5, 2, 5, 0, 0, 5, 3, 0, 0, 2, 0, 6, 5, 7, 1, 0, 1, 4, 6, 6, 4, 0, 2, 7, 4, 7, 2, 7, 6, 1, 7, 1, 6, 5, 1, 1, 2, 2, 4, 4, 2, 3, 2, 4, 6, 3, 7, 0, 2, 6, 2, 6, 0, 4, 7, 2, 7, 2, 3, 2, 3, 6, 5, 3, 0, 6, 6, 4, 5, 2, 7, 6, 3, 3, 6, 2, 4, 0, 5, 7, 3, 2, 5, 7, 2, 1, 3, 0, 2, 6, 4, 5, 1, 1, 6, 7, 0, 0, 7, 1, 7, 3, 5, 5, 0, 6, 2, 1, 7, 2, 0, 3, 5, 7, 2, 5, 1, 2, 3, 2, 2, 4, 6, 4, 4, 6, 3, 5, 5, 0, 3, 3, 7, 2, 7, 4, 6, 3, 2, 2, 7, 3, 4, 7, 7, 3, 3, 0, 3, 1, 2, 5, 7, 5, 3, 0, 3, 2, 3, 3, 4, 6, 3, 6, 0, 2, 2, 0, 7, 4, 1, 5, 5, 2, 6, 0, 3, 2, 7, 4, 6, 2, 7, 7, 0, 1, 7, 2, 7, 2, 0, 4, 2, 7, 0, 7, 6, 4, 6, 7, 1, 1, 6, 1, 4, 1, 7, 7, 0, 0, 3, 2, 7, 0, 5, 6, 1, 0, 1, 2, 7, 2, 3, 5, 4, 1, 5, 2, 0, 7, 4, 7, 3, 4, 3, 4, 4, 7, 2, 5, 3, 1, 4, 2, 5, 7, 0, 2, 5, 5, 5, 4, 2, 6, 0, 5, 5, 4, 1, 7, 3, 0, 3, 0, 0, 7, 3, 7, 5, 0, 4, 5, 1, 7, 4, 5, 4, 7, 2, 2, 6, 4, 4, 0, 4, 4, 0, 4, 7, 5, 0, 6, 0, 2, 4, 1, 6, 3, 5, 2, 5, 7, 7, 3, 0, 7, 4, 1, 5, 6, 3, 7, 7, 6, 5, 5, 1, 2, 4, 7, 4, 6, 4, 5, 0, 7, 6, 4, 4, 1, 7, 1, 4, 3, 4, 0, 7, 7, 7, 1, 0, 1, 1, 1, 0, 0, 2, 6, 7, 6, 2, 7, 1, 2, 5, 3, 7, 6, 6, 6, 0, 1, 2, 7, 5, 4, 4, 4, 2, 6, 0, 6, 6, 3, 6, 3, 6, 3, 0, 2, 3, 0, 7, 3, 7, 7, 1, 1, 3, 1, 3, 0, 0, 2, 6, 0, 0, 2, 3, 0, 6, 6, 0, 4, 1, 5, 1, 6, 4, 6, 3, 1, 2, 2, 2, 1, 7, 3, 5, 4, 1, 3, 4, 6, 5, 4, 1, 0, 1, 0, 5, 1, 1, 3, 3, 1, 1, 2, 2, 4, 2, 1, 0, 0, 2, 4, 6, 4, 7, 1, 3, 5, 2, 3, 6, 5, 5, 7, 3, 7, 0, 6, 4, 4, 3, 3, 2, 1, 0, 5, 2, 6, 5, 2, 7, 7, 7, 3, 3, 0, 6, 0, 1, 3, 3, 7, 2, 6, 0, 7, 3, 3, 5, 6, 4, 3, 4, 2, 6, 3, 4, 4, 1, 7, 7, 4, 3, 2, 4, 4, 7, 7, 7, 6, 5, 2, 1, 5, 5, 5, 2, 0, 2, 2, 3, 3, 4, 5, 4, 2, 2, 1, 6, 1, 2, 4, 2, 2, 5, 5, 1, 0, 7, 2, 2, 3, 0, 6, 0, 6, 3, 5, 7, 6, 4, 2, 0, 2, 1, 3, 7, 0, 2, 3, 7, 4, 1, 3, 1, 2, 0, 1, 7, 2, 7, 5, 0, 2, 6, 2, 2, 4, 0, 5, 3, 6, 1, 6, 1, 4, 0, 1, 0, 5, 7, 2, 5, 6, 3, 7, 0, 0, 3, 5, 3, 4, 2, 2, 6, 4, 2, 4, 4, 5, 0, 2, 7, 0, 7, 6, 7, 4, 6, 6, 2, 0, 2, 1, 6, 7, 3, 5, 5, 5, 1, 1, 3, 0, 2, 4, 1, 5, 2, 2, 3, 3, 5, 4, 7, 3, 5, 6, 6, 7, 1, 7, 7, 7, 1, 0, 0, 5, 0, 0, 3, 3, 5, 0, 2, 2, 3, 7, 5, 6, 1, 4, 5, 5, 7, 1, 1, 3, 4, 5, 5, 0, 4, 5, 2, 7, 2, 6, 2, 4, 2, 5, 4, 2, 2, 6, 4, 2, 1, 6, 4, 2, 3, 0, 3, 4, 4, 3, 0, 4, 0, 4, 2, 3, 3, 4, 6, 2, 5, 2, 0, 7, 5, 4, 6, 4, 1, 6, 1, 4, 4, 5, 2, 2, 0, 3, 4, 7, 1, 1, 3, 4, 2, 7, 4, 6, 3, 5, 4, 3, 0, 2, 0, 2, 2, 3, 2, 3, 5, 2, 3, 5, 4, 6, 4, 4, 3, 2, 1, 2, 1, 7, 4, 2, 6, 3, 6, 3, 1, 0, 3, 4, 7, 4, 7, 1, 5, 4, 3, 6, 3, 6, 2, 5, 3, 0, 3, 0, 5, 0, 7, 2, 4, 6, 2, 1, 4, 5, 6, 1, 3, 1, 3, 5, 2, 5, 0, 1, 5, 0, 6, 7, 0, 0, 4, 5, 3, 1, 6, 6, 1, 1, 5, 5, 2, 2, 4, 7, 3, 1, 0, 2, 2, 3, 4, 2, 2, 1, 0, 0, 3, 6, 7, 0, 3, 5, 5, 0, 7, 6, 7, 0, 2, 6, 2, 4, 5, 6, 4, 6, 4, 6, 5, 3, 6, 6, 2, 2, 5, 4, 1, 4, 6, 5, 0, 4, 1, 4, 0, 7, 2, 3, 3, 3, 5, 4, 6, 1, 3, 5, 3, 1, 2, 2, 4, 7, 4, 2, 6, 0, 2, 5, 0, 4, 4, 1, 1, 0, 2, 0, 4, 6, 7, 3, 1, 7, 1, 2, 3, 2, 2, 1, 7, 5, 6, 2, 3, 4, 3, 6, 6, 3, 4, 4, 4, 6, 1, 1, 5, 2, 5, 4, 6, 5, 7, 2, 1, 1, 0, 1, 5, 3, 0, 1, 0, 1, 0, 6, 6, 6, 1, 0, 2, 6, 4, 5, 3, 7, 4, 2, 7, 2, 6, 4, 5, 4, 1, 4, 7, 3, 0, 6, 4, 6, 0, 5, 2, 7, 2, 3, 6, 5, 0, 0, 0, 4, 3, 3, 7, 1, 5, 0, 4, 5, 2, 1, 1, 7, 3, 6, 0, 2, 6, 7, 0, 2, 1, 7, 6, 2, 6, 1, 5, 2, 2, 7, 1, 6, 7, 6, 4, 5, 5, 6, 6, 1, 7, 7, 5, 7, 3, 7, 0, 7, 3, 3, 7, 6, 0, 5, 3, 0, 6, 2, 3, 5, 1, 5, 7, 1, 1, 5, 4, 2, 3, 2, 3, 7, 1, 5, 3, 3, 0, 1, 7, 5, 3, 0, 4, 1, 6, 0, 4, 6, 4, 4, 1, 6, 5, 7, 4, 1, 7, 2, 0, 1, 6, 2, 4, 1, 6, 0, 1, 7, 3, 3, 2, 4, 3, 3, 7, 3, 7, 6, 7, 2, 1, 3, 7, 3, 2, 7, 0, 2, 7, 1, 7, 0, 5, 1, 5, 0, 7, 3, 6, 1, 3, 4, 1, 1, 0, 7, 5, 5, 2, 5, 6, 5, 3, 7, 7, 1, 0, 3, 2, 2, 3, 0, 0, 2, 6, 6, 1, 3, 3, 3, 3, 7, 3, 1, 4, 0, 6, 4, 2, 1, 4, 0, 6, 2, 0, 5, 0, 5, 3, 3, 3, 4, 5, 0, 2, 7, 7, 3, 1, 7, 2, 1, 5, 2, 0, 5, 7, 1, 0, 2, 5, 0, 4, 1, 3, 2, 1, 4, 7, 2, 4, 3, 2, 4, 4, 4, 6, 5, 2, 6, 2, 7, 3, 3, 0, 0, 4, 2, 3, 5, 3, 4, 3, 6, 6, 5, 6, 5, 5, 5, 0, 1, 7, 0, 5, 5, 4, 3, 3, 1, 4, 3, 7, 2, 3, 0, 2, 2, 4, 5, 4, 6, 3, 4, 3, 5, 1, 1, 7, 3, 0, 2, 0, 0, 1, 5, 6, 3, 6, 2, 7, 7, 2, 1, 4, 7, 0, 4, 0, 2, 0, 1, 1, 1, 3, 4, 3, 1, 1, 1, 0, 6, 1, 7, 2, 7, 3, 3, 6, 4, 5, 1, 4, 5, 0, 6, 1, 0, 0, 3, 0, 6, 5, 0, 3, 5, 0, 3, 1, 5, 6, 5, 7, 2, 3, 3, 2, 4, 6, 6, 2, 1, 6, 1, 1, 1, 0, 0, 0, 3, 0, 7, 4, 3, 7, 6, 4, 4, 7, 6, 2, 5, 2, 0, 2, 4, 3, 6, 3, 7, 1, 3, 4, 1, 6, 2, 0, 4, 0, 5, 1, 4, 0, 1, 7, 4, 2, 4, 3, 3, 3, 4, 0, 4, 3, 7, 7, 2, 0, 7, 5, 1, 3, 3, 4, 1, 2, 5, 1, 1, 7, 4, 5, 7, 2, 2, 5, 2, 5, 0, 1, 6, 4, 0, 0, 1, 3, 2, 0, 3, 0, 5, 6, 4, 3, 6, 4, 6, 7, 2, 5, 0, 7, 7, 0, 4, 2, 3, 3, 6, 6, 4, 1, 6, 6, 7, 5, 1, 6, 5, 5, 6, 4, 2, 2, 3, 4, 6, 1, 5, 2, 7, 0, 3, 4, 1, 3, 5, 1, 5, 0, 4, 2, 6, 5, 0, 5, 0, 1, 6, 5, 6, 5, 4, 4, 7, 1, 1, 7, 5, 4, 0, 2, 5, 3, 0, 3, 6, 7, 7, 7, 1, 0, 6, 0, 1, 7, 6, 5, 3, 1, 0, 5, 7, 7, 6, 0, 7, 5, 0, 0, 2, 7, 2, 2, 0, 3, 4, 6, 4, 2, 7, 6, 6, 3, 1, 7, 0, 5, 3, 1, 2, 2, 6, 3, 1, 7, 0, 4, 4, 1, 2, 5, 6, 3, 5, 4, 1, 2, 4, 2, 3, 3, 7, 3, 2, 1, 5, 7, 4, 7, 6, 6, 5, 4, 2, 5, 7, 1, 6, 5, 5, 2, 4, 7, 0, 1, 0, 6, 5, 5, 0, 1, 7, 0, 5, 7, 0, 4, 7, 1, 3, 3, 0, 2, 5, 1, 7, 2, 1, 1, 2, 1, 3, 3, 6, 6, 4, 7, 0, 7, 1, 3, 5, 0, 2, 4, 4, 7, 4, 5, 2, 2, 7, 7, 4, 4, 7, 7, 0, 7, 5, 0, 5, 4, 1, 4, 0, 3, 1, 0, 3, 6, 3, 0, 7, 4, 5, 1, 4, 4, 7, 1, 4, 6, 3, 5, 5, 2, 4, 2, 7, 2, 5, 3, 6, 1, 4, 4, 3, 1, 0, 6, 7, 5, 5, 4, 4, 1, 7, 3, 0, 5, 7, 2, 2, 5, 1, 5, 3, 5, 1, 3, 2, 1, 6, 0, 4, 3, 5, 5, 6, 5, 1, 2, 1, 7, 3, 2, 6, 5, 4, 2, 4, 1, 0, 0, 4, 2, 7, 6, 5, 5, 0, 5, 2, 1, 4, 3, 0, 6, 6, 7, 6, 2, 1, 3, 4, 6, 2, 4, 5, 0, 3, 5, 4, 3, 5, 5, 4, 1, 0, 4, 6, 2, 6, 0, 7, 2, 2, 7, 7, 5, 4, 4, 5, 6, 1, 1, 3, 2, 2, 4, 2, 4, 4, 2, 6, 0, 5, 7, 4, 5, 3, 0, 4, 0, 4, 4, 3, 0, 5, 7, 1, 6, 6, 2, 6, 2, 0, 7, 4, 1, 2, 4, 1, 7, 2, 6, 0, 3, 7, 4, 2, 2, 0, 2, 6, 7, 7, 7, 7, 4, 6, 6, 6, 3, 0, 1, 5, 4, 0, 1, 3, 0, 7, 4, 5, 0, 1, 0, 3, 2, 7, 4, 7, 5, 7, 0, 6, 6, 7, 4, 1, 3, 1, 6, 1, 4, 5, 4, 2, 2, 2, 2, 0, 2, 3, 5, 1, 5, 4, 2, 4, 3, 3, 4, 2, 6, 7, 5, 0, 6, 1, 2, 5, 0, 5, 3, 7, 5, 4, 3, 4, 7, 3, 7, 4, 1, 6, 3, 5, 6, 0, 4, 1, 2, 0, 2, 1, 1, 1, 3, 0, 3, 3, 2, 1, 6, 4, 1, 3, 6, 2, 3, 5, 1, 3, 7, 1, 1, 1, 2, 7, 4, 6, 2, 6, 3, 1, 1, 7, 3, 1, 6, 6, 0, 2, 7, 5, 4, 4, 7, 4, 2, 0, 7, 0, 3, 6, 2, 2, 2, 1, 2, 7, 3, 0, 5, 7, 5, 6, 7, 2, 7, 7, 5, 5, 2, 0, 0, 7, 0, 3, 4, 5, 4, 2, 2, 1, 1, 0, 0, 3, 1, 1, 1, 1, 2, 2, 7, 6, 4, 4, 1, 3, 0, 6, 6, 1, 3, 3, 1, 7, 1, 5, 4, 6, 2, 1, 2, 3, 7, 5, 7, 1, 3, 1, 3, 1, 0, 3, 6, 6, 5, 7, 3, 5, 6, 4, 5, 3, 7, 4, 6, 4, 2, 0, 2, 1, 4, 6, 5, 4, 6, 0, 5, 7, 4, 6, 7, 3, 1, 4, 6, 6, 3, 1, 3, 0, 7, 0, 0, 5, 6, 7, 5, 1, 5, 5, 7, 0, 0, 6, 0, 3, 0, 1, 1, 4, 3, 6, 6, 3, 6, 6, 4, 4, 0, 4, 3, 4, 1, 3, 3, 5, 7, 3, 1, 1, 1, 3, 3, 3, 5, 3, 4, 1, 6, 0, 5, 3, 5, 7, 4, 2, 3, 1, 7, 2, 0, 2, 5, 3, 5, 5, 6, 4, 3, 6, 2, 7, 1, 7, 5, 0, 3, 0, 2, 2, 0, 0, 7, 4, 2, 2, 5, 7, 7, 4, 5, 4, 2, 4, 5, 2, 4, 2, 6, 7, 7, 1, 7, 4, 3, 2, 7, 7, 2, 4, 4, 5, 4, 5, 0, 2, 6, 6, 7, 4, 5, 7, 1, 3, 4, 0, 7, 6, 0, 7, 3, 0, 1, 2, 6, 2, 5, 6, 2, 3, 7, 7, 5, 7, 3, 6, 7, 4, 5, 3, 0, 2, 0, 6, 0, 6, 7, 3, 6, 4, 6, 0, 2, 1, 3, 3, 3, 3, 1, 1, 0, 3, 6, 0, 7, 1, 6, 0, 3, 6, 4, 0, 5, 6, 4, 3, 4, 6, 1, 1, 7, 4, 4, 7, 5, 1, 1, 1, 4, 4, 3, 5, 5, 1, 0, 1, 6, 2, 1, 3, 4, 5, 2, 4, 3, 1, 7, 1, 3, 3, 5, 7, 2, 6, 5, 4, 2, 6, 7, 0, 6, 3, 3, 1, 4, 1, 7, 4, 6, 7, 0, 0, 4, 6, 3, 5, 6, 6, 7, 4, 1, 1, 5, 4, 0, 4, 4, 1, 4, 3, 1, 7, 5, 1, 4, 4, 1, 1, 7, 2, 6, 7, 2, 0, 7, 3, 4, 2, 7, 0, 2, 3, 1, 6, 1, 6, 0, 0, 2, 6, 4, 5, 7, 3, 2, 5, 0, 6, 6, 1, 1, 6, 2, 5, 5, 5, 5, 0, 6, 2, 4, 4, 7, 1, 2, 6, 3, 6, 5, 5, 1, 4, 4, 0, 1, 2, 3, 1, 5, 0, 1, 1, 5, 2, 1, 5, 7, 2, 6, 2, 4, 7, 4, 3, 7, 7, 7, 2, 7, 4, 6, 4, 6, 5, 6, 5, 6, 1, 4, 0, 5, 2, 0, 7, 7, 3, 1, 2, 2, 4, 2, 1, 7, 2, 4, 4, 2, 4, 6, 6, 5, 7, 0, 0, 2, 2, 3, 7, 7, 6, 0, 4, 1, 7, 3, 3, 6, 4, 0, 7, 2, 6, 6, 2, 1, 4, 3, 1, 2, 7, 6, 7, 2, 4, 5, 1, 7, 4, 1, 6, 0, 3, 0, 0, 7, 6, 1, 1, 3, 5, 1, 2, 3, 0, 1, 1, 3, 7, 4, 0, 7, 5, 4, 2, 1, 4, 5, 6, 5, 5, 2, 1, 4, 2, 0, 0, 2, 6, 6, 2, 3, 0, 6, 4, 3, 7, 0, 3, 5, 2, 7, 7, 3, 4, 1, 0, 4, 2, 4, 5, 5, 4, 6, 5, 2, 4, 1, 6, 5, 6, 6, 4, 2, 5, 5, 5, 1, 6, 3, 3, 6, 6, 5, 1, 3, 6, 4, 5, 3, 3, 5, 2, 0, 2, 0, 2, 7, 7, 7, 7, 6, 7, 3, 6, 0, 1, 7, 1, 3, 0, 6, 2, 5, 7, 0, 4, 4, 2, 5, 3, 4, 1, 3, 0, 4, 0, 3, 0, 7, 2, 4, 0, 2, 3, 6, 1, 2, 6, 5, 2, 0, 7, 5, 2, 1, 7, 2, 3, 0, 2, 3, 5, 6, 0, 3, 2, 7, 4, 4, 7, 0, 4, 6, 1, 4, 0, 3, 7, 7, 6, 6, 2, 0, 7, 4, 2, 0, 3, 5, 4, 5, 3, 5, 1, 1, 7, 1, 1, 0, 0, 1, 5, 7, 2, 7, 5, 0, 6, 2, 7, 7, 2, 7, 7, 6, 7, 7, 6, 2, 5, 6, 6, 5, 0, 5, 7, 2, 4, 0, 7, 6, 5, 5, 4, 4, 5, 0, 2, 3, 6, 5, 6, 6, 3, 6, 3, 7, 3, 0, 6, 6, 3, 3, 7, 3, 7, 5, 0, 4, 2, 3, 3, 5, 6, 7, 0, 3, 0, 0, 7, 1, 1, 4, 5, 6, 0, 5, 3, 0, 6, 4, 7, 1, 3, 7, 0, 7, 1, 0, 1, 7, 1, 3, 1, 7, 1, 0, 0, 6, 3, 2, 0, 2, 1, 6, 7, 5, 7, 5, 0, 7, 1, 7, 6, 3, 6, 3, 2, 3, 4, 1, 7, 4, 1, 7, 2, 5, 0, 4, 7, 3, 6, 5, 5, 3, 6, 7, 0, 4, 7, 1, 5, 7, 5, 7, 4, 0, 6, 5, 5, 5, 7, 6, 2, 0, 5, 7, 6, 2, 7, 7, 5, 4, 6, 4, 1, 0, 1, 3, 4, 0, 3, 0, 0, 6, 2, 1, 2, 2, 2, 5, 0, 4, 4, 4, 1, 4, 2, 6, 1, 2, 5, 5, 7, 5, 5, 5, 7, 1, 1, 6, 7, 3, 3, 2, 0, 4, 4, 4, 0, 3, 5, 7, 6, 3, 1, 0, 4, 7, 3, 0, 6, 3, 7, 2, 7, 1, 2, 5, 5, 4, 2, 3, 7, 3, 0, 2, 6, 0, 6, 7, 6, 7, 6, 6, 2, 2, 3, 4, 3, 1, 6, 1, 1, 6, 6, 7, 6, 7, 3, 0, 6, 5, 2, 3, 5, 3, 0, 3, 2, 5, 1, 7, 5, 5, 6, 4, 4, 5, 1, 0, 2, 3, 3, 6, 2, 3, 7, 3, 1, 3, 0, 2, 4, 7, 2, 7, 7, 4, 0, 7, 5, 4, 2, 2, 6, 5, 1, 0, 0, 7, 7, 1, 1, 7, 0, 2, 6, 5, 5, 7, 6, 2, 4, 5, 0, 4, 1, 5, 2, 0, 6, 7, 7, 1, 6, 5, 4, 7, 3, 7, 7, 7, 7, 0, 4, 2, 5, 7, 5, 6, 1, 5, 4, 1, 3, 0, 5, 3, 1, 0, 5, 7, 2, 4, 3, 7, 0, 6, 4, 7, 4, 6, 4, 0, 3, 6, 6, 6, 7, 5, 7, 7, 0, 4, 6, 7, 6, 3, 5, 4, 6, 6, 2, 1, 5, 0, 1, 3, 2, 7, 2, 5, 1, 6, 2, 1, 1, 6, 1, 4, 7, 6, 3, 2, 2, 3, 5, 1, 6, 2, 7, 7, 5, 5, 3, 2, 6, 1, 5, 7, 4, 5, 7, 1, 5, 7, 6, 5, 6, 7, 1, 1, 4, 5, 7, 6, 4, 1, 5, 3, 7, 7, 1, 3, 4, 7, 1, 6, 3, 5, 2, 2, 0, 1, 0, 1, 7, 1, 0, 4, 6, 4, 1, 6, 5, 7, 6, 3, 3, 2, 7, 2, 5, 7, 5, 2, 6, 5, 1, 5, 6, 3, 2, 2, 0, 0, 0, 7, 6, 7, 5, 6, 1, 0, 7, 4, 7, 6, 3, 1, 2, 3, 1, 5, 2, 4, 1, 6, 7, 6, 0, 2, 3, 6, 4, 2, 3, 6, 5, 5, 3, 4, 2, 6, 5, 6, 7, 2, 5, 7, 1, 2, 5, 4, 2, 1, 2, 2, 0, 1, 0, 0, 3, 1, 3, 2, 5, 4, 6, 4, 0, 5, 3, 5, 5, 1, 5, 4, 4, 7, 1, 2, 3, 6, 6, 1, 3, 3, 1, 0, 0, 7, 0, 7, 5, 3, 4, 4, 4, 5, 4, 6, 7, 2, 7, 1, 0, 3, 5, 5, 2, 4, 6, 5, 5, 2, 5, 3, 3, 1, 5, 3, 5, 5, 3, 2, 7, 5, 3, 4, 3, 3, 5, 5, 6, 7, 3, 0, 2, 4, 7, 3, 2, 5, 6, 1, 2, 3, 6, 3, 3, 3, 1, 3, 0, 3, 4, 1, 6, 1, 3, 6, 4, 7, 1, 4, 6, 0, 4, 3, 6, 0, 3, 2, 1, 0, 4, 3, 1, 5, 4, 6, 5, 4, 7, 6, 7, 1, 4, 4, 6, 0, 4, 4, 0, 5, 5, 5, 5, 1, 4, 3, 6, 6, 1, 2, 6, 6, 3, 0, 2, 4, 4, 6, 7, 0, 3, 1, 0, 3, 6, 2, 7, 0, 1, 4, 7, 3, 6, 4, 0, 1, 3, 2, 0, 4, 7, 4, 0, 3, 1, 4, 2, 2, 4, 1, 0, 0, 5, 7, 2, 6, 0, 4, 2, 3, 2, 2, 1, 3, 0, 3, 2, 6, 3, 6, 6, 4, 2, 6, 3, 2, 4, 0, 5, 5, 4, 4, 6, 1, 3, 0, 3, 0, 1, 4, 5, 2, 0, 4, 0, 3, 6, 6, 0, 7, 4, 0, 6, 6, 6, 0, 3, 1, 0, 0, 0, 5, 7, 4, 6, 0, 6, 4, 1, 0, 1, 3, 0, 0, 4, 1, 4, 1, 4, 4, 3, 5, 7, 3, 6, 5, 6, 0, 4, 5, 7, 1, 4, 5, 2, 7, 0, 5, 6, 1, 1, 7, 2, 2, 0, 4, 6, 3, 7, 0, 0, 1, 6, 7, 6, 5, 3, 5, 3, 5, 7, 7, 5, 0, 1, 6, 4, 5, 7, 5, 6, 0, 6, 5, 3, 4, 5, 7, 0, 7, 5, 6, 3, 0, 4, 4, 6, 5, 1, 3, 3, 0, 1, 3, 1, 4, 5, 2, 4, 7, 0, 3, 0, 0, 3, 7, 7, 3, 7, 1, 7, 0, 3, 0, 3, 6, 1, 5, 6, 3, 6, 3, 1, 2, 4, 2, 0, 2, 4, 7, 1, 7, 2, 4, 2, 1, 6, 1, 0, 4, 5, 4, 1, 4, 4, 4, 3, 1, 4, 4, 3, 0, 4, 5, 5, 4, 7, 1, 0, 7, 6, 0, 7, 3, 2, 6, 1, 3, 2, 0, 0, 7, 5, 5, 0, 3, 4, 4, 1, 3, 1, 7, 0, 6, 5, 0, 3, 4, 2, 6, 3, 4, 0, 4, 0, 1, 1, 0, 3, 2, 2, 4, 2, 0, 2, 5, 4, 6, 7, 6, 4, 5, 5, 7, 3, 3, 1, 0, 4, 0, 7, 1, 6, 5, 0, 4, 5, 6, 7, 0, 0, 6, 4, 0, 7, 6, 0, 5, 1, 7, 2, 1, 2, 6, 7, 5, 1, 3, 5, 6, 1, 2, 5, 7, 5, 3, 0, 4, 2, 3, 2, 6, 3, 0, 0, 4, 7, 7, 4, 0, 4, 7, 7, 6, 1, 2, 0, 5, 3, 7, 0, 1, 1, 2, 1, 0, 2, 6, 1, 3, 0, 6, 0, 0, 7, 3, 5, 4, 1, 2, 4, 2, 5, 5, 4, 5, 5, 2, 0, 5, 2, 3, 5, 6, 1, 7, 6, 0, 0, 6, 6, 7, 5, 1, 4, 5, 7, 4, 4, 3, 0, 0, 4, 3, 0, 4, 7, 0, 5, 4, 0, 6, 6, 3, 4, 6, 2, 3, 3, 0, 5, 0, 3, 3, 5, 5, 3, 5, 1, 5, 5, 4, 7, 2, 0, 5, 4, 0, 6, 1, 0, 0, 2, 7, 5, 3, 6, 6, 2, 4, 7, 5, 6, 6, 0, 2, 3, 3, 3, 7, 1, 0, 3, 6, 4, 1, 0, 7, 4, 0, 6, 3, 5, 7, 6, 7, 1, 6, 1, 2, 3, 1, 7, 2, 1, 3, 7, 6, 5, 7, 0, 2, 5, 5, 1, 2, 3, 0, 4, 1, 4, 1, 7, 1, 7, 6, 2, 7, 2, 6, 2, 2, 6, 6, 0, 2, 7, 4, 3, 0, 1, 7, 5, 7, 3, 5, 7, 4, 7, 7, 7, 7, 1, 2, 2, 6, 4, 5, 6, 6, 6, 5, 3, 1, 1, 2, 7, 0, 3, 6, 4, 4, 6, 4, 6, 5, 0, 4, 6, 6, 3, 2, 1, 6, 3, 6, 1, 2, 6, 3, 4, 2, 3, 2, 2, 4, 5, 3, 2, 4, 2, 1, 3, 6, 1, 7, 4, 7, 7, 3, 1, 7, 5, 5, 3, 5, 0, 6, 4, 4, 6, 4, 0, 7, 4, 6, 5, 5, 0, 3, 1, 2, 1, 2, 1, 4, 2, 4, 3, 3, 6, 5, 5, 1, 2, 6, 5, 4, 7, 0, 0, 4, 0, 7, 0, 0, 0, 7, 0, 1, 1, 6, 7, 1, 2, 2, 4, 1, 4, 6, 6, 1, 5, 1, 6, 6, 0, 4, 5, 7, 6, 1, 6, 2, 7, 4, 5, 3, 0, 6, 4, 1, 3, 1, 3, 2, 2, 0, 5, 6, 7, 0, 4, 7, 7, 0, 4, 4, 0, 2, 0, 4, 0, 4, 3, 1, 4, 4, 0, 5, 3, 2, 3, 7, 2, 1, 0, 1, 0, 0, 3, 5, 1, 3, 4, 7, 7, 0, 6, 6, 7, 3, 2, 7, 7, 6, 3, 3, 7, 1, 0, 1, 2, 2, 3, 2, 0, 7, 4, 0, 0, 5, 3, 6, 5, 0, 6, 3, 1, 6, 0, 3, 7, 1, 3, 1, 0, 6, 0, 4, 4, 0, 2, 3, 3, 1, 2, 4, 4, 2, 4, 2, 0, 1, 7, 3, 5, 0, 6, 2, 0, 5, 5, 6, 2, 0, 1, 3, 1, 7, 7, 2, 7, 2, 4, 5, 6, 5, 6, 1, 0, 3, 5, 7, 4, 4, 1, 6, 3, 4, 1, 3, 6, 6, 5, 6, 2, 7, 3, 3, 0, 1, 0, 6, 5, 0, 0, 5, 5, 0, 5, 6, 1, 6, 6, 2, 7, 1, 6, 0, 1, 4, 7, 2, 6, 1, 4, 2, 2, 1, 7, 0, 5, 6, 2, 6, 7, 3, 1, 7, 6, 6, 6, 2, 6, 1, 6, 4, 3, 7, 0, 5, 1, 0, 4, 3, 6, 2, 6, 5, 6, 3, 7, 1, 0, 2, 2, 0, 1, 3, 0, 1, 2, 0, 2, 5, 1, 7, 0, 4, 7, 0, 3, 5, 3, 4, 4, 0, 7, 7, 7, 2, 3, 3, 2, 5, 6, 6, 5, 3, 4, 1, 3, 3, 4, 3, 0, 3, 7, 2, 6, 6, 2, 5, 1, 5, 6, 0, 5, 5, 4, 5, 6, 2, 5, 6, 2, 1, 5, 7, 2, 2, 3, 3, 0, 5, 0, 2, 3, 2, 6, 7, 1, 6, 3, 4, 0, 0, 1, 3, 1, 7, 1, 0, 3, 6, 6, 3, 0, 6, 6, 5, 2, 0, 4, 0, 7, 3, 5, 3, 6, 7, 2, 4, 4, 3, 2, 0, 5, 1, 4, 6, 3, 6, 7, 2, 7, 2, 5, 0, 7, 4, 4, 5, 4, 6, 1, 6, 0, 7, 5, 4, 3, 5, 0, 2, 2, 6, 7, 1, 5, 6, 5, 1, 4, 2, 0, 4, 4, 4, 5, 5, 0, 6, 2, 3, 2, 4, 3, 5, 1, 1, 6, 1, 7, 6, 2, 6, 0, 5, 4, 6, 2, 0, 2, 6, 6, 7, 4, 5, 7, 0, 1, 1, 0, 4, 7, 2, 4, 5, 4, 1, 6, 4, 6, 1, 0, 2, 4, 6, 7, 2, 6, 2, 3, 4, 7, 5, 7, 0, 1, 4, 0, 0, 1, 0, 0, 1, 1, 6, 2, 3, 3, 2, 3, 5, 4, 4, 6, 4, 3, 7, 5, 0, 5, 6, 1, 4, 3, 4, 1, 2, 0, 5, 1, 5, 5, 2, 7, 2, 6, 2, 0, 1, 6, 7, 6, 4, 6, 0, 4, 7, 4, 3, 7, 4, 4, 3, 6, 7, 6, 0, 6, 6, 4, 1, 2, 7, 6, 7, 0, 4, 3, 1, 3, 5, 7, 1, 4, 0, 2, 6, 2, 5, 7, 2, 4, 2, 7, 4, 1, 4, 5, 1, 4, 6, 0, 4, 5, 4, 7, 0, 0, 7, 7, 6, 6, 4, 7, 2, 5, 0, 0, 0, 1, 1, 4, 1, 0, 1, 2, 1, 3, 4, 4, 2, 6, 2, 5, 0, 3, 0, 3, 0, 6, 1, 6, 4, 5, 6, 0, 0, 1, 2, 0, 6, 1, 3, 3, 3, 6, 4, 7, 0, 7, 6, 4, 0, 3, 4, 2, 6, 2, 0, 4, 6, 4, 6, 1, 0, 4, 5, 3, 5, 2, 3, 5, 2, 2, 6, 6, 6, 3, 7, 3, 4, 6, 6, 7, 7, 4, 2, 6, 0, 0, 6, 3, 7, 2, 2, 5, 5, 0, 5, 5, 6, 6, 7, 2, 3, 4, 0, 7, 7, 2, 2, 5, 1, 1, 2, 7, 3, 3, 5, 7, 1, 3, 7, 7, 4, 5, 2, 2, 4, 6, 0, 1, 4, 0, 1, 0, 7, 0, 0, 5, 6, 5, 2, 6, 3, 0, 0, 0, 1, 2, 4, 4, 2, 7, 6, 5, 7, 5, 2, 7, 3, 2, 6, 2, 1, 7, 3, 1, 2, 3, 0, 7, 5, 0, 4, 4, 2, 5, 2, 7, 0, 3, 0, 3, 1, 6, 0, 5, 7, 6, 0, 2, 6, 6, 3, 0, 7, 4, 5, 4, 3, 6, 0, 6, 4, 7, 1, 6, 7, 7, 3, 5, 5, 1, 7, 6, 3, 4, 4, 7, 3, 4, 7, 1, 5, 7, 6, 1, 6, 5, 5, 1, 7, 4, 3, 1, 0, 2, 4, 4, 4, 5, 6, 4, 3, 5, 2, 2, 3, 4, 7, 7, 7, 2, 2, 6, 5, 0, 1, 0, 6, 0, 2, 7, 3, 4, 0, 4, 2, 1, 3, 1, 3, 7, 1, 7, 3, 6, 6, 0, 4, 7, 4, 5, 0, 5, 3, 1, 2, 1, 2, 2, 0, 3, 4, 5, 6, 2, 1, 1, 7, 0, 4, 0, 4, 7, 7, 7, 6, 7, 7, 5, 5, 0, 2, 2, 2, 6, 4, 5, 6, 1, 1, 6, 6, 7, 6, 5, 1, 5, 1, 6, 2, 0, 1, 6, 6, 6, 0, 6, 5, 2, 0, 1, 6, 1, 5, 3, 1, 4, 7, 4, 1, 7, 3, 7, 4, 2, 1, 2, 5, 7, 6, 3, 7, 5, 6, 4, 7, 6, 5, 1, 4, 1, 7, 1, 5, 1, 4, 5, 0, 3, 7, 5, 7, 3, 5, 0, 4, 0, 6, 4, 4, 4, 4, 6, 5, 3, 4, 1, 4, 5, 7, 2, 6, 1, 3, 4, 0, 5, 7, 5, 6, 6, 3, 1, 6, 2, 3, 4, 6, 6, 6, 7, 4, 6, 7, 1, 3, 3, 3, 1, 7, 3, 7, 2, 6, 1, 0, 3, 7, 5, 6, 1, 7, 1, 6, 5, 4, 7, 3, 0, 2, 6, 3, 0, 7, 7, 3, 3, 6, 4, 3, 6, 0, 1, 2, 2, 5, 0, 6, 2, 5, 7, 1, 2, 1, 6, 7, 4, 7, 1, 7, 0, 4, 0, 1, 3, 0, 6, 5, 6, 2, 4, 3, 6, 6, 2, 1, 0, 7, 1, 0, 0, 1, 1, 6, 1, 3, 3, 6, 0, 1, 2, 6, 3, 2, 5, 5, 4, 0, 7, 0, 2, 3, 5, 1, 0, 1, 0, 7, 1, 6, 6, 4, 1, 5, 3, 0, 7, 6, 5, 2, 1, 6, 5, 6, 1, 4, 7, 0, 1, 2, 7, 3, 4, 3, 7, 7, 6, 3, 2, 4, 1, 3, 1, 6, 3, 4, 6, 2, 3, 6, 2, 0, 2, 6, 7, 3, 6, 2, 1, 4, 1, 1, 0, 1, 0, 5, 4, 0, 1, 4, 1, 3, 0, 3, 6, 5, 4, 6, 2, 3, 1, 5, 0, 5, 0, 3, 3, 4, 5, 4, 1, 5, 2, 3, 5, 4, 2, 3, 6, 1, 5, 5, 7, 5, 5, 5, 1, 7, 6, 5, 6, 0, 5, 1, 6, 1, 7, 5, 7, 1, 1, 1, 3, 2, 1, 0, 4, 5, 0, 7, 3, 5, 3, 1, 1, 0, 0, 5, 1, 6, 2, 2, 4, 0, 5, 0, 0, 0, 1, 3, 4, 5, 4, 7, 3, 0, 6, 5, 1, 0, 6, 0, 7, 6, 7, 1, 1, 0, 1, 3, 0, 5, 3, 7, 5, 2, 0, 5, 1, 6, 0, 5, 2, 2, 2, 5, 3, 3, 7, 6, 3, 3, 1, 4, 6, 5, 3, 4, 5, 1, 6, 6, 6, 6, 6, 4, 7, 2, 1, 5, 6, 3, 0, 7, 6, 2, 4, 5, 2, 5, 2, 1, 4, 3, 5, 1, 2, 2, 0, 0, 3, 6, 0, 3, 1, 1, 6, 0, 3, 4, 4, 4, 7, 6, 2, 5, 4, 6, 2, 3, 1, 2, 3, 2, 7, 6, 1, 6, 4, 1, 0, 7, 1, 5, 1, 6, 1, 4, 4, 2, 5, 5, 6, 6, 2, 7, 0, 3, 2, 4, 6, 5, 4, 6, 5, 0, 1, 7, 4, 0, 0, 0, 1, 5, 6, 3, 2, 3, 0, 3, 3, 3, 6, 6, 3, 2, 2, 2, 1, 2, 3, 2, 6, 2, 5, 1, 5, 5, 5, 3, 5, 1, 5, 0, 2, 0, 0, 0, 1, 0, 6, 1, 7, 6, 3, 3, 1, 0, 7, 2, 6, 7, 5, 3, 7, 4, 4, 1, 5, 7, 7, 4, 2, 5, 6, 2, 5, 0, 4, 2, 7, 5, 5, 1, 4, 1, 5, 0, 3, 0, 4, 5, 5, 5, 5, 7, 0, 4, 7, 2, 0, 7, 0, 2, 1, 0, 6, 0, 6, 4, 3, 6, 6, 1, 2, 2, 7, 5, 6, 1, 0, 6, 5, 1, 4, 0, 6, 1, 6, 5, 5, 4, 5, 0, 0, 1, 3, 1, 1, 5, 5, 3, 4, 6, 0, 3, 0, 7, 4, 4, 3, 1, 6, 0, 2, 6, 1, 5, 0, 5, 0, 5, 4, 4, 4, 7, 6, 3, 0, 7, 3, 1, 0, 3, 1, 0, 5, 6, 5, 5, 0, 7, 7, 5, 6, 2, 4, 5, 5, 1, 3, 4, 3, 2, 6, 3, 3, 4, 1, 0, 6, 4, 6, 5, 7, 7, 2, 5, 7, 4, 3, 4, 1, 4, 0, 6, 1, 7, 4, 6, 4, 2, 4, 7, 1, 7, 5, 3, 3, 5, 1, 7, 3, 4, 5, 4, 5, 7, 1, 4, 6, 4, 6, 1, 0, 6, 5, 1, 0, 1, 1, 4, 4, 0, 5, 2, 0, 0, 1, 3, 6, 4, 2, 6, 3, 5, 1, 7, 5, 3, 3, 4, 0, 1, 6, 0, 5, 6, 4, 4, 7, 7, 1, 1, 0, 7, 1, 2, 6, 7, 3, 5, 3, 0, 5, 0, 2, 7, 6, 2, 0, 5, 7, 6, 2, 1, 6, 3, 1, 1, 4, 1, 5, 6, 0, 1, 3, 5, 1, 4, 2, 6, 2, 6, 3, 0, 0, 0, 3, 3, 5, 5, 0, 4, 1, 6, 6, 3, 6, 5, 6, 0, 5, 2, 7, 7, 3, 5, 5, 4, 3, 3, 5, 1, 2, 1, 1, 0, 3, 3, 7, 2, 6, 0, 6, 2, 0, 1, 2, 3, 2, 2, 2, 6, 3, 7, 3, 6, 7, 7, 2, 0, 0, 2, 0, 3, 4, 6, 5, 3, 6, 7, 1, 6, 0, 2, 1, 2, 6, 5, 7, 5, 6, 5, 0, 2, 2, 0, 1, 5, 4, 2, 3, 2, 7, 3, 5, 0, 5, 2, 2, 4, 7, 0, 6, 3, 0, 1, 7, 0, 3, 3, 1, 4, 1, 2, 6, 0, 6, 2, 4, 7, 1, 7, 5, 7, 3, 2, 1, 1, 7, 6, 6, 7, 6, 1, 5, 4, 6, 2, 4, 1, 6, 4, 2, 7, 1, 2, 2, 4, 2, 2, 5, 1, 4, 2, 2, 1, 3, 1, 2, 0, 4, 4, 1, 0, 4, 4, 7, 1, 1, 5, 6, 4, 6, 5, 1, 6, 3, 6, 0, 4, 4, 4, 6, 6, 3, 0, 2, 7, 3, 4, 3, 2, 7, 2, 6, 6, 4, 4, 4, 4, 6, 4, 3, 5, 1, 4, 6, 5, 4, 3, 6, 1, 6, 7, 3, 1, 1, 4, 6, 4, 1, 2, 0, 2, 3, 5, 3, 7, 4, 7, 2, 4, 2, 7, 1, 7, 3, 6, 3, 7, 4, 4, 7, 6, 0, 3, 2, 0, 0, 3, 6, 4, 7, 2, 1, 6, 0, 0, 2, 4, 3, 1, 4, 6, 5, 6, 3, 4, 2, 7, 3, 5, 5, 0, 5, 5, 1, 7, 3, 0, 4, 7, 5, 1, 4, 6, 5, 5, 2, 1, 4, 6, 7, 6, 5, 3, 7, 5, 6, 5, 2, 5, 5, 0, 0, 5, 2, 0, 0, 1, 6, 6, 6, 7, 5, 1, 5, 0, 6, 2, 3, 7, 0, 1, 5, 7, 5, 2, 6, 6, 4, 4, 3, 6, 1, 4, 3, 4, 3, 4, 2, 4, 0, 4, 4, 5, 6, 1, 4, 7, 1, 0, 7, 1, 5, 7, 2, 0, 2, 7, 1, 5, 4, 0, 1, 0, 1, 0, 7, 7, 5, 1, 7, 0, 3, 2, 5, 5, 3, 2, 5, 2, 7, 2, 7, 5, 0, 7, 2, 4, 4, 2, 2, 0, 5, 0, 2, 5, 2, 5, 6, 5, 4, 0, 4, 2, 2, 6, 3, 4, 6, 1, 5, 7, 3, 3, 6, 1, 7, 4, 7, 6, 3, 2, 2, 6, 3, 2, 1, 5, 4, 2, 3, 2, 7, 4, 7, 7, 1, 6, 2, 0, 0, 3, 3, 3, 4, 0, 3, 4, 3, 7, 0, 6, 0, 0, 5, 6, 1, 2, 7, 2, 5, 4, 7, 7, 2, 1, 4, 0, 7, 2, 5, 7, 5, 1, 1, 1, 7, 0, 6, 3, 7, 2, 5, 2, 3, 2, 0, 4, 7, 1, 1, 2, 3, 6, 4, 1, 7, 6, 0, 2, 7, 4, 1, 6, 2, 1, 7, 1, 1, 3, 4, 7, 1, 7, 5, 6, 6, 5, 2, 6, 2, 7, 6, 1, 1, 0, 5, 5, 5, 5, 2, 7, 1, 1, 1, 2, 7, 5, 1, 2, 4, 5, 5, 0, 2, 4, 4, 0, 5, 4, 7, 5, 0, 7, 7, 3, 2, 6, 6, 4, 1, 3, 6, 0, 5, 2, 7, 2, 4, 5, 0, 6, 6, 6, 4, 5, 1, 3, 2, 0, 2, 6, 0, 6, 4, 7, 1, 5, 2, 5, 6, 2, 1, 2, 7, 3, 5, 7, 1, 7, 1, 3, 6, 5, 4, 2, 5, 0, 3, 5, 1, 2, 3, 5, 7, 1, 4, 7, 7, 1, 0, 3, 3]\n"
     ]
    }
   ],
   "source": [
    "with open('D:\\workspace/data/AffectNet/face_train_set.pickle','rb') as f:\n",
    "    trainset = pickle.load(f)\n",
    "\n",
    "y_train = trainset['expression']\n",
    "print(y_train)"
   ]
  },
  {
   "cell_type": "code",
   "execution_count": 31,
   "metadata": {},
   "outputs": [],
   "source": [
    "import numpy as np\n",
    "import cv2\n",
    "import pickle\n",
    "\n",
    "def make_x():\n",
    "    with open('D:\\workspace/data/AffectNet/face_test_set.pickle','rb') as f:\n",
    "        faceset = pickle.load(f)\n",
    "    \n",
    "    x_test = []\n",
    "    \n",
    "    #limit 414799\n",
    "    for i in range(3000):\n",
    "        board = np.zeros((int(faceset['width'][i]),int(faceset['width'][i]),3), np.uint8)\n",
    "        shape = landmark_to_np(faceset['facelandmark'][i])\n",
    "        \n",
    "        for (x, y) in shape:\n",
    "            cv2.circle(board, (round(float(x)), round(float(y))), round(int(faceset['width'][i])*0.03), (0, 0, 255), -1)\n",
    "        \n",
    "        #그림크기 일정하게 통일하기\n",
    "        resize_board = resizing(board,L=32)\n",
    "        x_test.append(resize_board)\n",
    "    \n",
    "    \n",
    "    with open('x_test.pickle','wb') as f:\n",
    "        pickle.dump(x_test, f)\n",
    "    \n",
    "make_x()"
   ]
  },
  {
   "cell_type": "code",
   "execution_count": 34,
   "metadata": {},
   "outputs": [],
   "source": [
    "def make_y():\n",
    "    with open('D:\\workspace/data/AffectNet/face_test_set.pickle','rb') as f:\n",
    "        faceset = pickle.load(f)\n",
    "        \n",
    "    y_train = trainset['expression']\n",
    "    with open('y_test.pickle','wb') as f:\n",
    "        pickle.dump(y_train, f)\n",
    "\n",
    "make_y()"
   ]
  },
  {
   "cell_type": "code",
   "execution_count": null,
   "metadata": {},
   "outputs": [],
   "source": []
  }
 ],
 "metadata": {
  "kernelspec": {
   "display_name": "Python 3",
   "language": "python",
   "name": "python3"
  },
  "language_info": {
   "codemirror_mode": {
    "name": "ipython",
    "version": 3
   },
   "file_extension": ".py",
   "mimetype": "text/x-python",
   "name": "python",
   "nbconvert_exporter": "python",
   "pygments_lexer": "ipython3",
   "version": "3.6.3"
  }
 },
 "nbformat": 4,
 "nbformat_minor": 2
}
