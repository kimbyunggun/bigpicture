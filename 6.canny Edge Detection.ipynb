{
 "cells": [
  {
   "cell_type": "markdown",
   "metadata": {},
   "source": [
    "가장 인기있는 에지 찾기 알고리즘 중 하나입니다. 이 알고리즘은 아래와 같은 다단계 알고리즘으로 구성되어 있습니다.\n",
    "\n",
    "1. 노이즈 제거\n",
    "\n",
    "이미지에서 노이즈가 있으면 에지를 제대로 찾는것이 어려울 수 있습니다. 따라서 첫단계로 5 * 5 가우시안 필터를 이용해 이미지의 노이즈를 줄여줍니다.\n",
    "\n",
    "2. Gradient값이 높은 부분 찾기 \n",
    "\n",
    "sobel 커널을 수평, 수직방향으로 적용하여 각 방향의 gradient를 획득합니다. \n",
    "\n",
    "3. 최대값이 아닌 픽셀의 값을 0으로 만들기\n",
    "\n",
    "2단계를 거친 후, 에지에 기여하지 아니한 픽셀을 제거하기 위해서 이미지 전체를 스캔합니다. 이미지를 스캔하는 동안 gradient 방향으로 스캔구역에서 gradient의 최대 값을 가진 픽셀을 찾습니다. \n",
    "\n",
    "4. Hyeresis Thresholding\n",
    "\n",
    "4단계는 3단계를 거친 것들이 실제 엣지인지 판단하는 단계입니다. 먼저 문턱값을 minVal, maxVal 2개를 잡습니다.그래서 문턱보다 높은 부분은 확실히 에지이고 minVal보다 낮은 부분은 엣지가 아니라고 판단 합니다. minVal, maxVal사이값들은 연결구조를 보고 엣지인지 아닌지를 판단합니다."
   ]
  },
  {
   "cell_type": "code",
   "execution_count": 3,
   "metadata": {},
   "outputs": [],
   "source": [
    "import numpy as np\n",
    "import cv2\n",
    "import matplotlib.pyplot as plt\n",
    "\n",
    "def canny():\n",
    "    img = cv2.imread('image/Lenna.png',cv2.IMREAD_GRAYSCALE)\n",
    "    \n",
    "    edge1 = cv2.Canny(img, 50, 200)\n",
    "    edge2 = cv2.Canny(img, 100, 200)\n",
    "    edge3 = cv2.Canny(img, 170, 200)\n",
    "    \n",
    "    cv2.imshow('original', img)\n",
    "    cv2.imshow('Canny Edge1', edge1)\n",
    "    cv2.imshow('Canny Edge2', edge2)\n",
    "    cv2.imshow('Canny Edge3', edge3)\n",
    "    \n",
    "    cv2.waitKey(0)\n",
    "    cv2.destroyAllWindows()\n",
    "    \n",
    "canny()"
   ]
  },
  {
   "cell_type": "markdown",
   "metadata": {},
   "source": [
    "# 얼굴에 대한 Canny"
   ]
  },
  {
   "cell_type": "code",
   "execution_count": 16,
   "metadata": {},
   "outputs": [],
   "source": [
    "import numpy as np\n",
    "import cv2\n",
    "\n",
    "font = cv2.FONT_HERSHEY_SIMPLEX\n",
    "def faceDetect():\n",
    "    eye_detect = True\n",
    "    face_cascade = cv2.CascadeClassifier('datasets/haarcascade_frontface.xml')\n",
    "    eye_cascade = cv2.CascadeClassifier('datasets/haarcascade_eye.xml')\n",
    "    info = ''\n",
    "    \n",
    "    try:\n",
    "        imgfile = 'image/face1.jpg' #이미지 저장 디렉토리\n",
    "        frame = cv2.imread(imgfile, cv2.IMREAD_COLOR) # 이미지 불러오기\n",
    "    except:\n",
    "        print('이미지 로딩 실패')\n",
    "        return\n",
    "            \n",
    "    if eye_detect:\n",
    "        info = 'Eye Detection On'\n",
    "    else:\n",
    "        info = 'Eye Detection Off'\n",
    "            \n",
    "    gray = cv2.cvtColor(frame, cv2.COLOR_BGR2GRAY)\n",
    "    faces = face_cascade.detectMultiScale(gray, 1.3, 5)\n",
    "    \n",
    "    cv2.putText(frame, info, (5, 15), font, 0.5, (255,0,255), 1)\n",
    "    \n",
    "    face_number, xywh = faces.shape\n",
    "    sub_img = {}\n",
    "    edge = {}\n",
    "\n",
    "    \n",
    "    for i in range(face_number):\n",
    "        x, y, w, h = faces[i]\n",
    "        sub_img[i] = gray[y:y+w,x:x+h]\n",
    "        edge[i] = cv2.Canny(sub_img[i] ,30,200)\n",
    "        cv2.namedWindow('edge%s'%i,cv2.WINDOW_NORMAL)\n",
    "        cv2.imshow('face%s'%i, sub_img[i])      \n",
    "        cv2.imshow('edge%s'%i, edge[i])\n",
    "\n",
    "    cv2.namedWindow('gray',cv2.WINDOW_NORMAL)\n",
    "    cv2.imshow('gray', gray)\n",
    "    cv2.waitKey(0)\n",
    "    \n",
    "    k = cv2.waitKey(0) & 0xFF\n",
    "    if k ==27:  #ESC\n",
    "        cv2.destroyAllWindows()  \n",
    "    elif k == ord('c'):\n",
    "        cv2.imwrite('image/people3_copy_g.jpg',gray)\n",
    "        cv2.destroyAllWindows()\n",
    "\n",
    "faceDetect()"
   ]
  }
 ],
 "metadata": {
  "kernelspec": {
   "display_name": "Python 3",
   "language": "python",
   "name": "python3"
  },
  "language_info": {
   "codemirror_mode": {
    "name": "ipython",
    "version": 3
   },
   "file_extension": ".py",
   "mimetype": "text/x-python",
   "name": "python",
   "nbconvert_exporter": "python",
   "pygments_lexer": "ipython3",
   "version": "3.7.0"
  }
 },
 "nbformat": 4,
 "nbformat_minor": 2
}
