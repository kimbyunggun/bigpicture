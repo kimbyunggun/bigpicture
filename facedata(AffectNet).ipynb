{
 "cells": [
  {
   "cell_type": "code",
   "execution_count": 1,
   "metadata": {},
   "outputs": [],
   "source": [
    "import csv\n",
    "import numpy as np"
   ]
  },
  {
   "cell_type": "code",
   "execution_count": 2,
   "metadata": {},
   "outputs": [],
   "source": [
    "f = open('D:\\workspace/training_AffectNet.csv','r')\n",
    "frd = csv.reader(f)\n",
    "facedata = []\n",
    "for i,line in enumerate(frd):\n",
    "    facedata.append(line)"
   ]
  },
  {
   "cell_type": "code",
   "execution_count": 7,
   "metadata": {},
   "outputs": [],
   "source": [
    "#414799개의 데이터\n",
    "#witdth = 이미지 크기, facelandmakr = 랜드마크 좌표, expression = 표정 정보\n",
    "faceset = {}\n",
    "faceset['width'] = []\n",
    "faceset['facelandmark'] = []\n",
    "faceset['expression'] = []\n",
    "for i in range(1,414780):\n",
    "    faceset['width'].append(facedata[i][4])\n",
    "    faceset['facelandmark'].append(facedata[i][5])\n",
    "    faceset['expression'].append(int(facedata[i][6]))"
   ]
  },
  {
   "cell_type": "code",
   "execution_count": 4,
   "metadata": {},
   "outputs": [
    {
     "data": {
      "text/plain": [
       "dict_keys(['width', 'facelandmark', 'expression'])"
      ]
     },
     "execution_count": 4,
     "metadata": {},
     "output_type": "execute_result"
    }
   ],
   "source": [
    "faceset.keys()"
   ]
  },
  {
   "cell_type": "code",
   "execution_count": 5,
   "metadata": {},
   "outputs": [],
   "source": [
    "f.close()"
   ]
  },
  {
   "cell_type": "code",
   "execution_count": 6,
   "metadata": {},
   "outputs": [],
   "source": [
    "import pickle\n",
    "with open('faceset.pickle','wb') as f:\n",
    "    pickle.dump(faceset, f)"
   ]
  },
  {
   "cell_type": "markdown",
   "metadata": {},
   "source": [
    "### train, test set"
   ]
  },
  {
   "cell_type": "code",
   "execution_count": null,
   "metadata": {},
   "outputs": [],
   "source": [
    "trainset = {}\n",
    "trainset['width'] = faceset['width'][:40000]\n",
    "trainset['facelandmark'] = faceset\n",
    "trainset['expression'] = "
   ]
  }
 ],
 "metadata": {
  "kernelspec": {
   "display_name": "Python 3",
   "language": "python",
   "name": "python3"
  },
  "language_info": {
   "codemirror_mode": {
    "name": "ipython",
    "version": 3
   },
   "file_extension": ".py",
   "mimetype": "text/x-python",
   "name": "python",
   "nbconvert_exporter": "python",
   "pygments_lexer": "ipython3",
   "version": "3.6.6"
  }
 },
 "nbformat": 4,
 "nbformat_minor": 2
}
