{
 "cells": [
  {
   "cell_type": "code",
   "execution_count": 53,
   "metadata": {},
   "outputs": [
    {
     "name": "stdout",
     "output_type": "stream",
     "text": [
      "[{'faceRectangle': {'top': 887, 'left': 846, 'width': 612, 'height': 612}, 'faceAttributes': {'emotion': {'anger': 0.0, 'contempt': 0.0, 'disgust': 0.0, 'fear': 0.0, 'happiness': 0.0, 'neutral': 1.0, 'sadness': 0.0, 'surprise': 0.0}}}]\n"
     ]
    }
   ],
   "source": [
    "import requests\n",
    "# If you are using a Jupyter notebook, uncomment the following line.\n",
    "#%matplotlib inline\n",
    "import matplotlib.pyplot as plt\n",
    "from PIL import Image\n",
    "from io import BytesIO\n",
    "\n",
    "# Replace <Subscription Key> with your valid subscription key.\n",
    "subscription_key = \"173bd422f7a94a07887cd4a29b3c29fb\"\n",
    "assert subscription_key\n",
    "\n",
    "# You must use the same region in your REST call as you used to get your\n",
    "# subscription keys. For example, if you got your subscription keys from\n",
    "# westus, replace \"westcentralus\" in the URI below with \"westus\".\n",
    "#\n",
    "# Free trial subscription keys are generated in the westcentralus region.\n",
    "# If you use a free trial subscription key, you shouldn't need to change\n",
    "# this region.\n",
    "vision_base_url = \"https://westcentralus.api.cognitive.microsoft.com/face/v1.0/detect\"\n",
    "\n",
    "# Set image_path to the local path of an image that you want to analyze.\n",
    "image_path = \"image/lena.jpg\"\n",
    "\n",
    "# Read the image into a byte array\n",
    "image_data = open(image_path, \"rb\").read()\n",
    "headers    = {'Ocp-Apim-Subscription-Key': subscription_key,\n",
    "              'Content-Type': 'application/octet-stream'}\n",
    "params = {\n",
    "    'returnFaceId': 'false',\n",
    "    'returnFaceLandmarks': 'false',\n",
    "    'returnFaceAttributes': 'emotion'\n",
    "}\n",
    "response = requests.post(\n",
    "    vision_base_url, headers=headers, params=params, data=image_data)\n",
    "response.raise_for_status()\n",
    "\n",
    "# The 'analysis' object contains various fields that describe the image. The most\n",
    "# relevant caption for the image is obtained from the 'description' property.\n",
    "analysis = response.json()\n",
    "print(analysis)\n"
   ]
  },
  {
   "cell_type": "code",
   "execution_count": 64,
   "metadata": {},
   "outputs": [],
   "source": [
    "emotion = analysis[0]['faceAttributes']['emotion']"
   ]
  },
  {
   "cell_type": "code",
   "execution_count": 82,
   "metadata": {},
   "outputs": [
    {
     "name": "stdout",
     "output_type": "stream",
     "text": [
      "[('anger', 0.0), ('contempt', 0.0), ('disgust', 0.0), ('fear', 0.0), ('happiness', 0.0), ('neutral', 1.0), ('sadness', 0.0), ('surprise', 0.0)]\n",
      "[0.0, 0.0, 0.0, 0.0, 0.0, 1.0, 0.0, 0.0]\n",
      "['anger', 'contempt', 'disgust', 'fear', 'happiness', 'neutral', 'sadness', 'surprise']\n"
     ]
    }
   ],
   "source": [
    "#dict => list\n",
    "emotion_list = [(k,emotion[k]) for k in emotion]\n",
    "print(emotion_list)\n",
    "emotion_score = [emotion[k] for k in emotion]\n",
    "print(emotion_score)\n",
    "emotion_class = [k for k in emotion]\n",
    "print(emotion_class)\n"
   ]
  },
  {
   "cell_type": "code",
   "execution_count": 85,
   "metadata": {},
   "outputs": [
    {
     "name": "stdout",
     "output_type": "stream",
     "text": [
      "neutral\n"
     ]
    }
   ],
   "source": [
    "import numpy as np\n",
    "\n",
    "emotion_score = np.array(emotion_score)\n",
    "np.argmax(emotion_score)\n",
    "print(emotion_class[np.argmax(emotion_score)])\n",
    "\n",
    "def save_emotion(image_path,emotion):\n",
    "    frame = cv2.imread(image_path, cv2.IMREAD_COLOR)\n",
    "    \n",
    "    #data 정제(score, class)\n",
    "    emotion_list = [(k,emotion[k]) for k in emotion]\n",
    "    emotion_score = [emotion[k] for k in emotion]\n",
    "    emotion_class = [k for k in emotion]\n",
    "\n",
    "    emotion_score = np.array(emotion_score)\n",
    "    selected_class = emotion_class[np.argmax(emotion_score)]\n",
    "\n",
    "    cv2.imwrite('image/emotion/'+str(selected_class)+'/name.jpg')\n"
   ]
  },
  {
   "cell_type": "code",
   "execution_count": null,
   "metadata": {},
   "outputs": [],
   "source": []
  }
 ],
 "metadata": {
  "kernelspec": {
   "display_name": "Python 3",
   "language": "python",
   "name": "python3"
  },
  "language_info": {
   "codemirror_mode": {
    "name": "ipython",
    "version": 3
   },
   "file_extension": ".py",
   "mimetype": "text/x-python",
   "name": "python",
   "nbconvert_exporter": "python",
   "pygments_lexer": "ipython3",
   "version": "3.6.6"
  }
 },
 "nbformat": 4,
 "nbformat_minor": 2
}
