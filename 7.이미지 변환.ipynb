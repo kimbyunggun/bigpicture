{
 "cells": [
  {
   "cell_type": "markdown",
   "metadata": {},
   "source": [
    "# 이미지 리사이징"
   ]
  },
  {
   "cell_type": "code",
   "execution_count": 9,
   "metadata": {},
   "outputs": [],
   "source": [
    "import numpy as np\n",
    "import cv2\n",
    "\n",
    "def transform():\n",
    "    img = cv2.imread('facesets/people1.jpg')\n",
    "    img.shape\n",
    "    \n",
    "    img2 = cv2.resize(img, None, fx=0.5, fy=1, interpolation=cv2.INTER_AREA)\n",
    "    img3 = cv2.resize(img, (50,50), interpolation=cv2.INTER_AREA)\n",
    "    img4 = cv2.resize(img, None, fx=0.5, fy=0.5, interpolation=cv2.INTER_AREA)\n",
    "    \n",
    "    cv2.imshow('original', img)\n",
    "    cv2.imshow('fx=0.5', img2)\n",
    "    cv2.imshow('fx=0.5', img3)\n",
    "    cv2.imshow('fx=0.5, fy=0.5', img4)\n",
    "    \n",
    "    cv2.waitKey(0)\n",
    "    cv2.destroyAllWindows()\n",
    "    \n",
    "transform()"
   ]
  },
  {
   "cell_type": "markdown",
   "metadata": {},
   "source": [
    "cv2.resize()\n",
    "- img: 리사이징 할 이미지 워논\n",
    "- None: dsize를 나타내는 튜플 값으로 (가로방향 픽셀수, 세로방향 픽셀수)로 나타낸다. \n",
    "- fx, fy: 각각 가로방향, 세로 방향으로 배율 인자 0.5로 지정하면 원래크기의 0.5로 리사이징 하라는 의미\n",
    "- interpolation: 리사이징 을 수행할 때 적용할 방법 \n",
    "1. INTER_NEAREST\n",
    "2. INTER_LINEAR\n",
    "3. INTER_AREA\n",
    "4. INTER_CUBIC\n",
    "5. INTER_LANCZOS4"
   ]
  },
  {
   "cell_type": "markdown",
   "metadata": {},
   "source": [
    "# 이미지 이동"
   ]
  },
  {
   "cell_type": "markdown",
   "metadata": {},
   "source": [
    "x, y 방향으로 일정한 양만큼 선형으로 이동시키는 방법"
   ]
  },
  {
   "cell_type": "code",
   "execution_count": 3,
   "metadata": {},
   "outputs": [],
   "source": [
    "import numpy as np\n",
    "import cv2\n",
    "\n",
    "def transform():\n",
    "    img = cv2.imread('image/lena.jpg')\n",
    "    h, w = img.shape[:2]\n",
    "    \n",
    "    #x를 100, y를 50 이동시키는 매트릭스 \n",
    "    M = np.float32([[1,0,100],[0,1,50]])\n",
    "    \n",
    "    img2 = cv2.warpAffine(img, M,(w,h))\n",
    "    cv2.imshow('shift image', img2)\n",
    "\n",
    "    cv2.waitKey(0)\n",
    "    cv2.destroyAllWindows()\n",
    "    \n",
    "transform()"
   ]
  },
  {
   "cell_type": "markdown",
   "metadata": {},
   "source": [
    "# 이미지 회전"
   ]
  },
  {
   "cell_type": "code",
   "execution_count": 5,
   "metadata": {},
   "outputs": [],
   "source": [
    "import numpy as np\n",
    "import cv2\n",
    "\n",
    "def transform():\n",
    "    img =  cv2.imread('image/lena.jpg')\n",
    "    h, w = img.shape[:2]\n",
    "    \n",
    "    M1 = cv2.getRotationMatrix2D((w/2, h/2), 45, 1)\n",
    "    M2 = cv2.getRotationMatrix2D((w/2, h/2), 90, 1)\n",
    "    \n",
    "    img2 = cv2.warpAffine(img, M1, (w, h))\n",
    "    img3 = cv2.warpAffine(img, M2, (w, h))\n",
    "    \n",
    "    cv2.imshow('45-Rotated', img2)\n",
    "    cv2.imshow('90-Rotated', img3)\n",
    "    \n",
    "    cv2.waitKey(0)\n",
    "    cv2.destroyAllWindows()\n",
    "    \n",
    "transform()"
   ]
  },
  {
   "cell_type": "markdown",
   "metadata": {},
   "source": [
    "cv2.getRotationMatrix2D((x,y), degree, scale)\n",
    "- 원본 이미지 무게중심을 회전중심으로 하고 각각의 각도에 따른 스케일에 따라 맞춰진 행렬을 만든다."
   ]
  },
  {
   "cell_type": "code",
   "execution_count": null,
   "metadata": {},
   "outputs": [],
   "source": []
  }
 ],
 "metadata": {
  "kernelspec": {
   "display_name": "Python 3",
   "language": "python",
   "name": "python3"
  },
  "language_info": {
   "codemirror_mode": {
    "name": "ipython",
    "version": 3
   },
   "file_extension": ".py",
   "mimetype": "text/x-python",
   "name": "python",
   "nbconvert_exporter": "python",
   "pygments_lexer": "ipython3",
   "version": "3.6.6"
  }
 },
 "nbformat": 4,
 "nbformat_minor": 2
}
