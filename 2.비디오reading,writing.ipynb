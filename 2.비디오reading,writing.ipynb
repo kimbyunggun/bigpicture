{
 "cells": [
  {
   "cell_type": "markdown",
   "metadata": {},
   "source": [
    "## 카메라로부터 비디오 캡쳐하기"
   ]
  },
  {
   "cell_type": "markdown",
   "metadata": {},
   "source": [
    "카메라로 들어오는 영상을 가지고 영상을 캡쳐하고 싶을 때 OpenCV는 간단한 인터페이스를 제공하고 있다.\n",
    "\n",
    "PC에 웹캠이 달려있으면 이 카메라를 통해 들어오는 영상을 흑백영상으로 변환하여 디스플레이하는 프로그램을 만들것이다. "
   ]
  },
  {
   "cell_type": "code",
   "execution_count": 3,
   "metadata": {},
   "outputs": [
    {
     "name": "stdout",
     "output_type": "stream",
     "text": [
      "카메라를 구동합니다.\n"
     ]
    }
   ],
   "source": [
    "import numpy as np\n",
    "import cv2\n",
    "\n",
    "def showVideo():\n",
    "    try:\n",
    "        print('카메라를 구동합니다.')\n",
    "        cap = cv2.VideoCapture(0)#장치 인덱스(개수 0,1,2...) 또는 비디오파일 이)름 지정\n",
    "    except:\n",
    "        print('카메라 구동 실패')\n",
    "        return\n",
    "    \n",
    "    cap.set(3, 480)\n",
    "    cap.set(4, 320)\n",
    "    \n",
    "    while True: #비디오를 프레임별캡쳐하기 위해서 무한루프\n",
    "        #cap.read()를 통해 비디오의 프래임을 읽어온다. \n",
    "        #ret은 비디오프레임이 잘 읽혀오는지 확인하는 것(True/False)\n",
    "        #frame은 비디오데이터\n",
    "        ret, frame = cap.read() \n",
    "        \n",
    "        if not ret:\n",
    "            print('비디오 읽기 오류')\n",
    "            break\n",
    "        \n",
    "        gray = cv2.cvtColor(frame, cv2.COLOR_BGR2GRAY) #프레임을 흑백으로 변환\n",
    "        cv2.imshow('video',gray)\n",
    "        \n",
    "        k = cv2.waitKey(1) & 0xFF\n",
    "        if k ==27:\n",
    "            break\n",
    "        \n",
    "    cap.release() #오픈한 cap객체를 cap.releas()를 이용해 해제시킴\n",
    "    cv2.destroyAllWindows()\n",
    "    \n",
    "showVideo()"
   ]
  },
  {
   "cell_type": "markdown",
   "metadata": {},
   "source": [
    "필요하다면 cap.get()함수를 이용해서 비디오와 관련된 다양한 속상값을 취할 수 있습니다. 이 함수안에 인자는 비디오 속성값ID이며 숫자는 0-18까지 입니다.\n",
    "\n",
    "만약에 비디오 프레임의 폭과 높이를 알고 싶으면 cap.get(3),cap.get(4)의 값을 확인하면 됩니다. 새로운 설정을 하기 위해서는 cap.set()함수를 사용하여 프레임크기를 지정할 수 있습니다. https://docs.opencv.org/2.4/modules/highgui/doc/reading_and_writing_images_and_video.html#videocapture-get"
   ]
  },
  {
   "cell_type": "markdown",
   "metadata": {},
   "source": [
    " ## 비디오파일 재생하기\n"
   ]
  },
  {
   "cell_type": "markdown",
   "metadata": {},
   "source": [
    "앞에서 했듯이 cv2.VideoCapture()함수의 인자로 비디오 파일의 경로를 포함한 파일이름을 정해주면 된다."
   ]
  },
  {
   "cell_type": "markdown",
   "metadata": {},
   "source": [
    "## 비디오 저장하기 또는 녹화"
   ]
  },
  {
   "cell_type": "markdown",
   "metadata": {},
   "source": [
    "재생하는 비디오 또는 라이브 비디오 스트림을 파일로 저장하는 방법이다. "
   ]
  },
  {
   "cell_type": "markdown",
   "metadata": {},
   "source": [
    "우리가 할것은 웹캠에서 전송되는 비디오 스트림을 웹캠 비디오프레임 크기 그대로  DIVX코덱을 적용하여 초당 프래임수 20d으로 'mycam.avi'라는 파일에 저장하는 방법이다. ESC를 누르면 비디오 저장이 멈춘 후 프로그램을 종료한다. "
   ]
  },
  {
   "cell_type": "code",
   "execution_count": null,
   "metadata": {},
   "outputs": [],
   "source": [
    "import numpy as np\n",
    "import cv2\n",
    "\n",
    "def showVideo():\n",
    "    try:\n",
    "        print('카메라를 구동합니다.')\n",
    "        cap = cv2.VideoCapture(0)\n",
    "    except:\n",
    "        print('카메라 구동 실패')\n",
    "        return\n",
    "    \n",
    "    #프레임과 넓이 길이 지정\n",
    "    fps = 20.0\n",
    "    width = int(cap.set(3, 480))\n",
    "    height = int(cap.set(4, 320))\n",
    "    fcc = cv2.VideoWriter_fourcc('D','I','V','X')\n",
    "    \n",
    "    out = cv2.VideoWriter('mycam.avi',fcc,fps,(width,height))\n",
    "    print('녹화를 시작합니다.')\n",
    "    \n",
    "    while True: \n",
    "        ret, frame = cap.read()\n",
    "        \n",
    "        #frame = cv2.flip(frame,0) => 재생되는 화면이 거꾸로 보임\n",
    "        if not ret:\n",
    "            print('비디오 읽기 오류')\n",
    "            break\n",
    "        \n",
    "        cv2.imshow('video', frame)\n",
    "        out.write(frame)\n",
    "        \n",
    "        k = cv2.waitKey(1) & 0xFF\n",
    "        if k ==27:\n",
    "            print('녹화를 종료합니다.')\n",
    "            break\n",
    "        \n",
    "    #프로그램 종료하기    \n",
    "    cap.release() \n",
    "    out.release()\n",
    "    cv2.destroyAllWindows()\n",
    "    \n",
    "    \n",
    "\n",
    "showVideo()"
   ]
  },
  {
   "cell_type": "markdown",
   "metadata": {},
   "source": [
    "- DIVX코덱을 적용하기 위해서 cv2.Videowriter_fource() 사용\n",
    "코덱 종류는 다음과 같다. (DIVX,XVID,MJPG,X264,WMV1,WMV2)\n",
    "- 비디오 저장을 위한 객채 out = cv2.VideoWriter()\n",
    "- out.write(frame) frame에 대한 내용을 저장"
   ]
  }
 ],
 "metadata": {
  "kernelspec": {
   "display_name": "Python 3",
   "language": "python",
   "name": "python3"
  },
  "language_info": {
   "codemirror_mode": {
    "name": "ipython",
    "version": 3
   },
   "file_extension": ".py",
   "mimetype": "text/x-python",
   "name": "python",
   "nbconvert_exporter": "python",
   "pygments_lexer": "ipython3",
   "version": "3.6.6"
  }
 },
 "nbformat": 4,
 "nbformat_minor": 2
}
