{
 "cells": [
  {
   "cell_type": "markdown",
   "metadata": {},
   "source": [
    "Threshold는 문턱이라는 뜻으로 어떤 기준에 해당하는 문턱값(Thresholding Value)를 기준으로 상황이 급격하게 변화되는 것을 나타낸다. 예를 들어 반올림을 생각하면 0.5라는 숫자를 기준으로 이보다 작으면 0, 크면 1이 되는 것을 봤을 때 0.5가 문턱값이 된다. "
   ]
  },
  {
   "cell_type": "markdown",
   "metadata": {},
   "source": [
    "이미지 프로세싱에 thresholding을 적용하기 위해 grayscale 이미지로 변환하여 적용한다."
   ]
  },
  {
   "cell_type": "markdown",
   "metadata": {},
   "source": [
    "# Global Thresholding"
   ]
  },
  {
   "cell_type": "markdown",
   "metadata": {},
   "source": [
    "opencv에서 하나의 이미지에 전역으로 적용될 하나의 문턱값을 이용해 thresholding 기능을 제공하는 함수가 있다."
   ]
  },
  {
   "cell_type": "markdown",
   "metadata": {},
   "source": [
    "cv2.threshold(img, thoeshold_value,value,flag)\n",
    "- img : Grayscale 이미지\n",
    "- threshold_value : 픽셀문턱값\n",
    "- value : 픽셀 문턱값보다 클 때 적용되는 최대값(flag에 따라 적용된다.)\n",
    "- flag : 문턱값 적용 방법 \n",
    "   \n",
    "    1) cv2.THRESH_BINARY:픽셀값이 threshold_value 보다 크면 value, 작으면 0 할당\n",
    "\n",
    "    2) cv2.THRESH_BINARY_INV: 픽셀값이 threshold_value보다 크면 0, 작으면  value 할당\n",
    "\n",
    "    3) cv2.THRESH_TRUNC : 픽셀값이 threshold_value 보다 크면 threshold_value, 작으면 픽셀 값 그대로 할당\n",
    "\n",
    "    4) cv2.THRESH_TOERO : 픽셀값이 threshold_value 보다 크면 픽셀값 그대로, 작으면 0 할당\n",
    "   \n",
    "    5) cv2.THRESH_TOZERO_INV : 픽셀값이 threshold_value보다 크면 0, 작으면 픽셀 값 그대로 할당"
   ]
  },
  {
   "cell_type": "code",
   "execution_count": 4,
   "metadata": {},
   "outputs": [],
   "source": [
    "import numpy as np\n",
    "import cv2\n",
    "\n",
    "img = cv2.imread('image/Lenna.png', cv2.IMREAD_GRAYSCALE)\n",
    "\n",
    "ret, thr1 = cv2.threshold(img, 127, 255, cv2.THRESH_BINARY)\n",
    "ret, thr2 = cv2.threshold(img, 127, 255, cv2.THRESH_BINARY_INV)\n",
    "ret, thr3 = cv2.threshold(img, 127, 255, cv2.THRESH_TRUNC)\n",
    "ret, thr4 = cv2.threshold(img, 127, 255, cv2.THRESH_TOZERO)\n",
    "ret, thr5 = cv2.threshold(img, 127, 255, cv2.THRESH_TOZERO_INV)\n",
    "\n",
    "cv2.imshow('original',img)\n",
    "cv2.imshow('BINARY', thr1)\n",
    "cv2.imshow('BINARY_INV',thr2)\n",
    "cv2.imshow('TRUNC',thr3)\n",
    "cv2.imshow('TOZERO',thr4)\n",
    "cv2.imshow('TOZERO_INV',thr5)\n",
    "\n",
    "cv2.waitKey(0)\n",
    "cv2.destroyAllWindows()\n"
   ]
  },
  {
   "cell_type": "markdown",
   "metadata": {},
   "source": [
    "# Adaptive Thresholding"
   ]
  },
  {
   "cell_type": "markdown",
   "metadata": {},
   "source": [
    "앞에 설명한 cv2.threshold()함수를 이용한 global thresholding방법은 이미지 전반에 걸쳐 적용되는 하나의 문턱값을 활용한 로직을 사용했습니다. 이 방법은 이미지의 각 부분의 광원 조건에 따라 이미지 프로세싱을 함에 있어 효과적인 방법이 아닐 수 있습니다. "
   ]
  },
  {
   "cell_type": "markdown",
   "metadata": {},
   "source": [
    "Adaptive Thresholding은 이미지의 서로 다른 작은 역역에  적용되는 문턱값을 계산하고 이를 이미지에 적용함으로써 보다 나은 결과를 도출하는데 사용되는 방법입니다. \n"
   ]
  },
  {
   "cell_type": "markdown",
   "metadata": {},
   "source": [
    "cv2.adaptiveThreshold(img, value, adaptivMethod, thresholdType,blocksize,C)\n",
    "\n",
    "- img : Grayscale 이미지\n",
    "- value : adaptiveMethod에 의해 계산된 문턱값과 thresholdType에 의해 픽셀에 적용될 최대값\n",
    "- adaptiveMethod : 사용할 Adaptive Thresholding 알고리즘\n",
    "\n",
    "    1) cv2.ADAPTIVE_THRESH_MEAN_C:적용할 픽셀(x,y)를 중심으로 하는 blocksize * blocksize 안에 있는 픽셀값의 평균에서 C를 뺀 값을 문턱값으로 함\n",
    "    \n",
    "    2) cv2.ADAPTIVE_THRESH_GAUSSIAN_C: 적용할 픽셀(x,y)를 중심으로 하는 blocksize * blocksize 안에 있는 gaussian 윈도우 기반 가중치들의 합에서 c를 뺀 값을 문턱값으로 함\n",
    "\n",
    "\n",
    "- blocksize : 픽셀에 적용할 문턱값을 계산하기 위한 블럭 크기, 적용될 픽셀이 블럭의 중심이 됨, 따라서 blocksize는 홀수여야 함\n",
    "-  C : 보정상수로 이 값이 양수이면 adaptive 문턱값에서 빼고, 음수이면 더해줌"
   ]
  },
  {
   "cell_type": "code",
   "execution_count": 27,
   "metadata": {},
   "outputs": [],
   "source": [
    "import numpy as np\n",
    "import cv2\n",
    "\n",
    "def thresholding():\n",
    "    img = cv2.imread('image/Lenna.png', cv2.IMREAD_GRAYSCALE)\n",
    "    \n",
    "    ret, thr1 = cv2.threshold(img, 150, 255, cv2.THRESH_BINARY)\n",
    "    thr2 = cv2.adaptiveThreshold(img, 255, cv2.ADAPTIVE_THRESH_MEAN_C, cv2.THRESH_BINARY, 11, 6)\n",
    "    thr3 = cv2.adaptiveThreshold(img, 255, cv2.ADAPTIVE_THRESH_GAUSSIAN_C, cv2.THRESH_BINARY, 11, 6)\n",
    "    \n",
    "    titles = [ 'original', 'Global Thresholding(v=127)','Adaptive  MEAN', 'Adaptive GAUSSIAN']\n",
    "    images = [img, thr1, thr2, thr3]\n",
    "    \n",
    "    for i in range(4):\n",
    "        cv2.namedWindow(titles[i],cv2.WINDOW_NORMAL)\n",
    "        cv2.imshow(titles[i], images[i])\n",
    "        \n",
    "    cv2.waitKey(0)\n",
    "    cv2.destroyAllWindows()\n",
    "    \n",
    "thresholding()"
   ]
  },
  {
   "cell_type": "markdown",
   "metadata": {},
   "source": [
    "# Otus's Binariztion"
   ]
  },
  {
   "cell_type": "markdown",
   "metadata": {},
   "source": [
    "global thresholding 방법에서 문턱값으로 우리가 정한 임이의 값을 사용했습니다. 그런데 어떤 이미지에 적용되어 가장 좋은 결과를 내놓게 될 문턱값은 어떻게 얻을 수 있을까요? 정답은 시행착오를 거치는 방법입니다. \n",
    "\n",
    "만약 이미지 히스토그램이 두개의 봉우리를 가지는 bimodal이미지라고 하면 이 이미지에 대한 문턱값으로 두 봉우리 사이의 값을 취하면 가장 좋은 결과를 얻을 수 있습니다. \n",
    "\n",
    "Otsu Binarization은 이미지 히스토그램을 분석한 후 중간값을 취하여 thresholding 합니다.\n"
   ]
  },
  {
   "cell_type": "code",
   "execution_count": 11,
   "metadata": {},
   "outputs": [],
   "source": [
    "%matplotlib tk # 외부창에 그래프를 작성하는 방법\n",
    "#%matplotlib inline\n",
    "import numpy as np\n",
    "import cv2\n",
    "import matplotlib.pyplot as plt\n",
    "\n",
    "def thresholding():\n",
    "    img =  cv2.imread('image/Lenna.png',cv2.IMREAD_GRAYSCALE)\n",
    "    \n",
    "    #전역 thresholding 적용\n",
    "    ret, thr1 = cv2.threshold(img, 127, 255, cv2.THRESH_BINARY)\n",
    "    \n",
    "    # Otsu 바이너리제이션 (value를 0, flag에 cv2.THRSH_OTSU더함)\n",
    "    ret, thr2 = cv2.threshold(img, 0, 255, cv2.THRESH_BINARY+cv2.THRESH_OTSU)\n",
    "    \n",
    "    #가우시안 불러 적용 후 Otus 바이너리제이션\n",
    "    blur = cv2.GaussianBlur(img, (5,5), 0)\n",
    "    ret, thr3 = cv2.threshold(blur, 0, 255, cv2.THRESH_BINARY+cv2.THRESH_OTSU)\n",
    "    \n",
    "    titles = ['original noisy', 'Histogram', 'G-Thresholding', \n",
    "             'original noisy', 'Histogram', 'Otsu Thresholding',\n",
    "             'Gaussian-filtered', 'Histogram', 'Otsu Thresholding']\n",
    "    \n",
    "    images = [img, 0, thr1, img, 0, thr2, blur, 0, thr3]\n",
    "    \n",
    "    for i in range(3):\n",
    "        plt.subplot(3, 3, i*3+1), plt.imshow(images[i*3], 'gray')\n",
    "        plt.title(titles[i*3]), plt.xticks([]), plt.yticks([])\n",
    "        \n",
    "        plt.subplot(3, 3, i*3+2), plt.hist(images[i*3].ravel(), 256)\n",
    "        plt.title(titles[i*3+1]), plt.xticks([]), plt.yticks([])\n",
    "        \n",
    "        plt.subplot(3, 3, i*3+3), plt.imshow(images[i*3+2], 'gray')\n",
    "        plt.title(titles[i*3+2]), plt.xticks([]), plt.yticks([])\n",
    "        \n",
    "\n",
    "    plt.show()\n",
    "\n",
    "thresholding()"
   ]
  },
  {
   "cell_type": "code",
   "execution_count": null,
   "metadata": {},
   "outputs": [],
   "source": []
  }
 ],
 "metadata": {
  "kernelspec": {
   "display_name": "Python 3",
   "language": "python",
   "name": "python3"
  },
  "language_info": {
   "codemirror_mode": {
    "name": "ipython",
    "version": 3
   },
   "file_extension": ".py",
   "mimetype": "text/x-python",
   "name": "python",
   "nbconvert_exporter": "python",
   "pygments_lexer": "ipython3",
   "version": "3.7.0"
  }
 },
 "nbformat": 4,
 "nbformat_minor": 2
}
